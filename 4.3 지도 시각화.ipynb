{
 "cells": [
  {
   "cell_type": "markdown",
   "metadata": {},
   "source": [
    "### 지도 시각화 과정"
   ]
  },
  {
   "cell_type": "code",
   "execution_count": 1,
   "metadata": {},
   "outputs": [],
   "source": [
    "# 인스타그램 게시글에는 위치 정보를 입력할 수 있다\n",
    "# 이러한 위치 정보를 수집한 뒤, 네이버 API를 활용해 위도/경도 좌표로 반환하고 folium 라이브러리를 활용해 지도에 표시"
   ]
  },
  {
   "cell_type": "markdown",
   "metadata": {},
   "source": [
    "### 데이터 준비"
   ]
  },
  {
   "cell_type": "code",
   "execution_count": 2,
   "metadata": {},
   "outputs": [
    {
     "data": {
      "text/html": [
       "<div>\n",
       "<style scoped>\n",
       "    .dataframe tbody tr th:only-of-type {\n",
       "        vertical-align: middle;\n",
       "    }\n",
       "\n",
       "    .dataframe tbody tr th {\n",
       "        vertical-align: top;\n",
       "    }\n",
       "\n",
       "    .dataframe thead th {\n",
       "        text-align: right;\n",
       "    }\n",
       "</style>\n",
       "<table border=\"1\" class=\"dataframe\">\n",
       "  <thead>\n",
       "    <tr style=\"text-align: right;\">\n",
       "      <th></th>\n",
       "      <th>Unnamed: 0</th>\n",
       "      <th>content</th>\n",
       "      <th>date</th>\n",
       "      <th>like</th>\n",
       "      <th>place</th>\n",
       "      <th>tags</th>\n",
       "    </tr>\n",
       "  </thead>\n",
       "  <tbody>\n",
       "    <tr>\n",
       "      <th>0</th>\n",
       "      <td>0</td>\n",
       "      <td>비주얼 그대로의 두툼한 흑돼지입니다⠀화산암반수를 먹인무항생제의 제주 흑돼지!품질을 ...</td>\n",
       "      <td>2020-12-31</td>\n",
       "      <td>0</td>\n",
       "      <td>NaN</td>\n",
       "      <td>['#중문맛집', '#서귀포맛집', '#제주맛집', '#제주도맛집', '#제주중문맛...</td>\n",
       "    </tr>\n",
       "    <tr>\n",
       "      <th>1</th>\n",
       "      <td>1</td>\n",
       "      <td>(광고)제주도민들도 인정한 맛집 #운정...</td>\n",
       "      <td>2021-01-02</td>\n",
       "      <td>0</td>\n",
       "      <td>NaN</td>\n",
       "      <td>['#운정이네.제주', '#제주도맛집', '#제주가...</td>\n",
       "    </tr>\n",
       "    <tr>\n",
       "      <th>2</th>\n",
       "      <td>2</td>\n",
       "      <td>광고★배달도가능?애월해안도로와제주공항근처 사이에이춘옥 원조고등어쌈밥👍네이버할인은 물...</td>\n",
       "      <td>2021-01-02</td>\n",
       "      <td>0</td>\n",
       "      <td>NaN</td>\n",
       "      <td>['#제주도맛집', '#제주맛집', '#애월맛집', '#고등어쌈밥', '#애월맛집추...</td>\n",
       "    </tr>\n",
       "    <tr>\n",
       "      <th>3</th>\n",
       "      <td>3</td>\n",
       "      <td>(광고)지만 꼭 추천해주고 싶은제주도 먹부림 코스!⠀시작은 역시👏제주도 흑돼지로제주...</td>\n",
       "      <td>2021-01-03</td>\n",
       "      <td>0</td>\n",
       "      <td>NaN</td>\n",
       "      <td>['#제주도맛집', '#제주가볼만한곳', '#제주애월맛집', '#제주핫플', '#제...</td>\n",
       "    </tr>\n",
       "    <tr>\n",
       "      <th>4</th>\n",
       "      <td>4</td>\n",
       "      <td>40년 평생 제주 바다를 터전으로 살아온 상군해녀가 직접 끓여낸 제주 보말미역국다른...</td>\n",
       "      <td>2021-01-01</td>\n",
       "      <td>0</td>\n",
       "      <td>고집돌우럭중문점</td>\n",
       "      <td>['#제주도맛집', '#제주맛집', '#드라이브스루', '#중문맛집', '#제주시맛...</td>\n",
       "    </tr>\n",
       "  </tbody>\n",
       "</table>\n",
       "</div>"
      ],
      "text/plain": [
       "   Unnamed: 0                                            content        date  \\\n",
       "0           0  비주얼 그대로의 두툼한 흑돼지입니다⠀화산암반수를 먹인무항생제의 제주 흑돼지!품질을 ...  2020-12-31   \n",
       "1           1  (광고)제주도민들도 인정한 맛집 #운정...  2021-01-02   \n",
       "2           2  광고★배달도가능?애월해안도로와제주공항근처 사이에이춘옥 원조고등어쌈밥👍네이버할인은 물...  2021-01-02   \n",
       "3           3  (광고)지만 꼭 추천해주고 싶은제주도 먹부림 코스!⠀시작은 역시👏제주도 흑돼지로제주...  2021-01-03   \n",
       "4           4  40년 평생 제주 바다를 터전으로 살아온 상군해녀가 직접 끓여낸 제주 보말미역국다른...  2021-01-01   \n",
       "\n",
       "  like     place                                               tags  \n",
       "0    0       NaN  ['#중문맛집', '#서귀포맛집', '#제주맛집', '#제주도맛집', '#제주중문맛...  \n",
       "1    0       NaN  ['#운정이네.제주', '#제주도맛집', '#제주가...  \n",
       "2    0       NaN  ['#제주도맛집', '#제주맛집', '#애월맛집', '#고등어쌈밥', '#애월맛집추...  \n",
       "3    0       NaN  ['#제주도맛집', '#제주가볼만한곳', '#제주애월맛집', '#제주핫플', '#제...  \n",
       "4    0  고집돌우럭중문점  ['#제주도맛집', '#제주맛집', '#드라이브스루', '#중문맛집', '#제주시맛...  "
      ]
     },
     "execution_count": 2,
     "metadata": {},
     "output_type": "execute_result"
    }
   ],
   "source": [
    "import pandas as pd\n",
    "raw_total = pd.read_excel('C:/Users/name_/Desktop/데이터분석/files/crawling_jejudoMatJip.xlsx')\n",
    "raw_total.head()"
   ]
  },
  {
   "cell_type": "code",
   "execution_count": 3,
   "metadata": {},
   "outputs": [
    {
     "data": {
      "text/plain": [
       "제주 협재 해수욕장                                      5\n",
       "Jeju                                            5\n",
       "애월해안도로                                          3\n",
       "여수                                              2\n",
       "Seoul, Korea                                    2\n",
       "제주귀더크                                           2\n",
       "사이카레                                            2\n",
       "월정리인카페                                          2\n",
       "제주도 해안도로                                        2\n",
       "月汀里海邊월정리해변                                      1\n",
       "영육일삼  贏六一三 06/13                                1\n",
       "노라바                                             1\n",
       "산지해장국                                           1\n",
       "순천미향                                            1\n",
       "Jeju Island                                     1\n",
       "Busan 釜山, South Korea                           1\n",
       "한라산 백록담 Hallasan MT Jeju-do  제주도 濟州島 漢拏山 白鹿潭    1\n",
       "노형 루스트                                          1\n",
       "Daegu                                           1\n",
       "제주 칠돈가                                          1\n",
       "당당 / Dang Dang                                  1\n",
       "고집돌우럭중문점                                        1\n",
       "넘은 봄: Last Spring JEJU                          1\n",
       "제주도                                             1\n",
       "Jeju-do                                         1\n",
       "Jeju Island, South Korea - 제주도                  1\n",
       "수두리보말칼국수                                        1\n",
       "한림해안도로                                          1\n",
       "환상의 섬 Jeju Island                               1\n",
       "하멜 제주                                           1\n",
       "Name: place, dtype: int64"
      ]
     },
     "execution_count": 3,
     "metadata": {},
     "output_type": "execute_result"
    }
   ],
   "source": [
    "#위치정보 가져오기\n",
    "location_counts = raw_total.place.value_counts() #위치 정보별로 빈도수 집계\n",
    "location_counts"
   ]
  },
  {
   "cell_type": "code",
   "execution_count": 4,
   "metadata": {},
   "outputs": [
    {
     "data": {
      "text/html": [
       "<div>\n",
       "<style scoped>\n",
       "    .dataframe tbody tr th:only-of-type {\n",
       "        vertical-align: middle;\n",
       "    }\n",
       "\n",
       "    .dataframe tbody tr th {\n",
       "        vertical-align: top;\n",
       "    }\n",
       "\n",
       "    .dataframe thead th {\n",
       "        text-align: right;\n",
       "    }\n",
       "</style>\n",
       "<table border=\"1\" class=\"dataframe\">\n",
       "  <thead>\n",
       "    <tr style=\"text-align: right;\">\n",
       "      <th></th>\n",
       "      <th>place</th>\n",
       "    </tr>\n",
       "  </thead>\n",
       "  <tbody>\n",
       "    <tr>\n",
       "      <th>제주 협재 해수욕장</th>\n",
       "      <td>5</td>\n",
       "    </tr>\n",
       "    <tr>\n",
       "      <th>Jeju</th>\n",
       "      <td>5</td>\n",
       "    </tr>\n",
       "    <tr>\n",
       "      <th>애월해안도로</th>\n",
       "      <td>3</td>\n",
       "    </tr>\n",
       "    <tr>\n",
       "      <th>여수</th>\n",
       "      <td>2</td>\n",
       "    </tr>\n",
       "    <tr>\n",
       "      <th>Seoul, Korea</th>\n",
       "      <td>2</td>\n",
       "    </tr>\n",
       "  </tbody>\n",
       "</table>\n",
       "</div>"
      ],
      "text/plain": [
       "              place\n",
       "제주 협재 해수욕장        5\n",
       "Jeju              5\n",
       "애월해안도로            3\n",
       "여수                2\n",
       "Seoul, Korea      2"
      ]
     },
     "execution_count": 4,
     "metadata": {},
     "output_type": "execute_result"
    }
   ],
   "source": [
    "location_counts_df = pd.DataFrame(location_counts)\n",
    "location_counts_df.head()"
   ]
  },
  {
   "cell_type": "code",
   "execution_count": 5,
   "metadata": {},
   "outputs": [],
   "source": [
    "#위치정보의 빈도수 데이터 저장\n",
    "location_counts_df.to_excel('C:/Users/name_/Desktop/데이터분석/files/location_counts.xlsx')"
   ]
  },
  {
   "cell_type": "code",
   "execution_count": 6,
   "metadata": {},
   "outputs": [
    {
     "data": {
      "text/plain": [
       "['제주 협재 해수욕장',\n",
       " 'Jeju',\n",
       " '애월해안도로',\n",
       " '여수',\n",
       " 'Seoul, Korea',\n",
       " '제주귀더크',\n",
       " '사이카레',\n",
       " '월정리인카페',\n",
       " '제주도 해안도로',\n",
       " '月汀里海邊월정리해변',\n",
       " '영육일삼  贏六一三 06/13',\n",
       " '노라바',\n",
       " '산지해장국',\n",
       " '순천미향',\n",
       " 'Jeju Island',\n",
       " 'Busan 釜山, South Korea',\n",
       " '한라산 백록담 Hallasan MT Jeju-do  제주도 濟州島 漢拏山 白鹿潭',\n",
       " '노형 루스트',\n",
       " 'Daegu',\n",
       " '제주 칠돈가',\n",
       " '당당 / Dang Dang',\n",
       " '고집돌우럭중문점',\n",
       " '넘은 봄: Last Spring JEJU',\n",
       " '제주도',\n",
       " 'Jeju-do',\n",
       " 'Jeju Island, South Korea - 제주도',\n",
       " '수두리보말칼국수',\n",
       " '한림해안도로',\n",
       " '환상의 섬 Jeju Island',\n",
       " '하멜 제주']"
      ]
     },
     "execution_count": 6,
     "metadata": {},
     "output_type": "execute_result"
    }
   ],
   "source": [
    "locations = list(location_counts.index)\n",
    "locations"
   ]
  },
  {
   "cell_type": "markdown",
   "metadata": {},
   "source": [
    "### 카카오 지도 API를 활용한 장소 검색"
   ]
  },
  {
   "cell_type": "code",
   "execution_count": 7,
   "metadata": {},
   "outputs": [
    {
     "data": {
      "text/plain": [
       "[{'address_name': '서울 마포구 서교동 395-166',\n",
       "  'category_group_code': 'CE7',\n",
       "  'category_group_name': '카페',\n",
       "  'category_name': '음식점 > 카페 > 커피전문점 > 스타벅스',\n",
       "  'distance': '',\n",
       "  'id': '26572121',\n",
       "  'phone': '',\n",
       "  'place_name': '스타벅스 서교점',\n",
       "  'place_url': 'http://place.map.kakao.com/26572121',\n",
       "  'road_address_name': '서울 마포구 양화로 78',\n",
       "  'x': '126.916980454434',\n",
       "  'y': '37.5514601750423'},\n",
       " {'address_name': '서울 마포구 합정동 472',\n",
       "  'category_group_code': 'CE7',\n",
       "  'category_group_name': '카페',\n",
       "  'category_name': '음식점 > 카페 > 커피전문점 > 스타벅스',\n",
       "  'distance': '',\n",
       "  'id': '2057327896',\n",
       "  'phone': '1522-3232',\n",
       "  'place_name': '스타벅스 합정점',\n",
       "  'place_url': 'http://place.map.kakao.com/2057327896',\n",
       "  'road_address_name': '서울 마포구 월드컵로1길 14',\n",
       "  'x': '126.91211392586314',\n",
       "  'y': '37.54981773755399'},\n",
       " {'address_name': '서울 마포구 서교동 490',\n",
       "  'category_group_code': 'CE7',\n",
       "  'category_group_name': '카페',\n",
       "  'category_name': '음식점 > 카페 > 커피전문점 > 스타벅스',\n",
       "  'distance': '',\n",
       "  'id': '288597324',\n",
       "  'phone': '',\n",
       "  'place_name': '스타벅스 합정폴리스R점',\n",
       "  'place_url': 'http://place.map.kakao.com/288597324',\n",
       "  'road_address_name': '서울 마포구 양화로 45',\n",
       "  'x': '126.91340049045',\n",
       "  'y': '37.5508989849269'},\n",
       " {'address_name': '서울 마포구 서교동 490',\n",
       "  'category_group_code': 'CE7',\n",
       "  'category_group_name': '카페',\n",
       "  'category_name': '음식점 > 카페 > 커피전문점 > 스타벅스',\n",
       "  'distance': '',\n",
       "  'id': '27076117',\n",
       "  'phone': '1522-3232',\n",
       "  'place_name': '스타벅스 합정메세나몰점',\n",
       "  'place_url': 'http://place.map.kakao.com/27076117',\n",
       "  'road_address_name': '서울 마포구 양화로 45',\n",
       "  'x': '126.913541853312',\n",
       "  'y': '37.5500016943689'},\n",
       " {'address_name': '서울 마포구 서교동 475-13',\n",
       "  'category_group_code': 'CE7',\n",
       "  'category_group_name': '카페',\n",
       "  'category_name': '음식점 > 카페 > 커피전문점 > 스타벅스',\n",
       "  'distance': '',\n",
       "  'id': '12776689',\n",
       "  'phone': '1522-3232',\n",
       "  'place_name': '스타벅스 망원역점',\n",
       "  'place_url': 'http://place.map.kakao.com/12776689',\n",
       "  'road_address_name': '서울 마포구 월드컵로 74',\n",
       "  'x': '126.91071941264',\n",
       "  'y': '37.5557803955969'},\n",
       " {'address_name': '서울 마포구 서교동 374-20',\n",
       "  'category_group_code': 'CE7',\n",
       "  'category_group_name': '카페',\n",
       "  'category_name': '음식점 > 카페 > 커피전문점 > 스타벅스',\n",
       "  'distance': '',\n",
       "  'id': '27416913',\n",
       "  'phone': '',\n",
       "  'place_name': '스타벅스 서교동사거리',\n",
       "  'place_url': 'http://place.map.kakao.com/27416913',\n",
       "  'road_address_name': '서울 마포구 양화로 105',\n",
       "  'x': '126.918607875358',\n",
       "  'y': '37.5534723352988'},\n",
       " {'address_name': '서울 마포구 서교동 353-5',\n",
       "  'category_group_code': 'CE7',\n",
       "  'category_group_name': '카페',\n",
       "  'category_name': '음식점 > 카페 > 커피전문점 > 스타벅스',\n",
       "  'distance': '',\n",
       "  'id': '1436512690',\n",
       "  'phone': '1522-3232',\n",
       "  'place_name': '스타벅스 홍대입구역사거리R점',\n",
       "  'place_url': 'http://place.map.kakao.com/1436512690',\n",
       "  'road_address_name': '서울 마포구 양화로 125',\n",
       "  'x': '126.920317785646',\n",
       "  'y': '37.5546231745866'},\n",
       " {'address_name': '서울 마포구 동교동 205-6',\n",
       "  'category_group_code': 'CE7',\n",
       "  'category_group_name': '카페',\n",
       "  'category_name': '음식점 > 카페 > 커피전문점 > 스타벅스',\n",
       "  'distance': '',\n",
       "  'id': '20705154',\n",
       "  'phone': '1522-3232',\n",
       "  'place_name': '스타벅스 동교점',\n",
       "  'place_url': 'http://place.map.kakao.com/20705154',\n",
       "  'road_address_name': '서울 마포구 월드컵북로 22',\n",
       "  'x': '126.919993980608',\n",
       "  'y': '37.5568646370831'},\n",
       " {'address_name': '서울 마포구 상수동 86-22',\n",
       "  'category_group_code': 'CE7',\n",
       "  'category_group_name': '카페',\n",
       "  'category_name': '음식점 > 카페 > 커피전문점 > 스타벅스',\n",
       "  'distance': '',\n",
       "  'id': '17127074',\n",
       "  'phone': '1522-3232',\n",
       "  'place_name': '스타벅스 홍대삼거리점',\n",
       "  'place_url': 'http://place.map.kakao.com/17127074',\n",
       "  'road_address_name': '서울 마포구 와우산로 64',\n",
       "  'x': '126.92326479924',\n",
       "  'y': '37.5501958209348'},\n",
       " {'address_name': '서울 마포구 동교동 159-1',\n",
       "  'category_group_code': 'CE7',\n",
       "  'category_group_name': '카페',\n",
       "  'category_name': '음식점 > 카페 > 커피전문점 > 스타벅스',\n",
       "  'distance': '',\n",
       "  'id': '22105109',\n",
       "  'phone': '',\n",
       "  'place_name': '스타벅스 홍대역점',\n",
       "  'place_url': 'http://place.map.kakao.com/22105109',\n",
       "  'road_address_name': '서울 마포구 양화로 165',\n",
       "  'x': '126.923637798148',\n",
       "  'y': '37.5572887166274'},\n",
       " {'address_name': '서울 마포구 서교동 343-10',\n",
       "  'category_group_code': 'CE7',\n",
       "  'category_group_name': '카페',\n",
       "  'category_name': '음식점 > 카페 > 커피전문점 > 스타벅스',\n",
       "  'distance': '',\n",
       "  'id': '7962302',\n",
       "  'phone': '1522-3232',\n",
       "  'place_name': '스타벅스 홍대갤러리점',\n",
       "  'place_url': 'http://place.map.kakao.com/7962302',\n",
       "  'road_address_name': '서울 마포구 와우산로 101',\n",
       "  'x': '126.924809884926',\n",
       "  'y': '37.5531989403216'},\n",
       " {'address_name': '서울 마포구 상수동 329-1',\n",
       "  'category_group_code': 'CE7',\n",
       "  'category_group_name': '카페',\n",
       "  'category_name': '음식점 > 카페 > 커피전문점 > 스타벅스',\n",
       "  'distance': '',\n",
       "  'id': '26848996',\n",
       "  'phone': '1522-3232',\n",
       "  'place_name': '스타벅스 상수역점',\n",
       "  'place_url': 'http://place.map.kakao.com/26848996',\n",
       "  'road_address_name': '서울 마포구 독막로 88',\n",
       "  'x': '126.923272022704',\n",
       "  'y': '37.5475649101839'},\n",
       " {'address_name': '서울 마포구 동교동 166-1',\n",
       "  'category_group_code': 'CE7',\n",
       "  'category_group_name': '카페',\n",
       "  'category_name': '음식점 > 카페 > 커피전문점 > 스타벅스',\n",
       "  'distance': '',\n",
       "  'id': '231272664',\n",
       "  'phone': '1522-3232',\n",
       "  'place_name': '스타벅스 홍대공항철도역점',\n",
       "  'place_url': 'http://place.map.kakao.com/231272664',\n",
       "  'road_address_name': '서울 마포구 양화로 178',\n",
       "  'x': '126.92518582665798',\n",
       "  'y': '37.557509550972256'},\n",
       " {'address_name': '서울 마포구 창전동 130',\n",
       "  'category_group_code': 'CE7',\n",
       "  'category_group_name': '카페',\n",
       "  'category_name': '음식점 > 카페 > 커피전문점 > 스타벅스',\n",
       "  'distance': '',\n",
       "  'id': '1572099327',\n",
       "  'phone': '',\n",
       "  'place_name': '스타벅스 서강광흥창역점',\n",
       "  'place_url': 'http://place.map.kakao.com/1572099327',\n",
       "  'road_address_name': '서울 마포구 서강로 69',\n",
       "  'x': '126.931657893743',\n",
       "  'y': '37.5493756625598'},\n",
       " {'address_name': '서울 마포구 노고산동 54-1',\n",
       "  'category_group_code': 'CE7',\n",
       "  'category_group_name': '카페',\n",
       "  'category_name': '음식점 > 카페 > 커피전문점 > 스타벅스',\n",
       "  'distance': '',\n",
       "  'id': '1132693025',\n",
       "  'phone': '',\n",
       "  'place_name': '스타벅스 신촌오거리점',\n",
       "  'place_url': 'http://place.map.kakao.com/1132693025',\n",
       "  'road_address_name': '서울 마포구 신촌로16길 10',\n",
       "  'x': '126.934699199575',\n",
       "  'y': '37.5551906225976'}]"
      ]
     },
     "execution_count": 7,
     "metadata": {},
     "output_type": "execute_result"
    }
   ],
   "source": [
    "import requests\n",
    "\n",
    "searching = '합정 스타벅스'\n",
    "url = 'https://dapi.kakao.com/v2/local/search/keyword.json?query={}'.format(searching)\n",
    "\n",
    "headers = {\n",
    "    \"Authorization\": \"KakaoAK (REST API 키 값)\"\n",
    "    # 입력시 반드시  KakaoAK 뒤에 한 칸 띄우고 REST API키 값을 적어야 합니다\n",
    "}\n",
    "\n",
    "places = requests.get(url, headers = headers).json()['documents']\n",
    "places"
   ]
  },
  {
   "cell_type": "code",
   "execution_count": 8,
   "metadata": {},
   "outputs": [],
   "source": [
    "#장소 검색 함수 만들기\n",
    "def find_places(searching):\n",
    "    #1.접속 url만들기\n",
    "    url = 'https://dapi.kakao.com/v2/local/search/keyword.json?query={}'.format(searching)\n",
    "    #2.headers 입력하기\n",
    "    headers={\n",
    "        'Authorization' : \"KakaoAK ed58792f1fbd2fffcab6daf4c998cb22\"\n",
    "    }\n",
    "    #3.API요청&정보받기\n",
    "    places = requests.get(url, headers = headers).json()['documents']\n",
    "    #4.필요한 정보 선택하기\n",
    "    place = places[0]\n",
    "    name = place['place_name']\n",
    "    x = place['x'] #경도\n",
    "    y = place['y'] #위도\n",
    "    data = [name, x, y, searching]\n",
    "    \n",
    "    return data"
   ]
  },
  {
   "cell_type": "code",
   "execution_count": 9,
   "metadata": {},
   "outputs": [],
   "source": [
    "data = find_places('제주공항')"
   ]
  },
  {
   "cell_type": "code",
   "execution_count": 10,
   "metadata": {},
   "outputs": [
    {
     "data": {
      "text/plain": [
       "['제주국제공항', '126.492769004244', '33.5070789578184', '제주공항']"
      ]
     },
     "execution_count": 10,
     "metadata": {},
     "output_type": "execute_result"
    }
   ],
   "source": [
    "data #카카오가검색한값, 경도, 위도, 내가검색한값  => 중요한값은 왼쪽값"
   ]
  },
  {
   "cell_type": "code",
   "execution_count": 11,
   "metadata": {},
   "outputs": [
    {
     "name": "stdout",
     "output_type": "stream",
     "text": [
      "Requirement already satisfied: tqdm in c:\\programdata\\anaconda3\\lib\\site-packages (4.50.2)\n"
     ]
    }
   ],
   "source": [
    "!pip install tqdm \n",
    "#tqdm : 현재 작업 진행현황을 볼 수 있다"
   ]
  },
  {
   "cell_type": "code",
   "execution_count": 12,
   "metadata": {},
   "outputs": [
    {
     "data": {
      "application/vnd.jupyter.widget-view+json": {
       "model_id": "81f05ab0a95148b488ae614d5f156f2b",
       "version_major": 2,
       "version_minor": 0
      },
      "text/plain": [
       "HBox(children=(HTML(value=''), FloatProgress(value=0.0, max=30.0), HTML(value='')))"
      ]
     },
     "metadata": {},
     "output_type": "display_data"
    },
    {
     "name": "stdout",
     "output_type": "stream",
     "text": [
      "\n"
     ]
    },
    {
     "data": {
      "text/plain": [
       "[['협재해수욕장', '126.239157539085', '33.3938660776221', '제주 협재 해수욕장'],\n",
       " ['Jeju in aA', '126.83650369902168', '33.53833652360498', 'Jeju'],\n",
       " ['애월해안도로', '126.36867872098', '33.4781232943703', '애월해안도로'],\n",
       " ['진남관(2022년5월까지 휴업)', '127.736622604701', '34.7419644365358', '여수'],\n",
       " ['페이스뮤직', '126.915848984951', '37.5512791744838', 'Seoul, Korea'],\n",
       " ['귀더크', '126.282366800118', '33.4423007490057', '제주귀더크'],\n",
       " ['사이카레', '126.381106668339', '33.4842446359284', '사이카레'],\n",
       " ['월정리인카페', '126.79328046831104', '33.5561956278273', '월정리인카페'],\n",
       " ['형제해안도로', '126.293352563779', '33.2167542093081', '제주도 해안도로'],\n",
       " ['노라바', '126.376305449139', '33.4827924545002', '노라바'],\n",
       " ['산지해장국', '126.528510119738', '33.516340623989', '산지해장국'],\n",
       " ['순천미향', '126.3124867027795', '33.23565653706234', '순천미향'],\n",
       " ['제주도', '126.545875710283', '33.3797769227161', 'Jeju Island'],\n",
       " ['루스트플레이스 노형점', '126.46983192539726', '33.48383190135315', '노형 루스트'],\n",
       " ['대구역', '128.596277196438', '35.8759487657024', 'Daegu'],\n",
       " ['칠돈가 서귀포점', '126.564409645167', '33.2540780881125', '제주 칠돈가'],\n",
       " ['고집돌우럭 중문점', '126.416704762779', '33.2579811121134', '고집돌우럭중문점'],\n",
       " ['제주도', '126.545875710283', '33.3797769227161', '제주도'],\n",
       " ['수두리보말칼국수', '126.42499942161753', '33.25156773781329', '수두리보말칼국수'],\n",
       " ['귀덕해안도로', '126.287459086914', '33.4439890305215', '한림해안도로'],\n",
       " ['하멜', '126.476143239321', '33.4785014782014', '하멜 제주']]"
      ]
     },
     "execution_count": 12,
     "metadata": {},
     "output_type": "execute_result"
    }
   ],
   "source": [
    "#인스타그램 위치명에 대한 위치정보 검색\n",
    "import time\n",
    "from tqdm.notebook import tqdm \n",
    "\n",
    "locations_inform = []\n",
    "\n",
    "for location in tqdm(locations):\n",
    "    try:\n",
    "        data = find_places(location)\n",
    "        locations_inform.append(data)\n",
    "        time.sleep(2)\n",
    "    except:\n",
    "        pass\n",
    "\n",
    "locations_inform"
   ]
  },
  {
   "cell_type": "code",
   "execution_count": 13,
   "metadata": {},
   "outputs": [],
   "source": [
    "#위치정보 저장\n",
    "locations_inform_df = pd.DataFrame(locations_inform)\n",
    "locations_inform_df.columns = ['name_official', '경도', '위도', '인스타위치명']\n",
    "locations_inform_df.to_excel('C:/Users/name_/Desktop/데이터분석/files/locations.xlsx', index=False)"
   ]
  },
  {
   "cell_type": "code",
   "execution_count": 14,
   "metadata": {},
   "outputs": [
    {
     "data": {
      "text/html": [
       "<div>\n",
       "<style scoped>\n",
       "    .dataframe tbody tr th:only-of-type {\n",
       "        vertical-align: middle;\n",
       "    }\n",
       "\n",
       "    .dataframe tbody tr th {\n",
       "        vertical-align: top;\n",
       "    }\n",
       "\n",
       "    .dataframe thead th {\n",
       "        text-align: right;\n",
       "    }\n",
       "</style>\n",
       "<table border=\"1\" class=\"dataframe\">\n",
       "  <thead>\n",
       "    <tr style=\"text-align: right;\">\n",
       "      <th></th>\n",
       "      <th>name_official</th>\n",
       "      <th>경도</th>\n",
       "      <th>위도</th>\n",
       "      <th>인스타위치명</th>\n",
       "    </tr>\n",
       "  </thead>\n",
       "  <tbody>\n",
       "    <tr>\n",
       "      <th>0</th>\n",
       "      <td>협재해수욕장</td>\n",
       "      <td>126.239157539085</td>\n",
       "      <td>33.3938660776221</td>\n",
       "      <td>제주 협재 해수욕장</td>\n",
       "    </tr>\n",
       "    <tr>\n",
       "      <th>1</th>\n",
       "      <td>Jeju in aA</td>\n",
       "      <td>126.83650369902168</td>\n",
       "      <td>33.53833652360498</td>\n",
       "      <td>Jeju</td>\n",
       "    </tr>\n",
       "    <tr>\n",
       "      <th>2</th>\n",
       "      <td>애월해안도로</td>\n",
       "      <td>126.36867872098</td>\n",
       "      <td>33.4781232943703</td>\n",
       "      <td>애월해안도로</td>\n",
       "    </tr>\n",
       "    <tr>\n",
       "      <th>3</th>\n",
       "      <td>진남관(2022년5월까지 휴업)</td>\n",
       "      <td>127.736622604701</td>\n",
       "      <td>34.7419644365358</td>\n",
       "      <td>여수</td>\n",
       "    </tr>\n",
       "    <tr>\n",
       "      <th>4</th>\n",
       "      <td>페이스뮤직</td>\n",
       "      <td>126.915848984951</td>\n",
       "      <td>37.5512791744838</td>\n",
       "      <td>Seoul, Korea</td>\n",
       "    </tr>\n",
       "  </tbody>\n",
       "</table>\n",
       "</div>"
      ],
      "text/plain": [
       "       name_official                  경도                 위도        인스타위치명\n",
       "0             협재해수욕장    126.239157539085   33.3938660776221    제주 협재 해수욕장\n",
       "1         Jeju in aA  126.83650369902168  33.53833652360498          Jeju\n",
       "2             애월해안도로     126.36867872098   33.4781232943703        애월해안도로\n",
       "3  진남관(2022년5월까지 휴업)    127.736622604701   34.7419644365358            여수\n",
       "4              페이스뮤직    126.915848984951   37.5512791744838  Seoul, Korea"
      ]
     },
     "execution_count": 14,
     "metadata": {},
     "output_type": "execute_result"
    }
   ],
   "source": [
    "locations_inform_df.head()"
   ]
  },
  {
   "cell_type": "markdown",
   "metadata": {},
   "source": [
    "### 위치 정보별 인스타 게시량 정리"
   ]
  },
  {
   "cell_type": "code",
   "execution_count": 19,
   "metadata": {},
   "outputs": [],
   "source": [
    "location_counts_df = pd.read_excel('C:/Users/name_/Desktop/데이터분석/files/location_counts.xlsx', index_col = 0)\n",
    "locations_inform_df = pd.read_excel('C:/Users/name_/Desktop/데이터분석/files/locations.xlsx')"
   ]
  },
  {
   "cell_type": "code",
   "execution_count": 21,
   "metadata": {},
   "outputs": [
    {
     "data": {
      "text/html": [
       "<div>\n",
       "<style scoped>\n",
       "    .dataframe tbody tr th:only-of-type {\n",
       "        vertical-align: middle;\n",
       "    }\n",
       "\n",
       "    .dataframe tbody tr th {\n",
       "        vertical-align: top;\n",
       "    }\n",
       "\n",
       "    .dataframe thead th {\n",
       "        text-align: right;\n",
       "    }\n",
       "</style>\n",
       "<table border=\"1\" class=\"dataframe\">\n",
       "  <thead>\n",
       "    <tr style=\"text-align: right;\">\n",
       "      <th></th>\n",
       "      <th>place</th>\n",
       "    </tr>\n",
       "  </thead>\n",
       "  <tbody>\n",
       "    <tr>\n",
       "      <th>제주 협재 해수욕장</th>\n",
       "      <td>5</td>\n",
       "    </tr>\n",
       "    <tr>\n",
       "      <th>Jeju</th>\n",
       "      <td>5</td>\n",
       "    </tr>\n",
       "    <tr>\n",
       "      <th>애월해안도로</th>\n",
       "      <td>3</td>\n",
       "    </tr>\n",
       "    <tr>\n",
       "      <th>여수</th>\n",
       "      <td>2</td>\n",
       "    </tr>\n",
       "    <tr>\n",
       "      <th>Seoul, Korea</th>\n",
       "      <td>2</td>\n",
       "    </tr>\n",
       "  </tbody>\n",
       "</table>\n",
       "</div>"
      ],
      "text/plain": [
       "              place\n",
       "제주 협재 해수욕장        5\n",
       "Jeju              5\n",
       "애월해안도로            3\n",
       "여수                2\n",
       "Seoul, Korea      2"
      ]
     },
     "execution_count": 21,
     "metadata": {},
     "output_type": "execute_result"
    }
   ],
   "source": [
    "location_counts_df.head() #기준열이 존재하지 않음 왼쪽 장소명은 index값"
   ]
  },
  {
   "cell_type": "code",
   "execution_count": 23,
   "metadata": {},
   "outputs": [
    {
     "data": {
      "text/html": [
       "<div>\n",
       "<style scoped>\n",
       "    .dataframe tbody tr th:only-of-type {\n",
       "        vertical-align: middle;\n",
       "    }\n",
       "\n",
       "    .dataframe tbody tr th {\n",
       "        vertical-align: top;\n",
       "    }\n",
       "\n",
       "    .dataframe thead th {\n",
       "        text-align: right;\n",
       "    }\n",
       "</style>\n",
       "<table border=\"1\" class=\"dataframe\">\n",
       "  <thead>\n",
       "    <tr style=\"text-align: right;\">\n",
       "      <th></th>\n",
       "      <th>name_official</th>\n",
       "      <th>경도</th>\n",
       "      <th>위도</th>\n",
       "      <th>인스타위치명</th>\n",
       "    </tr>\n",
       "  </thead>\n",
       "  <tbody>\n",
       "    <tr>\n",
       "      <th>0</th>\n",
       "      <td>협재해수욕장</td>\n",
       "      <td>126.239158</td>\n",
       "      <td>33.393866</td>\n",
       "      <td>제주 협재 해수욕장</td>\n",
       "    </tr>\n",
       "    <tr>\n",
       "      <th>1</th>\n",
       "      <td>Jeju in aA</td>\n",
       "      <td>126.836504</td>\n",
       "      <td>33.538337</td>\n",
       "      <td>Jeju</td>\n",
       "    </tr>\n",
       "    <tr>\n",
       "      <th>2</th>\n",
       "      <td>애월해안도로</td>\n",
       "      <td>126.368679</td>\n",
       "      <td>33.478123</td>\n",
       "      <td>애월해안도로</td>\n",
       "    </tr>\n",
       "    <tr>\n",
       "      <th>3</th>\n",
       "      <td>진남관(2022년5월까지 휴업)</td>\n",
       "      <td>127.736623</td>\n",
       "      <td>34.741964</td>\n",
       "      <td>여수</td>\n",
       "    </tr>\n",
       "    <tr>\n",
       "      <th>4</th>\n",
       "      <td>페이스뮤직</td>\n",
       "      <td>126.915849</td>\n",
       "      <td>37.551279</td>\n",
       "      <td>Seoul, Korea</td>\n",
       "    </tr>\n",
       "  </tbody>\n",
       "</table>\n",
       "</div>"
      ],
      "text/plain": [
       "       name_official          경도         위도        인스타위치명\n",
       "0             협재해수욕장  126.239158  33.393866    제주 협재 해수욕장\n",
       "1         Jeju in aA  126.836504  33.538337          Jeju\n",
       "2             애월해안도로  126.368679  33.478123        애월해안도로\n",
       "3  진남관(2022년5월까지 휴업)  127.736623  34.741964            여수\n",
       "4              페이스뮤직  126.915849  37.551279  Seoul, Korea"
      ]
     },
     "execution_count": 23,
     "metadata": {},
     "output_type": "execute_result"
    }
   ],
   "source": [
    "locations_inform_df.head()"
   ]
  },
  {
   "cell_type": "code",
   "execution_count": 24,
   "metadata": {},
   "outputs": [
    {
     "data": {
      "text/html": [
       "<div>\n",
       "<style scoped>\n",
       "    .dataframe tbody tr th:only-of-type {\n",
       "        vertical-align: middle;\n",
       "    }\n",
       "\n",
       "    .dataframe tbody tr th {\n",
       "        vertical-align: top;\n",
       "    }\n",
       "\n",
       "    .dataframe thead th {\n",
       "        text-align: right;\n",
       "    }\n",
       "</style>\n",
       "<table border=\"1\" class=\"dataframe\">\n",
       "  <thead>\n",
       "    <tr style=\"text-align: right;\">\n",
       "      <th></th>\n",
       "      <th>name_official</th>\n",
       "      <th>경도</th>\n",
       "      <th>위도</th>\n",
       "      <th>인스타위치명</th>\n",
       "      <th>place</th>\n",
       "    </tr>\n",
       "  </thead>\n",
       "  <tbody>\n",
       "    <tr>\n",
       "      <th>2</th>\n",
       "      <td>애월해안도로</td>\n",
       "      <td>126.368679</td>\n",
       "      <td>33.478123</td>\n",
       "      <td>애월해안도로</td>\n",
       "      <td>3</td>\n",
       "    </tr>\n",
       "    <tr>\n",
       "      <th>6</th>\n",
       "      <td>사이카레</td>\n",
       "      <td>126.381107</td>\n",
       "      <td>33.484245</td>\n",
       "      <td>사이카레</td>\n",
       "      <td>2</td>\n",
       "    </tr>\n",
       "    <tr>\n",
       "      <th>7</th>\n",
       "      <td>월정리인카페</td>\n",
       "      <td>126.793280</td>\n",
       "      <td>33.556196</td>\n",
       "      <td>월정리인카페</td>\n",
       "      <td>2</td>\n",
       "    </tr>\n",
       "    <tr>\n",
       "      <th>9</th>\n",
       "      <td>노라바</td>\n",
       "      <td>126.376305</td>\n",
       "      <td>33.482792</td>\n",
       "      <td>노라바</td>\n",
       "      <td>1</td>\n",
       "    </tr>\n",
       "    <tr>\n",
       "      <th>10</th>\n",
       "      <td>산지해장국</td>\n",
       "      <td>126.528510</td>\n",
       "      <td>33.516341</td>\n",
       "      <td>산지해장국</td>\n",
       "      <td>1</td>\n",
       "    </tr>\n",
       "  </tbody>\n",
       "</table>\n",
       "</div>"
      ],
      "text/plain": [
       "   name_official          경도         위도  인스타위치명  place\n",
       "2         애월해안도로  126.368679  33.478123  애월해안도로      3\n",
       "6           사이카레  126.381107  33.484245    사이카레      2\n",
       "7         월정리인카페  126.793280  33.556196  월정리인카페      2\n",
       "9            노라바  126.376305  33.482792     노라바      1\n",
       "10         산지해장국  126.528510  33.516341   산지해장국      1"
      ]
     },
     "execution_count": 24,
     "metadata": {},
     "output_type": "execute_result"
    }
   ],
   "source": [
    "location_data = pd.merge(locations_inform_df, location_counts_df,\n",
    "                        how='inner', left_on='name_official', right_index=True)\n",
    "location_data.head()"
   ]
  },
  {
   "cell_type": "code",
   "execution_count": 25,
   "metadata": {},
   "outputs": [],
   "source": [
    "#pd.merge() 명령어를 통해 location_counts_df와 locations_inform_df 데이터를 병합\n",
    "#how='inner' 설정으로 양쪽 모두에 있는 데이터만 포함\n",
    "#left_on = 'name_official' 왼쪽에 위치한 locations_inform_df 데이터에서는 name_official 칼럼의 데이터를 기준으로 병합\n",
    "#right_index=True 설정으로 오른쪽에 위치한 location_counts_df 데이터에서는 인덱스를 기준으로 병합 "
   ]
  },
  {
   "cell_type": "code",
   "execution_count": 26,
   "metadata": {},
   "outputs": [],
   "source": [
    "#병합한 데이터 저장\n",
    "location_data.to_excel('C:/Users/name_/Desktop/데이터분석/files/location_inform.xlsx', index=False)"
   ]
  },
  {
   "cell_type": "markdown",
   "metadata": {},
   "source": [
    "### folium을 이용한 지도 시각화 1 - 개별 표시"
   ]
  },
  {
   "cell_type": "code",
   "execution_count": 28,
   "metadata": {},
   "outputs": [
    {
     "name": "stdout",
     "output_type": "stream",
     "text": [
      "<class 'pandas.core.frame.DataFrame'>\n",
      "RangeIndex: 9 entries, 0 to 8\n",
      "Data columns (total 5 columns):\n",
      " #   Column         Non-Null Count  Dtype  \n",
      "---  ------         --------------  -----  \n",
      " 0   name_official  9 non-null      object \n",
      " 1   경도             9 non-null      float64\n",
      " 2   위도             9 non-null      float64\n",
      " 3   인스타위치명         9 non-null      object \n",
      " 4   place          9 non-null      int64  \n",
      "dtypes: float64(2), int64(1), object(2)\n",
      "memory usage: 488.0+ bytes\n"
     ]
    }
   ],
   "source": [
    "location_data = pd.read_excel('C:/Users/name_/Desktop/데이터분석/files/location_inform.xlsx')\n",
    "location_data.info()"
   ]
  },
  {
   "cell_type": "code",
   "execution_count": 29,
   "metadata": {},
   "outputs": [],
   "source": [
    "#지도 시각화를 위해서는 지도의 중심위치좌표와 표시할 위치별 위도/경도 데이터가 필요\n",
    "#지도의 중심위치를 한라산으로 지정하고 핫플레이스의 좌표를 지도에 표시해보지"
   ]
  },
  {
   "cell_type": "code",
   "execution_count": 30,
   "metadata": {},
   "outputs": [
    {
     "name": "stdout",
     "output_type": "stream",
     "text": [
      "Collecting folium\n",
      "  Downloading folium-0.11.0-py2.py3-none-any.whl (93 kB)\n",
      "Requirement already satisfied: requests in c:\\programdata\\anaconda3\\lib\\site-packages (from folium) (2.24.0)\n",
      "Collecting branca>=0.3.0\n",
      "  Downloading branca-0.4.2-py3-none-any.whl (24 kB)\n",
      "Requirement already satisfied: jinja2>=2.9 in c:\\programdata\\anaconda3\\lib\\site-packages (from folium) (2.11.2)\n",
      "Requirement already satisfied: numpy in c:\\programdata\\anaconda3\\lib\\site-packages (from folium) (1.19.2)\n",
      "Requirement already satisfied: chardet<4,>=3.0.2 in c:\\programdata\\anaconda3\\lib\\site-packages (from requests->folium) (3.0.4)\n",
      "Requirement already satisfied: idna<3,>=2.5 in c:\\programdata\\anaconda3\\lib\\site-packages (from requests->folium) (2.10)\n",
      "Requirement already satisfied: certifi>=2017.4.17 in c:\\programdata\\anaconda3\\lib\\site-packages (from requests->folium) (2020.6.20)\n",
      "Requirement already satisfied: urllib3!=1.25.0,!=1.25.1,<1.26,>=1.21.1 in c:\\programdata\\anaconda3\\lib\\site-packages (from requests->folium) (1.25.11)\n",
      "Requirement already satisfied: MarkupSafe>=0.23 in c:\\programdata\\anaconda3\\lib\\site-packages (from jinja2>=2.9->folium) (1.1.1)\n",
      "Installing collected packages: branca, folium\n",
      "Successfully installed branca-0.4.2 folium-0.11.0\n"
     ]
    }
   ],
   "source": [
    "!pip install folium"
   ]
  },
  {
   "cell_type": "code",
   "execution_count": 43,
   "metadata": {},
   "outputs": [
    {
     "data": {
      "text/html": [
       "<div style=\"width:100%;\"><div style=\"position:relative;width:100%;height:0;padding-bottom:60%;\"><span style=\"color:#565656\">Make this Notebook Trusted to load map: File -> Trust Notebook</span><iframe src=\"about:blank\" style=\"position:absolute;width:100%;height:100%;left:0;top:0;border:none !important;\" data-html=%3C%21DOCTYPE%20html%3E%0A%3Chead%3E%20%20%20%20%0A%20%20%20%20%3Cmeta%20http-equiv%3D%22content-type%22%20content%3D%22text/html%3B%20charset%3DUTF-8%22%20/%3E%0A%20%20%20%20%0A%20%20%20%20%20%20%20%20%3Cscript%3E%0A%20%20%20%20%20%20%20%20%20%20%20%20L_NO_TOUCH%20%3D%20false%3B%0A%20%20%20%20%20%20%20%20%20%20%20%20L_DISABLE_3D%20%3D%20false%3B%0A%20%20%20%20%20%20%20%20%3C/script%3E%0A%20%20%20%20%0A%20%20%20%20%3Cscript%20src%3D%22https%3A//cdn.jsdelivr.net/npm/leaflet%401.6.0/dist/leaflet.js%22%3E%3C/script%3E%0A%20%20%20%20%3Cscript%20src%3D%22https%3A//code.jquery.com/jquery-1.12.4.min.js%22%3E%3C/script%3E%0A%20%20%20%20%3Cscript%20src%3D%22https%3A//maxcdn.bootstrapcdn.com/bootstrap/3.2.0/js/bootstrap.min.js%22%3E%3C/script%3E%0A%20%20%20%20%3Cscript%20src%3D%22https%3A//cdnjs.cloudflare.com/ajax/libs/Leaflet.awesome-markers/2.0.2/leaflet.awesome-markers.js%22%3E%3C/script%3E%0A%20%20%20%20%3Clink%20rel%3D%22stylesheet%22%20href%3D%22https%3A//cdn.jsdelivr.net/npm/leaflet%401.6.0/dist/leaflet.css%22/%3E%0A%20%20%20%20%3Clink%20rel%3D%22stylesheet%22%20href%3D%22https%3A//maxcdn.bootstrapcdn.com/bootstrap/3.2.0/css/bootstrap.min.css%22/%3E%0A%20%20%20%20%3Clink%20rel%3D%22stylesheet%22%20href%3D%22https%3A//maxcdn.bootstrapcdn.com/bootstrap/3.2.0/css/bootstrap-theme.min.css%22/%3E%0A%20%20%20%20%3Clink%20rel%3D%22stylesheet%22%20href%3D%22https%3A//maxcdn.bootstrapcdn.com/font-awesome/4.6.3/css/font-awesome.min.css%22/%3E%0A%20%20%20%20%3Clink%20rel%3D%22stylesheet%22%20href%3D%22https%3A//cdnjs.cloudflare.com/ajax/libs/Leaflet.awesome-markers/2.0.2/leaflet.awesome-markers.css%22/%3E%0A%20%20%20%20%3Clink%20rel%3D%22stylesheet%22%20href%3D%22https%3A//rawcdn.githack.com/python-visualization/folium/master/folium/templates/leaflet.awesome.rotate.css%22/%3E%0A%20%20%20%20%3Cstyle%3Ehtml%2C%20body%20%7Bwidth%3A%20100%25%3Bheight%3A%20100%25%3Bmargin%3A%200%3Bpadding%3A%200%3B%7D%3C/style%3E%0A%20%20%20%20%3Cstyle%3E%23map%20%7Bposition%3Aabsolute%3Btop%3A0%3Bbottom%3A0%3Bright%3A0%3Bleft%3A0%3B%7D%3C/style%3E%0A%20%20%20%20%0A%20%20%20%20%20%20%20%20%20%20%20%20%3Cmeta%20name%3D%22viewport%22%20content%3D%22width%3Ddevice-width%2C%0A%20%20%20%20%20%20%20%20%20%20%20%20%20%20%20%20initial-scale%3D1.0%2C%20maximum-scale%3D1.0%2C%20user-scalable%3Dno%22%20/%3E%0A%20%20%20%20%20%20%20%20%20%20%20%20%3Cstyle%3E%0A%20%20%20%20%20%20%20%20%20%20%20%20%20%20%20%20%23map_4676c33c0df9475a8639d984aae3eb1c%20%7B%0A%20%20%20%20%20%20%20%20%20%20%20%20%20%20%20%20%20%20%20%20position%3A%20relative%3B%0A%20%20%20%20%20%20%20%20%20%20%20%20%20%20%20%20%20%20%20%20width%3A%20100.0%25%3B%0A%20%20%20%20%20%20%20%20%20%20%20%20%20%20%20%20%20%20%20%20height%3A%20100.0%25%3B%0A%20%20%20%20%20%20%20%20%20%20%20%20%20%20%20%20%20%20%20%20left%3A%200.0%25%3B%0A%20%20%20%20%20%20%20%20%20%20%20%20%20%20%20%20%20%20%20%20top%3A%200.0%25%3B%0A%20%20%20%20%20%20%20%20%20%20%20%20%20%20%20%20%7D%0A%20%20%20%20%20%20%20%20%20%20%20%20%3C/style%3E%0A%20%20%20%20%20%20%20%20%0A%3C/head%3E%0A%3Cbody%3E%20%20%20%20%0A%20%20%20%20%0A%20%20%20%20%20%20%20%20%20%20%20%20%3Cdiv%20class%3D%22folium-map%22%20id%3D%22map_4676c33c0df9475a8639d984aae3eb1c%22%20%3E%3C/div%3E%0A%20%20%20%20%20%20%20%20%0A%3C/body%3E%0A%3Cscript%3E%20%20%20%20%0A%20%20%20%20%0A%20%20%20%20%20%20%20%20%20%20%20%20var%20map_4676c33c0df9475a8639d984aae3eb1c%20%3D%20L.map%28%0A%20%20%20%20%20%20%20%20%20%20%20%20%20%20%20%20%22map_4676c33c0df9475a8639d984aae3eb1c%22%2C%0A%20%20%20%20%20%20%20%20%20%20%20%20%20%20%20%20%7B%0A%20%20%20%20%20%20%20%20%20%20%20%20%20%20%20%20%20%20%20%20center%3A%20%5B33.362526%2C%20126.528737%5D%2C%0A%20%20%20%20%20%20%20%20%20%20%20%20%20%20%20%20%20%20%20%20crs%3A%20L.CRS.EPSG3857%2C%0A%20%20%20%20%20%20%20%20%20%20%20%20%20%20%20%20%20%20%20%20zoom%3A%2011%2C%0A%20%20%20%20%20%20%20%20%20%20%20%20%20%20%20%20%20%20%20%20zoomControl%3A%20true%2C%0A%20%20%20%20%20%20%20%20%20%20%20%20%20%20%20%20%20%20%20%20preferCanvas%3A%20false%2C%0A%20%20%20%20%20%20%20%20%20%20%20%20%20%20%20%20%7D%0A%20%20%20%20%20%20%20%20%20%20%20%20%29%3B%0A%0A%20%20%20%20%20%20%20%20%20%20%20%20%0A%0A%20%20%20%20%20%20%20%20%0A%20%20%20%20%0A%20%20%20%20%20%20%20%20%20%20%20%20var%20tile_layer_bb916842953b4f709906f3ff551782ba%20%3D%20L.tileLayer%28%0A%20%20%20%20%20%20%20%20%20%20%20%20%20%20%20%20%22https%3A//%7Bs%7D.tile.openstreetmap.org/%7Bz%7D/%7Bx%7D/%7By%7D.png%22%2C%0A%20%20%20%20%20%20%20%20%20%20%20%20%20%20%20%20%7B%22attribution%22%3A%20%22Data%20by%20%5Cu0026copy%3B%20%5Cu003ca%20href%3D%5C%22http%3A//openstreetmap.org%5C%22%5Cu003eOpenStreetMap%5Cu003c/a%5Cu003e%2C%20under%20%5Cu003ca%20href%3D%5C%22http%3A//www.openstreetmap.org/copyright%5C%22%5Cu003eODbL%5Cu003c/a%5Cu003e.%22%2C%20%22detectRetina%22%3A%20false%2C%20%22maxNativeZoom%22%3A%2018%2C%20%22maxZoom%22%3A%2018%2C%20%22minZoom%22%3A%200%2C%20%22noWrap%22%3A%20false%2C%20%22opacity%22%3A%201%2C%20%22subdomains%22%3A%20%22abc%22%2C%20%22tms%22%3A%20false%7D%0A%20%20%20%20%20%20%20%20%20%20%20%20%29.addTo%28map_4676c33c0df9475a8639d984aae3eb1c%29%3B%0A%20%20%20%20%20%20%20%20%0A%20%20%20%20%0A%20%20%20%20%20%20%20%20%20%20%20%20var%20circle_marker_acf0c631de454db2b8d9e7fd52e57489%20%3D%20L.circleMarker%28%0A%20%20%20%20%20%20%20%20%20%20%20%20%20%20%20%20%5B33.47812329437031%2C%20126.36867872098%5D%2C%0A%20%20%20%20%20%20%20%20%20%20%20%20%20%20%20%20%7B%22bubblingMouseEvents%22%3A%20true%2C%20%22color%22%3A%20%22red%22%2C%20%22dashArray%22%3A%20null%2C%20%22dashOffset%22%3A%20null%2C%20%22fill%22%3A%20false%2C%20%22fillColor%22%3A%20%22red%22%2C%20%22fillOpacity%22%3A%200.2%2C%20%22fillRule%22%3A%20%22evenodd%22%2C%20%22lineCap%22%3A%20%22round%22%2C%20%22lineJoin%22%3A%20%22round%22%2C%20%22opacity%22%3A%201.0%2C%20%22radius%22%3A%206%2C%20%22stroke%22%3A%20true%2C%20%22weight%22%3A%203%7D%0A%20%20%20%20%20%20%20%20%20%20%20%20%29.addTo%28map_4676c33c0df9475a8639d984aae3eb1c%29%3B%0A%20%20%20%20%20%20%20%20%0A%20%20%20%20%0A%20%20%20%20%20%20%20%20var%20popup_22335d7bcfab4518972068113c7d9980%20%3D%20L.popup%28%7B%22maxWidth%22%3A%20%22100%25%22%7D%29%3B%0A%0A%20%20%20%20%20%20%20%20%0A%20%20%20%20%20%20%20%20%20%20%20%20var%20html_f094b0ea4ef9455dab379adec2fafbd2%20%3D%20%24%28%60%3Cdiv%20id%3D%22html_f094b0ea4ef9455dab379adec2fafbd2%22%20style%3D%22width%3A%20100.0%25%3B%20height%3A%20100.0%25%3B%22%3E%EC%95%A0%EC%9B%94%ED%95%B4%EC%95%88%EB%8F%84%EB%A1%9C%3C/div%3E%60%29%5B0%5D%3B%0A%20%20%20%20%20%20%20%20%20%20%20%20popup_22335d7bcfab4518972068113c7d9980.setContent%28html_f094b0ea4ef9455dab379adec2fafbd2%29%3B%0A%20%20%20%20%20%20%20%20%0A%0A%20%20%20%20%20%20%20%20circle_marker_acf0c631de454db2b8d9e7fd52e57489.bindPopup%28popup_22335d7bcfab4518972068113c7d9980%29%0A%20%20%20%20%20%20%20%20%3B%0A%0A%20%20%20%20%20%20%20%20%0A%20%20%20%20%0A%20%20%20%20%0A%20%20%20%20%20%20%20%20%20%20%20%20var%20circle_marker_42c68ca567be4382b4e9cd4232ba6b44%20%3D%20L.circleMarker%28%0A%20%20%20%20%20%20%20%20%20%20%20%20%20%20%20%20%5B33.4842446359284%2C%20126.381106668339%5D%2C%0A%20%20%20%20%20%20%20%20%20%20%20%20%20%20%20%20%7B%22bubblingMouseEvents%22%3A%20true%2C%20%22color%22%3A%20%22red%22%2C%20%22dashArray%22%3A%20null%2C%20%22dashOffset%22%3A%20null%2C%20%22fill%22%3A%20false%2C%20%22fillColor%22%3A%20%22red%22%2C%20%22fillOpacity%22%3A%200.2%2C%20%22fillRule%22%3A%20%22evenodd%22%2C%20%22lineCap%22%3A%20%22round%22%2C%20%22lineJoin%22%3A%20%22round%22%2C%20%22opacity%22%3A%201.0%2C%20%22radius%22%3A%204%2C%20%22stroke%22%3A%20true%2C%20%22weight%22%3A%203%7D%0A%20%20%20%20%20%20%20%20%20%20%20%20%29.addTo%28map_4676c33c0df9475a8639d984aae3eb1c%29%3B%0A%20%20%20%20%20%20%20%20%0A%20%20%20%20%0A%20%20%20%20%20%20%20%20var%20popup_ccf9598385814e428ba48242e0bb2c37%20%3D%20L.popup%28%7B%22maxWidth%22%3A%20%22100%25%22%7D%29%3B%0A%0A%20%20%20%20%20%20%20%20%0A%20%20%20%20%20%20%20%20%20%20%20%20var%20html_8dc05af437d4475a8bde225061e58049%20%3D%20%24%28%60%3Cdiv%20id%3D%22html_8dc05af437d4475a8bde225061e58049%22%20style%3D%22width%3A%20100.0%25%3B%20height%3A%20100.0%25%3B%22%3E%EC%82%AC%EC%9D%B4%EC%B9%B4%EB%A0%88%3C/div%3E%60%29%5B0%5D%3B%0A%20%20%20%20%20%20%20%20%20%20%20%20popup_ccf9598385814e428ba48242e0bb2c37.setContent%28html_8dc05af437d4475a8bde225061e58049%29%3B%0A%20%20%20%20%20%20%20%20%0A%0A%20%20%20%20%20%20%20%20circle_marker_42c68ca567be4382b4e9cd4232ba6b44.bindPopup%28popup_ccf9598385814e428ba48242e0bb2c37%29%0A%20%20%20%20%20%20%20%20%3B%0A%0A%20%20%20%20%20%20%20%20%0A%20%20%20%20%0A%20%20%20%20%0A%20%20%20%20%20%20%20%20%20%20%20%20var%20circle_marker_7af2b101ad9f478f9dd930ce080490de%20%3D%20L.circleMarker%28%0A%20%20%20%20%20%20%20%20%20%20%20%20%20%20%20%20%5B33.5561956278273%2C%20126.793280468311%5D%2C%0A%20%20%20%20%20%20%20%20%20%20%20%20%20%20%20%20%7B%22bubblingMouseEvents%22%3A%20true%2C%20%22color%22%3A%20%22red%22%2C%20%22dashArray%22%3A%20null%2C%20%22dashOffset%22%3A%20null%2C%20%22fill%22%3A%20false%2C%20%22fillColor%22%3A%20%22red%22%2C%20%22fillOpacity%22%3A%200.2%2C%20%22fillRule%22%3A%20%22evenodd%22%2C%20%22lineCap%22%3A%20%22round%22%2C%20%22lineJoin%22%3A%20%22round%22%2C%20%22opacity%22%3A%201.0%2C%20%22radius%22%3A%204%2C%20%22stroke%22%3A%20true%2C%20%22weight%22%3A%203%7D%0A%20%20%20%20%20%20%20%20%20%20%20%20%29.addTo%28map_4676c33c0df9475a8639d984aae3eb1c%29%3B%0A%20%20%20%20%20%20%20%20%0A%20%20%20%20%0A%20%20%20%20%20%20%20%20var%20popup_c188d5878a1a4f84a658d2a515f3e8d1%20%3D%20L.popup%28%7B%22maxWidth%22%3A%20%22100%25%22%7D%29%3B%0A%0A%20%20%20%20%20%20%20%20%0A%20%20%20%20%20%20%20%20%20%20%20%20var%20html_091b61e50adf4ca098bf4a187705e39d%20%3D%20%24%28%60%3Cdiv%20id%3D%22html_091b61e50adf4ca098bf4a187705e39d%22%20style%3D%22width%3A%20100.0%25%3B%20height%3A%20100.0%25%3B%22%3E%EC%9B%94%EC%A0%95%EB%A6%AC%EC%9D%B8%EC%B9%B4%ED%8E%98%3C/div%3E%60%29%5B0%5D%3B%0A%20%20%20%20%20%20%20%20%20%20%20%20popup_c188d5878a1a4f84a658d2a515f3e8d1.setContent%28html_091b61e50adf4ca098bf4a187705e39d%29%3B%0A%20%20%20%20%20%20%20%20%0A%0A%20%20%20%20%20%20%20%20circle_marker_7af2b101ad9f478f9dd930ce080490de.bindPopup%28popup_c188d5878a1a4f84a658d2a515f3e8d1%29%0A%20%20%20%20%20%20%20%20%3B%0A%0A%20%20%20%20%20%20%20%20%0A%20%20%20%20%0A%20%20%20%20%0A%20%20%20%20%20%20%20%20%20%20%20%20var%20circle_marker_b414bcd25bf14403b1dc4002e5c5080e%20%3D%20L.circleMarker%28%0A%20%20%20%20%20%20%20%20%20%20%20%20%20%20%20%20%5B33.4827924545002%2C%20126.376305449139%5D%2C%0A%20%20%20%20%20%20%20%20%20%20%20%20%20%20%20%20%7B%22bubblingMouseEvents%22%3A%20true%2C%20%22color%22%3A%20%22red%22%2C%20%22dashArray%22%3A%20null%2C%20%22dashOffset%22%3A%20null%2C%20%22fill%22%3A%20false%2C%20%22fillColor%22%3A%20%22red%22%2C%20%22fillOpacity%22%3A%200.2%2C%20%22fillRule%22%3A%20%22evenodd%22%2C%20%22lineCap%22%3A%20%22round%22%2C%20%22lineJoin%22%3A%20%22round%22%2C%20%22opacity%22%3A%201.0%2C%20%22radius%22%3A%202%2C%20%22stroke%22%3A%20true%2C%20%22weight%22%3A%203%7D%0A%20%20%20%20%20%20%20%20%20%20%20%20%29.addTo%28map_4676c33c0df9475a8639d984aae3eb1c%29%3B%0A%20%20%20%20%20%20%20%20%0A%20%20%20%20%0A%20%20%20%20%20%20%20%20var%20popup_43a507ce62774ef3ac4827610564c0c8%20%3D%20L.popup%28%7B%22maxWidth%22%3A%20%22100%25%22%7D%29%3B%0A%0A%20%20%20%20%20%20%20%20%0A%20%20%20%20%20%20%20%20%20%20%20%20var%20html_6c78b202fd1f433a8fbd6956afb3ce85%20%3D%20%24%28%60%3Cdiv%20id%3D%22html_6c78b202fd1f433a8fbd6956afb3ce85%22%20style%3D%22width%3A%20100.0%25%3B%20height%3A%20100.0%25%3B%22%3E%EB%85%B8%EB%9D%BC%EB%B0%94%3C/div%3E%60%29%5B0%5D%3B%0A%20%20%20%20%20%20%20%20%20%20%20%20popup_43a507ce62774ef3ac4827610564c0c8.setContent%28html_6c78b202fd1f433a8fbd6956afb3ce85%29%3B%0A%20%20%20%20%20%20%20%20%0A%0A%20%20%20%20%20%20%20%20circle_marker_b414bcd25bf14403b1dc4002e5c5080e.bindPopup%28popup_43a507ce62774ef3ac4827610564c0c8%29%0A%20%20%20%20%20%20%20%20%3B%0A%0A%20%20%20%20%20%20%20%20%0A%20%20%20%20%0A%20%20%20%20%0A%20%20%20%20%20%20%20%20%20%20%20%20var%20circle_marker_ed3ecea176554719bfcd24e0b04b8b70%20%3D%20L.circleMarker%28%0A%20%20%20%20%20%20%20%20%20%20%20%20%20%20%20%20%5B33.516340623989%2C%20126.528510119738%5D%2C%0A%20%20%20%20%20%20%20%20%20%20%20%20%20%20%20%20%7B%22bubblingMouseEvents%22%3A%20true%2C%20%22color%22%3A%20%22red%22%2C%20%22dashArray%22%3A%20null%2C%20%22dashOffset%22%3A%20null%2C%20%22fill%22%3A%20false%2C%20%22fillColor%22%3A%20%22red%22%2C%20%22fillOpacity%22%3A%200.2%2C%20%22fillRule%22%3A%20%22evenodd%22%2C%20%22lineCap%22%3A%20%22round%22%2C%20%22lineJoin%22%3A%20%22round%22%2C%20%22opacity%22%3A%201.0%2C%20%22radius%22%3A%202%2C%20%22stroke%22%3A%20true%2C%20%22weight%22%3A%203%7D%0A%20%20%20%20%20%20%20%20%20%20%20%20%29.addTo%28map_4676c33c0df9475a8639d984aae3eb1c%29%3B%0A%20%20%20%20%20%20%20%20%0A%20%20%20%20%0A%20%20%20%20%20%20%20%20var%20popup_ba33a3f96cb4481ca1872ce5900bd175%20%3D%20L.popup%28%7B%22maxWidth%22%3A%20%22100%25%22%7D%29%3B%0A%0A%20%20%20%20%20%20%20%20%0A%20%20%20%20%20%20%20%20%20%20%20%20var%20html_6d8aae7a94b94b5b984f01e6f252c1a0%20%3D%20%24%28%60%3Cdiv%20id%3D%22html_6d8aae7a94b94b5b984f01e6f252c1a0%22%20style%3D%22width%3A%20100.0%25%3B%20height%3A%20100.0%25%3B%22%3E%EC%82%B0%EC%A7%80%ED%95%B4%EC%9E%A5%EA%B5%AD%3C/div%3E%60%29%5B0%5D%3B%0A%20%20%20%20%20%20%20%20%20%20%20%20popup_ba33a3f96cb4481ca1872ce5900bd175.setContent%28html_6d8aae7a94b94b5b984f01e6f252c1a0%29%3B%0A%20%20%20%20%20%20%20%20%0A%0A%20%20%20%20%20%20%20%20circle_marker_ed3ecea176554719bfcd24e0b04b8b70.bindPopup%28popup_ba33a3f96cb4481ca1872ce5900bd175%29%0A%20%20%20%20%20%20%20%20%3B%0A%0A%20%20%20%20%20%20%20%20%0A%20%20%20%20%0A%20%20%20%20%0A%20%20%20%20%20%20%20%20%20%20%20%20var%20circle_marker_401fb57a4b184a1db3d7370b2e117add%20%3D%20L.circleMarker%28%0A%20%20%20%20%20%20%20%20%20%20%20%20%20%20%20%20%5B33.23565653706234%2C%20126.3124867027795%5D%2C%0A%20%20%20%20%20%20%20%20%20%20%20%20%20%20%20%20%7B%22bubblingMouseEvents%22%3A%20true%2C%20%22color%22%3A%20%22red%22%2C%20%22dashArray%22%3A%20null%2C%20%22dashOffset%22%3A%20null%2C%20%22fill%22%3A%20false%2C%20%22fillColor%22%3A%20%22red%22%2C%20%22fillOpacity%22%3A%200.2%2C%20%22fillRule%22%3A%20%22evenodd%22%2C%20%22lineCap%22%3A%20%22round%22%2C%20%22lineJoin%22%3A%20%22round%22%2C%20%22opacity%22%3A%201.0%2C%20%22radius%22%3A%202%2C%20%22stroke%22%3A%20true%2C%20%22weight%22%3A%203%7D%0A%20%20%20%20%20%20%20%20%20%20%20%20%29.addTo%28map_4676c33c0df9475a8639d984aae3eb1c%29%3B%0A%20%20%20%20%20%20%20%20%0A%20%20%20%20%0A%20%20%20%20%20%20%20%20var%20popup_6fd5ffb7745c480c81094dae47de96c4%20%3D%20L.popup%28%7B%22maxWidth%22%3A%20%22100%25%22%7D%29%3B%0A%0A%20%20%20%20%20%20%20%20%0A%20%20%20%20%20%20%20%20%20%20%20%20var%20html_0edcb31721d84d0fabf43d5e54f7557d%20%3D%20%24%28%60%3Cdiv%20id%3D%22html_0edcb31721d84d0fabf43d5e54f7557d%22%20style%3D%22width%3A%20100.0%25%3B%20height%3A%20100.0%25%3B%22%3E%EC%88%9C%EC%B2%9C%EB%AF%B8%ED%96%A5%3C/div%3E%60%29%5B0%5D%3B%0A%20%20%20%20%20%20%20%20%20%20%20%20popup_6fd5ffb7745c480c81094dae47de96c4.setContent%28html_0edcb31721d84d0fabf43d5e54f7557d%29%3B%0A%20%20%20%20%20%20%20%20%0A%0A%20%20%20%20%20%20%20%20circle_marker_401fb57a4b184a1db3d7370b2e117add.bindPopup%28popup_6fd5ffb7745c480c81094dae47de96c4%29%0A%20%20%20%20%20%20%20%20%3B%0A%0A%20%20%20%20%20%20%20%20%0A%20%20%20%20%0A%20%20%20%20%0A%20%20%20%20%20%20%20%20%20%20%20%20var%20circle_marker_c3c0129e238a452199976b0e5147c113%20%3D%20L.circleMarker%28%0A%20%20%20%20%20%20%20%20%20%20%20%20%20%20%20%20%5B33.3797769227161%2C%20126.545875710283%5D%2C%0A%20%20%20%20%20%20%20%20%20%20%20%20%20%20%20%20%7B%22bubblingMouseEvents%22%3A%20true%2C%20%22color%22%3A%20%22red%22%2C%20%22dashArray%22%3A%20null%2C%20%22dashOffset%22%3A%20null%2C%20%22fill%22%3A%20false%2C%20%22fillColor%22%3A%20%22red%22%2C%20%22fillOpacity%22%3A%200.2%2C%20%22fillRule%22%3A%20%22evenodd%22%2C%20%22lineCap%22%3A%20%22round%22%2C%20%22lineJoin%22%3A%20%22round%22%2C%20%22opacity%22%3A%201.0%2C%20%22radius%22%3A%202%2C%20%22stroke%22%3A%20true%2C%20%22weight%22%3A%203%7D%0A%20%20%20%20%20%20%20%20%20%20%20%20%29.addTo%28map_4676c33c0df9475a8639d984aae3eb1c%29%3B%0A%20%20%20%20%20%20%20%20%0A%20%20%20%20%0A%20%20%20%20%20%20%20%20var%20popup_626c41ac6794414b87f6bd1cb0090bea%20%3D%20L.popup%28%7B%22maxWidth%22%3A%20%22100%25%22%7D%29%3B%0A%0A%20%20%20%20%20%20%20%20%0A%20%20%20%20%20%20%20%20%20%20%20%20var%20html_25f4c41ab8ba490bb88ca50c5d9b685a%20%3D%20%24%28%60%3Cdiv%20id%3D%22html_25f4c41ab8ba490bb88ca50c5d9b685a%22%20style%3D%22width%3A%20100.0%25%3B%20height%3A%20100.0%25%3B%22%3E%EC%A0%9C%EC%A3%BC%EB%8F%84%3C/div%3E%60%29%5B0%5D%3B%0A%20%20%20%20%20%20%20%20%20%20%20%20popup_626c41ac6794414b87f6bd1cb0090bea.setContent%28html_25f4c41ab8ba490bb88ca50c5d9b685a%29%3B%0A%20%20%20%20%20%20%20%20%0A%0A%20%20%20%20%20%20%20%20circle_marker_c3c0129e238a452199976b0e5147c113.bindPopup%28popup_626c41ac6794414b87f6bd1cb0090bea%29%0A%20%20%20%20%20%20%20%20%3B%0A%0A%20%20%20%20%20%20%20%20%0A%20%20%20%20%0A%20%20%20%20%0A%20%20%20%20%20%20%20%20%20%20%20%20var%20circle_marker_582aa835530748b9b7dab9297200cb1a%20%3D%20L.circleMarker%28%0A%20%20%20%20%20%20%20%20%20%20%20%20%20%20%20%20%5B33.3797769227161%2C%20126.545875710283%5D%2C%0A%20%20%20%20%20%20%20%20%20%20%20%20%20%20%20%20%7B%22bubblingMouseEvents%22%3A%20true%2C%20%22color%22%3A%20%22red%22%2C%20%22dashArray%22%3A%20null%2C%20%22dashOffset%22%3A%20null%2C%20%22fill%22%3A%20false%2C%20%22fillColor%22%3A%20%22red%22%2C%20%22fillOpacity%22%3A%200.2%2C%20%22fillRule%22%3A%20%22evenodd%22%2C%20%22lineCap%22%3A%20%22round%22%2C%20%22lineJoin%22%3A%20%22round%22%2C%20%22opacity%22%3A%201.0%2C%20%22radius%22%3A%202%2C%20%22stroke%22%3A%20true%2C%20%22weight%22%3A%203%7D%0A%20%20%20%20%20%20%20%20%20%20%20%20%29.addTo%28map_4676c33c0df9475a8639d984aae3eb1c%29%3B%0A%20%20%20%20%20%20%20%20%0A%20%20%20%20%0A%20%20%20%20%20%20%20%20var%20popup_9b96ed2ec65040a5a1a0adbb6924c5d2%20%3D%20L.popup%28%7B%22maxWidth%22%3A%20%22100%25%22%7D%29%3B%0A%0A%20%20%20%20%20%20%20%20%0A%20%20%20%20%20%20%20%20%20%20%20%20var%20html_bb38614386904cc7b850d631395b2f38%20%3D%20%24%28%60%3Cdiv%20id%3D%22html_bb38614386904cc7b850d631395b2f38%22%20style%3D%22width%3A%20100.0%25%3B%20height%3A%20100.0%25%3B%22%3E%EC%A0%9C%EC%A3%BC%EB%8F%84%3C/div%3E%60%29%5B0%5D%3B%0A%20%20%20%20%20%20%20%20%20%20%20%20popup_9b96ed2ec65040a5a1a0adbb6924c5d2.setContent%28html_bb38614386904cc7b850d631395b2f38%29%3B%0A%20%20%20%20%20%20%20%20%0A%0A%20%20%20%20%20%20%20%20circle_marker_582aa835530748b9b7dab9297200cb1a.bindPopup%28popup_9b96ed2ec65040a5a1a0adbb6924c5d2%29%0A%20%20%20%20%20%20%20%20%3B%0A%0A%20%20%20%20%20%20%20%20%0A%20%20%20%20%0A%20%20%20%20%0A%20%20%20%20%20%20%20%20%20%20%20%20var%20circle_marker_f6a2791f463843658c8aba5a1d33f6b7%20%3D%20L.circleMarker%28%0A%20%20%20%20%20%20%20%20%20%20%20%20%20%20%20%20%5B33.25156773781329%2C%20126.4249994216175%5D%2C%0A%20%20%20%20%20%20%20%20%20%20%20%20%20%20%20%20%7B%22bubblingMouseEvents%22%3A%20true%2C%20%22color%22%3A%20%22red%22%2C%20%22dashArray%22%3A%20null%2C%20%22dashOffset%22%3A%20null%2C%20%22fill%22%3A%20false%2C%20%22fillColor%22%3A%20%22red%22%2C%20%22fillOpacity%22%3A%200.2%2C%20%22fillRule%22%3A%20%22evenodd%22%2C%20%22lineCap%22%3A%20%22round%22%2C%20%22lineJoin%22%3A%20%22round%22%2C%20%22opacity%22%3A%201.0%2C%20%22radius%22%3A%202%2C%20%22stroke%22%3A%20true%2C%20%22weight%22%3A%203%7D%0A%20%20%20%20%20%20%20%20%20%20%20%20%29.addTo%28map_4676c33c0df9475a8639d984aae3eb1c%29%3B%0A%20%20%20%20%20%20%20%20%0A%20%20%20%20%0A%20%20%20%20%20%20%20%20var%20popup_f1493c3de2d443ad9dd1ed2bee789a0c%20%3D%20L.popup%28%7B%22maxWidth%22%3A%20%22100%25%22%7D%29%3B%0A%0A%20%20%20%20%20%20%20%20%0A%20%20%20%20%20%20%20%20%20%20%20%20var%20html_f6b50b86c1344fabada3524622350450%20%3D%20%24%28%60%3Cdiv%20id%3D%22html_f6b50b86c1344fabada3524622350450%22%20style%3D%22width%3A%20100.0%25%3B%20height%3A%20100.0%25%3B%22%3E%EC%88%98%EB%91%90%EB%A6%AC%EB%B3%B4%EB%A7%90%EC%B9%BC%EA%B5%AD%EC%88%98%3C/div%3E%60%29%5B0%5D%3B%0A%20%20%20%20%20%20%20%20%20%20%20%20popup_f1493c3de2d443ad9dd1ed2bee789a0c.setContent%28html_f6b50b86c1344fabada3524622350450%29%3B%0A%20%20%20%20%20%20%20%20%0A%0A%20%20%20%20%20%20%20%20circle_marker_f6a2791f463843658c8aba5a1d33f6b7.bindPopup%28popup_f1493c3de2d443ad9dd1ed2bee789a0c%29%0A%20%20%20%20%20%20%20%20%3B%0A%0A%20%20%20%20%20%20%20%20%0A%20%20%20%20%0A%3C/script%3E onload=\"this.contentDocument.open();this.contentDocument.write(    decodeURIComponent(this.getAttribute('data-html')));this.contentDocument.close();\" allowfullscreen webkitallowfullscreen mozallowfullscreen></iframe></div></div>"
      ],
      "text/plain": [
       "<folium.folium.Map at 0x186d73fe4f0>"
      ]
     },
     "execution_count": 43,
     "metadata": {},
     "output_type": "execute_result"
    }
   ],
   "source": [
    "import folium\n",
    "\n",
    "Mt_Hanla = [33.362526, 126.528737]\n",
    "map_jeju = folium.Map(location = Mt_Hanla, zoom_start = 11) #zoom_start 번호가 작을수록 지도가 작게 표시됨\n",
    "\n",
    "for i in range(len(location_data)):\n",
    "    name = location_data['name_official'][i] #공식명칭\n",
    "    count = location_data['place'][i] #게시글 횟수\n",
    "    size = int(count)*2\n",
    "    long = float(location_data['위도'][i]) #위도\n",
    "    lat = float(location_data['경도'][i]) #경도\n",
    "    folium.CircleMarker((long, lat), radius = size, color = 'red', popup = name).add_to(map_jeju)\n",
    "\n",
    "map_jeju"
   ]
  },
  {
   "cell_type": "code",
   "execution_count": 44,
   "metadata": {},
   "outputs": [],
   "source": [
    "#folium.Map() 명령어를 통해 지도를 생성\n",
    "#location = Mt_Hanla 옵션을 통해 Mt_Hanla에 저장된 한라산 좌표를 중심으로 지도 표시"
   ]
  },
  {
   "cell_type": "code",
   "execution_count": 45,
   "metadata": {},
   "outputs": [],
   "source": [
    "#지도 저장\n",
    "map_jeju.save('C:/Users/name_/Desktop/데이터분석/files/jeju.html')"
   ]
  },
  {
   "cell_type": "markdown",
   "metadata": {},
   "source": [
    "### folium을 이용한 지도 시각화 2 - 그룹으로 표시"
   ]
  },
  {
   "cell_type": "code",
   "execution_count": 46,
   "metadata": {},
   "outputs": [],
   "source": [
    "#서클마커는 분포를 한눈에 살펴볼 수 있다는 장점이 있지만, 특정 지역에 너무 몰려 있을 경우 개별위치를 확인하기가 어렵다\n",
    "#이러한 점을 보완하기 위해 인접한 서클마커들끼리 그룹으로 묶어서 표시해 보자"
   ]
  },
  {
   "cell_type": "code",
   "execution_count": 62,
   "metadata": {},
   "outputs": [
    {
     "data": {
      "text/plain": [
       "<folium.map.LayerControl at 0x186d7679e80>"
      ]
     },
     "execution_count": 62,
     "metadata": {},
     "output_type": "execute_result"
    }
   ],
   "source": [
    "#지도 표시하기\n",
    "from folium.plugins import MarkerCluster\n",
    "\n",
    "locations = []\n",
    "names = []\n",
    "\n",
    "for i in range(len(location_data)):\n",
    "    data = location_data.iloc[i] #행 하나씩\n",
    "    locations.append((float(data['위도']), float(data['경도']))) #위도 경도 순으로\n",
    "    names.append(data['name_official'])\n",
    "    \n",
    "icon_create_function = \"\"\"\\\n",
    "function(cluster){\n",
    "    return L.divIcon({\n",
    "    html : '<b>' + cluster.getChildCount() + '<b>',\n",
    "    className : 'marker-cluster marker-cluster-large',\n",
    "    iconSize : new L.Point(30,30)\n",
    "    });\n",
    "}\"\"\"\n",
    "\n",
    "Mt_Hanla = [33.362526, 126.528737]\n",
    "map_jeju2 = folium.Map(location = Mt_Hanla, zoom_start = 10)\n",
    "\n",
    "marker_cluster = MarkerCluster(\n",
    "    locations = locations, popups=names,\n",
    "    name = 'Jeju',\n",
    "    overlay = True,\n",
    "    control = True,\n",
    "    icon_create_function = icon_create_function\n",
    ")\n",
    "\n",
    "marker_cluster.add_to(map_jeju2)\n",
    "folium.LayerControl().add_to(map_jeju2)"
   ]
  },
  {
   "cell_type": "code",
   "execution_count": 63,
   "metadata": {},
   "outputs": [
    {
     "data": {
      "text/html": [
       "<div style=\"width:100%;\"><div style=\"position:relative;width:100%;height:0;padding-bottom:60%;\"><span style=\"color:#565656\">Make this Notebook Trusted to load map: File -> Trust Notebook</span><iframe src=\"about:blank\" style=\"position:absolute;width:100%;height:100%;left:0;top:0;border:none !important;\" data-html=%3C%21DOCTYPE%20html%3E%0A%3Chead%3E%20%20%20%20%0A%20%20%20%20%3Cmeta%20http-equiv%3D%22content-type%22%20content%3D%22text/html%3B%20charset%3DUTF-8%22%20/%3E%0A%20%20%20%20%0A%20%20%20%20%20%20%20%20%3Cscript%3E%0A%20%20%20%20%20%20%20%20%20%20%20%20L_NO_TOUCH%20%3D%20false%3B%0A%20%20%20%20%20%20%20%20%20%20%20%20L_DISABLE_3D%20%3D%20false%3B%0A%20%20%20%20%20%20%20%20%3C/script%3E%0A%20%20%20%20%0A%20%20%20%20%3Cscript%20src%3D%22https%3A//cdn.jsdelivr.net/npm/leaflet%401.6.0/dist/leaflet.js%22%3E%3C/script%3E%0A%20%20%20%20%3Cscript%20src%3D%22https%3A//code.jquery.com/jquery-1.12.4.min.js%22%3E%3C/script%3E%0A%20%20%20%20%3Cscript%20src%3D%22https%3A//maxcdn.bootstrapcdn.com/bootstrap/3.2.0/js/bootstrap.min.js%22%3E%3C/script%3E%0A%20%20%20%20%3Cscript%20src%3D%22https%3A//cdnjs.cloudflare.com/ajax/libs/Leaflet.awesome-markers/2.0.2/leaflet.awesome-markers.js%22%3E%3C/script%3E%0A%20%20%20%20%3Clink%20rel%3D%22stylesheet%22%20href%3D%22https%3A//cdn.jsdelivr.net/npm/leaflet%401.6.0/dist/leaflet.css%22/%3E%0A%20%20%20%20%3Clink%20rel%3D%22stylesheet%22%20href%3D%22https%3A//maxcdn.bootstrapcdn.com/bootstrap/3.2.0/css/bootstrap.min.css%22/%3E%0A%20%20%20%20%3Clink%20rel%3D%22stylesheet%22%20href%3D%22https%3A//maxcdn.bootstrapcdn.com/bootstrap/3.2.0/css/bootstrap-theme.min.css%22/%3E%0A%20%20%20%20%3Clink%20rel%3D%22stylesheet%22%20href%3D%22https%3A//maxcdn.bootstrapcdn.com/font-awesome/4.6.3/css/font-awesome.min.css%22/%3E%0A%20%20%20%20%3Clink%20rel%3D%22stylesheet%22%20href%3D%22https%3A//cdnjs.cloudflare.com/ajax/libs/Leaflet.awesome-markers/2.0.2/leaflet.awesome-markers.css%22/%3E%0A%20%20%20%20%3Clink%20rel%3D%22stylesheet%22%20href%3D%22https%3A//rawcdn.githack.com/python-visualization/folium/master/folium/templates/leaflet.awesome.rotate.css%22/%3E%0A%20%20%20%20%3Cstyle%3Ehtml%2C%20body%20%7Bwidth%3A%20100%25%3Bheight%3A%20100%25%3Bmargin%3A%200%3Bpadding%3A%200%3B%7D%3C/style%3E%0A%20%20%20%20%3Cstyle%3E%23map%20%7Bposition%3Aabsolute%3Btop%3A0%3Bbottom%3A0%3Bright%3A0%3Bleft%3A0%3B%7D%3C/style%3E%0A%20%20%20%20%0A%20%20%20%20%20%20%20%20%20%20%20%20%3Cmeta%20name%3D%22viewport%22%20content%3D%22width%3Ddevice-width%2C%0A%20%20%20%20%20%20%20%20%20%20%20%20%20%20%20%20initial-scale%3D1.0%2C%20maximum-scale%3D1.0%2C%20user-scalable%3Dno%22%20/%3E%0A%20%20%20%20%20%20%20%20%20%20%20%20%3Cstyle%3E%0A%20%20%20%20%20%20%20%20%20%20%20%20%20%20%20%20%23map_d03df4beec0f4998b035bda7d35a48a4%20%7B%0A%20%20%20%20%20%20%20%20%20%20%20%20%20%20%20%20%20%20%20%20position%3A%20relative%3B%0A%20%20%20%20%20%20%20%20%20%20%20%20%20%20%20%20%20%20%20%20width%3A%20100.0%25%3B%0A%20%20%20%20%20%20%20%20%20%20%20%20%20%20%20%20%20%20%20%20height%3A%20100.0%25%3B%0A%20%20%20%20%20%20%20%20%20%20%20%20%20%20%20%20%20%20%20%20left%3A%200.0%25%3B%0A%20%20%20%20%20%20%20%20%20%20%20%20%20%20%20%20%20%20%20%20top%3A%200.0%25%3B%0A%20%20%20%20%20%20%20%20%20%20%20%20%20%20%20%20%7D%0A%20%20%20%20%20%20%20%20%20%20%20%20%3C/style%3E%0A%20%20%20%20%20%20%20%20%0A%20%20%20%20%3Cscript%20src%3D%22https%3A//cdnjs.cloudflare.com/ajax/libs/leaflet.markercluster/1.1.0/leaflet.markercluster.js%22%3E%3C/script%3E%0A%20%20%20%20%3Clink%20rel%3D%22stylesheet%22%20href%3D%22https%3A//cdnjs.cloudflare.com/ajax/libs/leaflet.markercluster/1.1.0/MarkerCluster.css%22/%3E%0A%20%20%20%20%3Clink%20rel%3D%22stylesheet%22%20href%3D%22https%3A//cdnjs.cloudflare.com/ajax/libs/leaflet.markercluster/1.1.0/MarkerCluster.Default.css%22/%3E%0A%3C/head%3E%0A%3Cbody%3E%20%20%20%20%0A%20%20%20%20%0A%20%20%20%20%20%20%20%20%20%20%20%20%3Cdiv%20class%3D%22folium-map%22%20id%3D%22map_d03df4beec0f4998b035bda7d35a48a4%22%20%3E%3C/div%3E%0A%20%20%20%20%20%20%20%20%0A%3C/body%3E%0A%3Cscript%3E%20%20%20%20%0A%20%20%20%20%0A%20%20%20%20%20%20%20%20%20%20%20%20var%20map_d03df4beec0f4998b035bda7d35a48a4%20%3D%20L.map%28%0A%20%20%20%20%20%20%20%20%20%20%20%20%20%20%20%20%22map_d03df4beec0f4998b035bda7d35a48a4%22%2C%0A%20%20%20%20%20%20%20%20%20%20%20%20%20%20%20%20%7B%0A%20%20%20%20%20%20%20%20%20%20%20%20%20%20%20%20%20%20%20%20center%3A%20%5B33.362526%2C%20126.528737%5D%2C%0A%20%20%20%20%20%20%20%20%20%20%20%20%20%20%20%20%20%20%20%20crs%3A%20L.CRS.EPSG3857%2C%0A%20%20%20%20%20%20%20%20%20%20%20%20%20%20%20%20%20%20%20%20zoom%3A%2010%2C%0A%20%20%20%20%20%20%20%20%20%20%20%20%20%20%20%20%20%20%20%20zoomControl%3A%20true%2C%0A%20%20%20%20%20%20%20%20%20%20%20%20%20%20%20%20%20%20%20%20preferCanvas%3A%20false%2C%0A%20%20%20%20%20%20%20%20%20%20%20%20%20%20%20%20%7D%0A%20%20%20%20%20%20%20%20%20%20%20%20%29%3B%0A%0A%20%20%20%20%20%20%20%20%20%20%20%20%0A%0A%20%20%20%20%20%20%20%20%0A%20%20%20%20%0A%20%20%20%20%20%20%20%20%20%20%20%20var%20tile_layer_697aa63185884da6a46e63bd9f435af9%20%3D%20L.tileLayer%28%0A%20%20%20%20%20%20%20%20%20%20%20%20%20%20%20%20%22https%3A//%7Bs%7D.tile.openstreetmap.org/%7Bz%7D/%7Bx%7D/%7By%7D.png%22%2C%0A%20%20%20%20%20%20%20%20%20%20%20%20%20%20%20%20%7B%22attribution%22%3A%20%22Data%20by%20%5Cu0026copy%3B%20%5Cu003ca%20href%3D%5C%22http%3A//openstreetmap.org%5C%22%5Cu003eOpenStreetMap%5Cu003c/a%5Cu003e%2C%20under%20%5Cu003ca%20href%3D%5C%22http%3A//www.openstreetmap.org/copyright%5C%22%5Cu003eODbL%5Cu003c/a%5Cu003e.%22%2C%20%22detectRetina%22%3A%20false%2C%20%22maxNativeZoom%22%3A%2018%2C%20%22maxZoom%22%3A%2018%2C%20%22minZoom%22%3A%200%2C%20%22noWrap%22%3A%20false%2C%20%22opacity%22%3A%201%2C%20%22subdomains%22%3A%20%22abc%22%2C%20%22tms%22%3A%20false%7D%0A%20%20%20%20%20%20%20%20%20%20%20%20%29.addTo%28map_d03df4beec0f4998b035bda7d35a48a4%29%3B%0A%20%20%20%20%20%20%20%20%0A%20%20%20%20%0A%20%20%20%20%20%20%20%20%20%20%20%20var%20marker_cluster_6dc2325db69544499e7850408c0ee0f6%20%3D%20L.markerClusterGroup%28%0A%20%20%20%20%20%20%20%20%20%20%20%20%20%20%20%20%7B%7D%0A%20%20%20%20%20%20%20%20%20%20%20%20%29%3B%0A%20%20%20%20%20%20%20%20%20%20%20%20marker_cluster_6dc2325db69544499e7850408c0ee0f6.options.iconCreateFunction%20%3D%0A%20%20%20%20%20%20%20%20%20%20%20%20%20%20%20%20function%28cluster%29%7B%0A%20%20%20%20return%20L.divIcon%28%7B%0A%20%20%20%20html%20%3A%20%27%3Cb%3E%27%20%2B%20cluster.getChildCount%28%29%20%2B%20%27%3Cb%3E%27%2C%0A%20%20%20%20className%20%3A%20%27marker-cluster%20marker-cluster-large%27%2C%0A%20%20%20%20iconSize%20%3A%20new%20L.Point%2830%2C30%29%0A%20%20%20%20%7D%29%3B%0A%7D%3B%0A%20%20%20%20%20%20%20%20%20%20%20%20map_d03df4beec0f4998b035bda7d35a48a4.addLayer%28marker_cluster_6dc2325db69544499e7850408c0ee0f6%29%3B%0A%20%20%20%20%20%20%20%20%0A%20%20%20%20%0A%20%20%20%20%20%20%20%20%20%20%20%20var%20marker_c3706ccd457b4d4b876efad586f969e5%20%3D%20L.marker%28%0A%20%20%20%20%20%20%20%20%20%20%20%20%20%20%20%20%5B33.47812329437031%2C%20126.36867872098%5D%2C%0A%20%20%20%20%20%20%20%20%20%20%20%20%20%20%20%20%7B%7D%0A%20%20%20%20%20%20%20%20%20%20%20%20%29.addTo%28marker_cluster_6dc2325db69544499e7850408c0ee0f6%29%3B%0A%20%20%20%20%20%20%20%20%0A%20%20%20%20%0A%20%20%20%20%20%20%20%20var%20popup_c2f4d6cc33d4420a8d099591500cef4d%20%3D%20L.popup%28%7B%22maxWidth%22%3A%20%22100%25%22%7D%29%3B%0A%0A%20%20%20%20%20%20%20%20%0A%20%20%20%20%20%20%20%20%20%20%20%20var%20html_f5c9b35585774cb0856736c5c94ec6cb%20%3D%20%24%28%60%3Cdiv%20id%3D%22html_f5c9b35585774cb0856736c5c94ec6cb%22%20style%3D%22width%3A%20100.0%25%3B%20height%3A%20100.0%25%3B%22%3E%EC%95%A0%EC%9B%94%ED%95%B4%EC%95%88%EB%8F%84%EB%A1%9C%3C/div%3E%60%29%5B0%5D%3B%0A%20%20%20%20%20%20%20%20%20%20%20%20popup_c2f4d6cc33d4420a8d099591500cef4d.setContent%28html_f5c9b35585774cb0856736c5c94ec6cb%29%3B%0A%20%20%20%20%20%20%20%20%0A%0A%20%20%20%20%20%20%20%20marker_c3706ccd457b4d4b876efad586f969e5.bindPopup%28popup_c2f4d6cc33d4420a8d099591500cef4d%29%0A%20%20%20%20%20%20%20%20%3B%0A%0A%20%20%20%20%20%20%20%20%0A%20%20%20%20%0A%20%20%20%20%0A%20%20%20%20%20%20%20%20%20%20%20%20var%20marker_305340a889a343bb93d7697122a71033%20%3D%20L.marker%28%0A%20%20%20%20%20%20%20%20%20%20%20%20%20%20%20%20%5B33.4842446359284%2C%20126.381106668339%5D%2C%0A%20%20%20%20%20%20%20%20%20%20%20%20%20%20%20%20%7B%7D%0A%20%20%20%20%20%20%20%20%20%20%20%20%29.addTo%28marker_cluster_6dc2325db69544499e7850408c0ee0f6%29%3B%0A%20%20%20%20%20%20%20%20%0A%20%20%20%20%0A%20%20%20%20%20%20%20%20var%20popup_2573569a351049d3a9f843a352d112d6%20%3D%20L.popup%28%7B%22maxWidth%22%3A%20%22100%25%22%7D%29%3B%0A%0A%20%20%20%20%20%20%20%20%0A%20%20%20%20%20%20%20%20%20%20%20%20var%20html_8e4136c063ad4401992f583cb947f373%20%3D%20%24%28%60%3Cdiv%20id%3D%22html_8e4136c063ad4401992f583cb947f373%22%20style%3D%22width%3A%20100.0%25%3B%20height%3A%20100.0%25%3B%22%3E%EC%82%AC%EC%9D%B4%EC%B9%B4%EB%A0%88%3C/div%3E%60%29%5B0%5D%3B%0A%20%20%20%20%20%20%20%20%20%20%20%20popup_2573569a351049d3a9f843a352d112d6.setContent%28html_8e4136c063ad4401992f583cb947f373%29%3B%0A%20%20%20%20%20%20%20%20%0A%0A%20%20%20%20%20%20%20%20marker_305340a889a343bb93d7697122a71033.bindPopup%28popup_2573569a351049d3a9f843a352d112d6%29%0A%20%20%20%20%20%20%20%20%3B%0A%0A%20%20%20%20%20%20%20%20%0A%20%20%20%20%0A%20%20%20%20%0A%20%20%20%20%20%20%20%20%20%20%20%20var%20marker_adc7d5c9037b444d9889c27cffb062ea%20%3D%20L.marker%28%0A%20%20%20%20%20%20%20%20%20%20%20%20%20%20%20%20%5B33.5561956278273%2C%20126.793280468311%5D%2C%0A%20%20%20%20%20%20%20%20%20%20%20%20%20%20%20%20%7B%7D%0A%20%20%20%20%20%20%20%20%20%20%20%20%29.addTo%28marker_cluster_6dc2325db69544499e7850408c0ee0f6%29%3B%0A%20%20%20%20%20%20%20%20%0A%20%20%20%20%0A%20%20%20%20%20%20%20%20var%20popup_9dbdcc28b20a4ac49bae808526f293a4%20%3D%20L.popup%28%7B%22maxWidth%22%3A%20%22100%25%22%7D%29%3B%0A%0A%20%20%20%20%20%20%20%20%0A%20%20%20%20%20%20%20%20%20%20%20%20var%20html_dcd4f4c2a84a49ed84dd136a818e24ef%20%3D%20%24%28%60%3Cdiv%20id%3D%22html_dcd4f4c2a84a49ed84dd136a818e24ef%22%20style%3D%22width%3A%20100.0%25%3B%20height%3A%20100.0%25%3B%22%3E%EC%9B%94%EC%A0%95%EB%A6%AC%EC%9D%B8%EC%B9%B4%ED%8E%98%3C/div%3E%60%29%5B0%5D%3B%0A%20%20%20%20%20%20%20%20%20%20%20%20popup_9dbdcc28b20a4ac49bae808526f293a4.setContent%28html_dcd4f4c2a84a49ed84dd136a818e24ef%29%3B%0A%20%20%20%20%20%20%20%20%0A%0A%20%20%20%20%20%20%20%20marker_adc7d5c9037b444d9889c27cffb062ea.bindPopup%28popup_9dbdcc28b20a4ac49bae808526f293a4%29%0A%20%20%20%20%20%20%20%20%3B%0A%0A%20%20%20%20%20%20%20%20%0A%20%20%20%20%0A%20%20%20%20%0A%20%20%20%20%20%20%20%20%20%20%20%20var%20marker_2d1a86a58ebd40bf8d1494eee837bfa6%20%3D%20L.marker%28%0A%20%20%20%20%20%20%20%20%20%20%20%20%20%20%20%20%5B33.4827924545002%2C%20126.376305449139%5D%2C%0A%20%20%20%20%20%20%20%20%20%20%20%20%20%20%20%20%7B%7D%0A%20%20%20%20%20%20%20%20%20%20%20%20%29.addTo%28marker_cluster_6dc2325db69544499e7850408c0ee0f6%29%3B%0A%20%20%20%20%20%20%20%20%0A%20%20%20%20%0A%20%20%20%20%20%20%20%20var%20popup_33393a9bdc514c129304b4da7ed85321%20%3D%20L.popup%28%7B%22maxWidth%22%3A%20%22100%25%22%7D%29%3B%0A%0A%20%20%20%20%20%20%20%20%0A%20%20%20%20%20%20%20%20%20%20%20%20var%20html_e5ffe5b26567448584a0998834d7c69b%20%3D%20%24%28%60%3Cdiv%20id%3D%22html_e5ffe5b26567448584a0998834d7c69b%22%20style%3D%22width%3A%20100.0%25%3B%20height%3A%20100.0%25%3B%22%3E%EB%85%B8%EB%9D%BC%EB%B0%94%3C/div%3E%60%29%5B0%5D%3B%0A%20%20%20%20%20%20%20%20%20%20%20%20popup_33393a9bdc514c129304b4da7ed85321.setContent%28html_e5ffe5b26567448584a0998834d7c69b%29%3B%0A%20%20%20%20%20%20%20%20%0A%0A%20%20%20%20%20%20%20%20marker_2d1a86a58ebd40bf8d1494eee837bfa6.bindPopup%28popup_33393a9bdc514c129304b4da7ed85321%29%0A%20%20%20%20%20%20%20%20%3B%0A%0A%20%20%20%20%20%20%20%20%0A%20%20%20%20%0A%20%20%20%20%0A%20%20%20%20%20%20%20%20%20%20%20%20var%20marker_1339b8b18b99410da3ed209ce9767000%20%3D%20L.marker%28%0A%20%20%20%20%20%20%20%20%20%20%20%20%20%20%20%20%5B33.516340623989%2C%20126.528510119738%5D%2C%0A%20%20%20%20%20%20%20%20%20%20%20%20%20%20%20%20%7B%7D%0A%20%20%20%20%20%20%20%20%20%20%20%20%29.addTo%28marker_cluster_6dc2325db69544499e7850408c0ee0f6%29%3B%0A%20%20%20%20%20%20%20%20%0A%20%20%20%20%0A%20%20%20%20%20%20%20%20var%20popup_06158f0bbe0748138316ea649b6e91e2%20%3D%20L.popup%28%7B%22maxWidth%22%3A%20%22100%25%22%7D%29%3B%0A%0A%20%20%20%20%20%20%20%20%0A%20%20%20%20%20%20%20%20%20%20%20%20var%20html_d1fd7b618db04822870d72e731aebcd2%20%3D%20%24%28%60%3Cdiv%20id%3D%22html_d1fd7b618db04822870d72e731aebcd2%22%20style%3D%22width%3A%20100.0%25%3B%20height%3A%20100.0%25%3B%22%3E%EC%82%B0%EC%A7%80%ED%95%B4%EC%9E%A5%EA%B5%AD%3C/div%3E%60%29%5B0%5D%3B%0A%20%20%20%20%20%20%20%20%20%20%20%20popup_06158f0bbe0748138316ea649b6e91e2.setContent%28html_d1fd7b618db04822870d72e731aebcd2%29%3B%0A%20%20%20%20%20%20%20%20%0A%0A%20%20%20%20%20%20%20%20marker_1339b8b18b99410da3ed209ce9767000.bindPopup%28popup_06158f0bbe0748138316ea649b6e91e2%29%0A%20%20%20%20%20%20%20%20%3B%0A%0A%20%20%20%20%20%20%20%20%0A%20%20%20%20%0A%20%20%20%20%0A%20%20%20%20%20%20%20%20%20%20%20%20var%20marker_342139cc853541b5b856a30782e67ce3%20%3D%20L.marker%28%0A%20%20%20%20%20%20%20%20%20%20%20%20%20%20%20%20%5B33.23565653706234%2C%20126.3124867027795%5D%2C%0A%20%20%20%20%20%20%20%20%20%20%20%20%20%20%20%20%7B%7D%0A%20%20%20%20%20%20%20%20%20%20%20%20%29.addTo%28marker_cluster_6dc2325db69544499e7850408c0ee0f6%29%3B%0A%20%20%20%20%20%20%20%20%0A%20%20%20%20%0A%20%20%20%20%20%20%20%20var%20popup_31b041439a9a428db0bf7bea0fb04925%20%3D%20L.popup%28%7B%22maxWidth%22%3A%20%22100%25%22%7D%29%3B%0A%0A%20%20%20%20%20%20%20%20%0A%20%20%20%20%20%20%20%20%20%20%20%20var%20html_e9742b1dcc064bb1aca9638f436b5d89%20%3D%20%24%28%60%3Cdiv%20id%3D%22html_e9742b1dcc064bb1aca9638f436b5d89%22%20style%3D%22width%3A%20100.0%25%3B%20height%3A%20100.0%25%3B%22%3E%EC%88%9C%EC%B2%9C%EB%AF%B8%ED%96%A5%3C/div%3E%60%29%5B0%5D%3B%0A%20%20%20%20%20%20%20%20%20%20%20%20popup_31b041439a9a428db0bf7bea0fb04925.setContent%28html_e9742b1dcc064bb1aca9638f436b5d89%29%3B%0A%20%20%20%20%20%20%20%20%0A%0A%20%20%20%20%20%20%20%20marker_342139cc853541b5b856a30782e67ce3.bindPopup%28popup_31b041439a9a428db0bf7bea0fb04925%29%0A%20%20%20%20%20%20%20%20%3B%0A%0A%20%20%20%20%20%20%20%20%0A%20%20%20%20%0A%20%20%20%20%0A%20%20%20%20%20%20%20%20%20%20%20%20var%20marker_9e4ee67e17d545dc8a5c66e64136b6e8%20%3D%20L.marker%28%0A%20%20%20%20%20%20%20%20%20%20%20%20%20%20%20%20%5B33.3797769227161%2C%20126.545875710283%5D%2C%0A%20%20%20%20%20%20%20%20%20%20%20%20%20%20%20%20%7B%7D%0A%20%20%20%20%20%20%20%20%20%20%20%20%29.addTo%28marker_cluster_6dc2325db69544499e7850408c0ee0f6%29%3B%0A%20%20%20%20%20%20%20%20%0A%20%20%20%20%0A%20%20%20%20%20%20%20%20var%20popup_9e2b700d7e0c4b5ca67bcabd985ec31e%20%3D%20L.popup%28%7B%22maxWidth%22%3A%20%22100%25%22%7D%29%3B%0A%0A%20%20%20%20%20%20%20%20%0A%20%20%20%20%20%20%20%20%20%20%20%20var%20html_92941f7a21f84810ace61b6c8683b41c%20%3D%20%24%28%60%3Cdiv%20id%3D%22html_92941f7a21f84810ace61b6c8683b41c%22%20style%3D%22width%3A%20100.0%25%3B%20height%3A%20100.0%25%3B%22%3E%EC%A0%9C%EC%A3%BC%EB%8F%84%3C/div%3E%60%29%5B0%5D%3B%0A%20%20%20%20%20%20%20%20%20%20%20%20popup_9e2b700d7e0c4b5ca67bcabd985ec31e.setContent%28html_92941f7a21f84810ace61b6c8683b41c%29%3B%0A%20%20%20%20%20%20%20%20%0A%0A%20%20%20%20%20%20%20%20marker_9e4ee67e17d545dc8a5c66e64136b6e8.bindPopup%28popup_9e2b700d7e0c4b5ca67bcabd985ec31e%29%0A%20%20%20%20%20%20%20%20%3B%0A%0A%20%20%20%20%20%20%20%20%0A%20%20%20%20%0A%20%20%20%20%0A%20%20%20%20%20%20%20%20%20%20%20%20var%20marker_481e72d874bc42c59f8fcc4f74e3b256%20%3D%20L.marker%28%0A%20%20%20%20%20%20%20%20%20%20%20%20%20%20%20%20%5B33.3797769227161%2C%20126.545875710283%5D%2C%0A%20%20%20%20%20%20%20%20%20%20%20%20%20%20%20%20%7B%7D%0A%20%20%20%20%20%20%20%20%20%20%20%20%29.addTo%28marker_cluster_6dc2325db69544499e7850408c0ee0f6%29%3B%0A%20%20%20%20%20%20%20%20%0A%20%20%20%20%0A%20%20%20%20%20%20%20%20var%20popup_91f6c0ca832a4225912f781fab924a62%20%3D%20L.popup%28%7B%22maxWidth%22%3A%20%22100%25%22%7D%29%3B%0A%0A%20%20%20%20%20%20%20%20%0A%20%20%20%20%20%20%20%20%20%20%20%20var%20html_7f3373b35de64d33bd6bb4171630dee7%20%3D%20%24%28%60%3Cdiv%20id%3D%22html_7f3373b35de64d33bd6bb4171630dee7%22%20style%3D%22width%3A%20100.0%25%3B%20height%3A%20100.0%25%3B%22%3E%EC%A0%9C%EC%A3%BC%EB%8F%84%3C/div%3E%60%29%5B0%5D%3B%0A%20%20%20%20%20%20%20%20%20%20%20%20popup_91f6c0ca832a4225912f781fab924a62.setContent%28html_7f3373b35de64d33bd6bb4171630dee7%29%3B%0A%20%20%20%20%20%20%20%20%0A%0A%20%20%20%20%20%20%20%20marker_481e72d874bc42c59f8fcc4f74e3b256.bindPopup%28popup_91f6c0ca832a4225912f781fab924a62%29%0A%20%20%20%20%20%20%20%20%3B%0A%0A%20%20%20%20%20%20%20%20%0A%20%20%20%20%0A%20%20%20%20%0A%20%20%20%20%20%20%20%20%20%20%20%20var%20marker_fad74344c532449b82b430cc3a3f7399%20%3D%20L.marker%28%0A%20%20%20%20%20%20%20%20%20%20%20%20%20%20%20%20%5B33.25156773781329%2C%20126.4249994216175%5D%2C%0A%20%20%20%20%20%20%20%20%20%20%20%20%20%20%20%20%7B%7D%0A%20%20%20%20%20%20%20%20%20%20%20%20%29.addTo%28marker_cluster_6dc2325db69544499e7850408c0ee0f6%29%3B%0A%20%20%20%20%20%20%20%20%0A%20%20%20%20%0A%20%20%20%20%20%20%20%20var%20popup_7a0b9d2dbc164bf382cad45136af4844%20%3D%20L.popup%28%7B%22maxWidth%22%3A%20%22100%25%22%7D%29%3B%0A%0A%20%20%20%20%20%20%20%20%0A%20%20%20%20%20%20%20%20%20%20%20%20var%20html_29345a73932b41378ec4bbc7c60083dd%20%3D%20%24%28%60%3Cdiv%20id%3D%22html_29345a73932b41378ec4bbc7c60083dd%22%20style%3D%22width%3A%20100.0%25%3B%20height%3A%20100.0%25%3B%22%3E%EC%88%98%EB%91%90%EB%A6%AC%EB%B3%B4%EB%A7%90%EC%B9%BC%EA%B5%AD%EC%88%98%3C/div%3E%60%29%5B0%5D%3B%0A%20%20%20%20%20%20%20%20%20%20%20%20popup_7a0b9d2dbc164bf382cad45136af4844.setContent%28html_29345a73932b41378ec4bbc7c60083dd%29%3B%0A%20%20%20%20%20%20%20%20%0A%0A%20%20%20%20%20%20%20%20marker_fad74344c532449b82b430cc3a3f7399.bindPopup%28popup_7a0b9d2dbc164bf382cad45136af4844%29%0A%20%20%20%20%20%20%20%20%3B%0A%0A%20%20%20%20%20%20%20%20%0A%20%20%20%20%0A%20%20%20%20%0A%20%20%20%20%20%20%20%20%20%20%20%20var%20layer_control_ae2eba9e5eef4fdd8984370943069ace%20%3D%20%7B%0A%20%20%20%20%20%20%20%20%20%20%20%20%20%20%20%20base_layers%20%3A%20%7B%0A%20%20%20%20%20%20%20%20%20%20%20%20%20%20%20%20%20%20%20%20%22openstreetmap%22%20%3A%20tile_layer_697aa63185884da6a46e63bd9f435af9%2C%0A%20%20%20%20%20%20%20%20%20%20%20%20%20%20%20%20%7D%2C%0A%20%20%20%20%20%20%20%20%20%20%20%20%20%20%20%20overlays%20%3A%20%20%7B%0A%20%20%20%20%20%20%20%20%20%20%20%20%20%20%20%20%20%20%20%20%22Jeju%22%20%3A%20marker_cluster_6dc2325db69544499e7850408c0ee0f6%2C%0A%20%20%20%20%20%20%20%20%20%20%20%20%20%20%20%20%7D%2C%0A%20%20%20%20%20%20%20%20%20%20%20%20%7D%3B%0A%20%20%20%20%20%20%20%20%20%20%20%20L.control.layers%28%0A%20%20%20%20%20%20%20%20%20%20%20%20%20%20%20%20layer_control_ae2eba9e5eef4fdd8984370943069ace.base_layers%2C%0A%20%20%20%20%20%20%20%20%20%20%20%20%20%20%20%20layer_control_ae2eba9e5eef4fdd8984370943069ace.overlays%2C%0A%20%20%20%20%20%20%20%20%20%20%20%20%20%20%20%20%7B%22autoZIndex%22%3A%20true%2C%20%22collapsed%22%3A%20true%2C%20%22position%22%3A%20%22topright%22%7D%0A%20%20%20%20%20%20%20%20%20%20%20%20%29.addTo%28map_d03df4beec0f4998b035bda7d35a48a4%29%3B%0A%20%20%20%20%20%20%20%20%0A%3C/script%3E onload=\"this.contentDocument.open();this.contentDocument.write(    decodeURIComponent(this.getAttribute('data-html')));this.contentDocument.close();\" allowfullscreen webkitallowfullscreen mozallowfullscreen></iframe></div></div>"
      ],
      "text/plain": [
       "<folium.folium.Map at 0x186d76c31c0>"
      ]
     },
     "execution_count": 63,
     "metadata": {},
     "output_type": "execute_result"
    }
   ],
   "source": [
    "map_jeju2"
   ]
  },
  {
   "cell_type": "code",
   "execution_count": 64,
   "metadata": {},
   "outputs": [],
   "source": [
    "#지도 저장\n",
    "map_jeju2.save('C:/Users/name_/Desktop/데이터분석/files/jeju_cluster.html')"
   ]
  }
 ],
 "metadata": {
  "kernelspec": {
   "display_name": "Python 3",
   "language": "python",
   "name": "python3"
  },
  "language_info": {
   "codemirror_mode": {
    "name": "ipython",
    "version": 3
   },
   "file_extension": ".py",
   "mimetype": "text/x-python",
   "name": "python",
   "nbconvert_exporter": "python",
   "pygments_lexer": "ipython3",
   "version": "3.8.5"
  }
 },
 "nbformat": 4,
 "nbformat_minor": 4
}
