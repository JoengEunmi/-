{
 "cells": [
  {
   "cell_type": "code",
   "execution_count": 1,
   "metadata": {},
   "outputs": [],
   "source": [
    "#수집한 데이터를 분석에 용이하도록 다음과 같이 2가지의 전처리 작업을 진행\n",
    "#1.상품명 데이터에서 회사명과 제품명 분리\n",
    "#2.일반 문자열로 저장된 스펙 목록을 필요한 스펙으로 분류 및 단위 통합"
   ]
  },
  {
   "cell_type": "markdown",
   "metadata": {},
   "source": [
    "### 다나와 크롤링 데이터 불러오기"
   ]
  },
  {
   "cell_type": "code",
   "execution_count": 28,
   "metadata": {},
   "outputs": [
    {
     "name": "stdout",
     "output_type": "stream",
     "text": [
      "<class 'pandas.core.frame.DataFrame'>\n",
      "RangeIndex: 400 entries, 0 to 399\n",
      "Data columns (total 3 columns):\n",
      " #   Column  Non-Null Count  Dtype \n",
      "---  ------  --------------  ----- \n",
      " 0   상품명     400 non-null    object\n",
      " 1   스펙 목록   400 non-null    object\n",
      " 2   가격      400 non-null    int64 \n",
      "dtypes: int64(1), object(2)\n",
      "memory usage: 9.5+ KB\n"
     ]
    },
    {
     "data": {
      "text/html": [
       "<div>\n",
       "<style scoped>\n",
       "    .dataframe tbody tr th:only-of-type {\n",
       "        vertical-align: middle;\n",
       "    }\n",
       "\n",
       "    .dataframe tbody tr th {\n",
       "        vertical-align: top;\n",
       "    }\n",
       "\n",
       "    .dataframe thead th {\n",
       "        text-align: right;\n",
       "    }\n",
       "</style>\n",
       "<table border=\"1\" class=\"dataframe\">\n",
       "  <thead>\n",
       "    <tr style=\"text-align: right;\">\n",
       "      <th></th>\n",
       "      <th>상품명</th>\n",
       "      <th>스펙 목록</th>\n",
       "      <th>가격</th>\n",
       "    </tr>\n",
       "  </thead>\n",
       "  <tbody>\n",
       "    <tr>\n",
       "      <th>0</th>\n",
       "      <td>샤오미 드리미 V10</td>\n",
       "      <td>핸디/스틱청소기 / 핸디+스틱형 / 무선형 / 전압: 25.2V / 헤파필터 / H...</td>\n",
       "      <td>146130</td>\n",
       "    </tr>\n",
       "    <tr>\n",
       "      <th>1</th>\n",
       "      <td>LG전자 코드제로 A9S A9700</td>\n",
       "      <td>핸디/스틱청소기 / 핸디+스틱형 / 무선형 / 헤파필터 / 2중터보싸이클론 / 5단...</td>\n",
       "      <td>993520</td>\n",
       "    </tr>\n",
       "    <tr>\n",
       "      <th>2</th>\n",
       "      <td>다이슨 V8 플러피</td>\n",
       "      <td>핸디/스틱청소기 / 핸디+스틱형 / 무선형 / 전압: 21.6V / 싸이클론 / 흡...</td>\n",
       "      <td>427650</td>\n",
       "    </tr>\n",
       "    <tr>\n",
       "      <th>3</th>\n",
       "      <td>베이스어스 차량용 무선 진공 청소기 A2 (해외구매)</td>\n",
       "      <td>차량용청소기 / 무선 / 흡입력: 5,000Pa / 최대출력: 70W / 헤파필터 ...</td>\n",
       "      <td>19800</td>\n",
       "    </tr>\n",
       "    <tr>\n",
       "      <th>4</th>\n",
       "      <td>삼성전자 제트 VS15R8500BF</td>\n",
       "      <td>핸디/스틱청소기 / 핸디+스틱형 / 무선형 / 전압: 21.6V / 헤파필터 / 싸...</td>\n",
       "      <td>386140</td>\n",
       "    </tr>\n",
       "  </tbody>\n",
       "</table>\n",
       "</div>"
      ],
      "text/plain": [
       "                             상품명  \\\n",
       "0                    샤오미 드리미 V10   \n",
       "1            LG전자 코드제로 A9S A9700   \n",
       "2                     다이슨 V8 플러피   \n",
       "3  베이스어스 차량용 무선 진공 청소기 A2 (해외구매)   \n",
       "4            삼성전자 제트 VS15R8500BF   \n",
       "\n",
       "                                               스펙 목록      가격  \n",
       "0  핸디/스틱청소기 / 핸디+스틱형 / 무선형 / 전압: 25.2V / 헤파필터 / H...  146130  \n",
       "1  핸디/스틱청소기 / 핸디+스틱형 / 무선형 / 헤파필터 / 2중터보싸이클론 / 5단...  993520  \n",
       "2  핸디/스틱청소기 / 핸디+스틱형 / 무선형 / 전압: 21.6V / 싸이클론 / 흡...  427650  \n",
       "3  차량용청소기 / 무선 / 흡입력: 5,000Pa / 최대출력: 70W / 헤파필터 ...   19800  \n",
       "4  핸디/스틱청소기 / 핸디+스틱형 / 무선형 / 전압: 21.6V / 헤파필터 / 싸...  386140  "
      ]
     },
     "execution_count": 28,
     "metadata": {},
     "output_type": "execute_result"
    }
   ],
   "source": [
    "import pandas as pd\n",
    "data = pd.read_excel('C:/Users/name_/Desktop/데이터분석/files/6장/danawa_crawling_result.xlsx')\n",
    "data.info()\n",
    "data.head()"
   ]
  },
  {
   "cell_type": "markdown",
   "metadata": {},
   "source": [
    "### 회사명, 모델명 정리"
   ]
  },
  {
   "cell_type": "code",
   "execution_count": 29,
   "metadata": {},
   "outputs": [
    {
     "data": {
      "text/plain": [
       "0                           샤오미 드리미 V10\n",
       "1                   LG전자 코드제로 A9S A9700\n",
       "2                            다이슨 V8 플러피\n",
       "3         베이스어스 차량용 무선 진공 청소기 A2 (해외구매)\n",
       "4                   삼성전자 제트 VS15R8500BF\n",
       "5                 삼성전자 제트 VS20T9258SDCS\n",
       "6                         다이슨 V10 카본파이버\n",
       "7              일렉트로룩스 WELL Q6 WQ61-1OGG\n",
       "8    샤오미 CLEANFLY 차량용 무선 청소기 3세대 (해외구매)\n",
       "9                       다이슨 디지털 슬림 플러피+\n",
       "Name: 상품명, dtype: object"
      ]
     },
     "execution_count": 29,
     "metadata": {},
     "output_type": "execute_result"
    }
   ],
   "source": [
    "data['상품명'][:10]"
   ]
  },
  {
   "cell_type": "code",
   "execution_count": 30,
   "metadata": {},
   "outputs": [
    {
     "name": "stdout",
     "output_type": "stream",
     "text": [
      "['LG전자', '코드제로 A9S A9700']\n"
     ]
    }
   ],
   "source": [
    "title = \"LG전자 코드제로 A9S A9700\"\n",
    "info = title.split(' ',1)  #split(' ',1) 첫번째 공백에 대해서만 split\n",
    "print(info)"
   ]
  },
  {
   "cell_type": "code",
   "execution_count": 31,
   "metadata": {},
   "outputs": [
    {
     "name": "stdout",
     "output_type": "stream",
     "text": [
      "400\n",
      "400\n",
      "['샤오미', 'LG전자', '다이슨', '베이스어스', '삼성전자']\n",
      "400\n",
      "['드리미 V10', '코드제로 A9S A9700', 'V8 플러피', '차량용 무선 진공 청소기 A2 (해외구매)', '제트 VS15R8500BF']\n"
     ]
    }
   ],
   "source": [
    "#회사명 + 모델명 분리\n",
    "company_list = []\n",
    "product_list = []\n",
    "\n",
    "for title in data['상품명']:\n",
    "    title_info = title.split(' ',1)\n",
    "    company_name = title_info[0]\n",
    "    product_name = title_info[-1]\n",
    "    company_list.append(company_name)\n",
    "    product_list.append(product_name)\n",
    "    \n",
    "print(len(data))\n",
    "print(len(company_list))\n",
    "print(company_list[:5])\n",
    "print(len(product_list))\n",
    "print(product_list[:5])"
   ]
  },
  {
   "cell_type": "markdown",
   "metadata": {},
   "source": [
    "### 스펙목록 데이터 살펴보기"
   ]
  },
  {
   "cell_type": "code",
   "execution_count": 33,
   "metadata": {},
   "outputs": [
    {
     "data": {
      "text/plain": [
       "'핸디/스틱청소기 / 핸디+스틱형 / 무선형 / 전압: 25.2V / 헤파필터 / H12급 / 5단계여과 / 흡입력: 140AW / 흡입력: 22000Pa / 먼지통용량: 0.5L / 충전시간: 3시간30분 / 사용시간: 1시간 / 용량: 2500mAh / 구성: 바닥, 침구, 솔형, 틈새, 연장툴, 거치대 / 무게: 1.5kg / 색상:화이트 / 소비전력: 450W'"
      ]
     },
     "execution_count": 33,
     "metadata": {},
     "output_type": "execute_result"
    }
   ],
   "source": [
    "data['스펙 목록'][0]"
   ]
  },
  {
   "cell_type": "code",
   "execution_count": 34,
   "metadata": {},
   "outputs": [
    {
     "name": "stdout",
     "output_type": "stream",
     "text": [
      "['핸디/스틱청소기', '핸디+스틱형', '무선형', '전압: 25.2V', '헤파필터', 'H12급', '5단계여과', '흡입력: 140AW', '흡입력: 22000Pa', '먼지통용량: 0.5L', '충전시간: 3시간30분', '사용시간: 1시간', '용량: 2500mAh', '구성: 바닥, 침구, 솔형, 틈새, 연장툴, 거치대', '무게: 1.5kg', '색상:화이트', '소비전력: 450W']\n"
     ]
    }
   ],
   "source": [
    "print(data['스펙 목록'][0].split(' / '))"
   ]
  },
  {
   "cell_type": "markdown",
   "metadata": {},
   "source": [
    "### 스펙목록에서 카테고리, 사용시간, 흡입력을 추출해서 정리"
   ]
  },
  {
   "cell_type": "code",
   "execution_count": 36,
   "metadata": {},
   "outputs": [
    {
     "data": {
      "text/plain": [
       "['핸디/스틱청소기',\n",
       " '핸디+스틱형',\n",
       " '무선형',\n",
       " '전압: 25.2V',\n",
       " '헤파필터',\n",
       " 'H12급',\n",
       " '5단계여과',\n",
       " '흡입력: 140AW',\n",
       " '흡입력: 22000Pa',\n",
       " '먼지통용량: 0.5L',\n",
       " '충전시간: 3시간30분',\n",
       " '사용시간: 1시간',\n",
       " '용량: 2500mAh',\n",
       " '구성: 바닥, 침구, 솔형, 틈새, 연장툴, 거치대',\n",
       " '무게: 1.5kg',\n",
       " '색상:화이트',\n",
       " '소비전력: 450W']"
      ]
     },
     "execution_count": 36,
     "metadata": {},
     "output_type": "execute_result"
    }
   ],
   "source": [
    "spec_list = data['스펙 목록'][0].split(' / ')\n",
    "spec_list"
   ]
  },
  {
   "cell_type": "code",
   "execution_count": 37,
   "metadata": {},
   "outputs": [
    {
     "data": {
      "text/plain": [
       "'핸디/스틱청소기'"
      ]
     },
     "execution_count": 37,
     "metadata": {},
     "output_type": "execute_result"
    }
   ],
   "source": [
    "#카테고리 정보 추출\n",
    "category = spec_list[0]\n",
    "category"
   ]
  },
  {
   "cell_type": "code",
   "execution_count": 38,
   "metadata": {},
   "outputs": [
    {
     "name": "stdout",
     "output_type": "stream",
     "text": [
      "사용시간: 1시간\n",
      "흡입력: 22000Pa\n"
     ]
    }
   ],
   "source": [
    "#사용시간, 흡입력이 포함된 원소 추출\n",
    "for spec in spec_list:\n",
    "    if '사용시간' in spec:\n",
    "        use_time_spec = spec\n",
    "    elif '흡입력' in spec:\n",
    "        suction_spec = spec\n",
    "\n",
    "print(use_time_spec)\n",
    "print(suction_spec)"
   ]
  },
  {
   "cell_type": "code",
   "execution_count": 42,
   "metadata": {},
   "outputs": [
    {
     "name": "stdout",
     "output_type": "stream",
     "text": [
      "1시간\n",
      "22000Pa\n"
     ]
    }
   ],
   "source": [
    "#정략적인 수치 추출\n",
    "use_time_value = use_time_spec.split(':')[1].strip()\n",
    "suction_value = suction_spec.split(':')[1].strip()\n",
    "print(use_time_value)\n",
    "print(suction_value)"
   ]
  },
  {
   "cell_type": "code",
   "execution_count": 44,
   "metadata": {},
   "outputs": [],
   "source": [
    "#카테고리, 사용시간, 흡입력 추출\n",
    "category_list = []\n",
    "use_time_list = []\n",
    "suction_list = []\n",
    "\n",
    "for spec_data in data['스펙 목록']:\n",
    "    spec_list = spec_data.split(' / ')\n",
    "    \n",
    "    #1.카테고리 추출하기\n",
    "    category = spec_list[0]\n",
    "    category_list.append(category)\n",
    "    \n",
    "    #2.사용시간, 흡입력 추출하기\n",
    "    for spec in spec_list:\n",
    "        if '사용시간' in spec:\n",
    "            use_time_value = spec.split(':')[1].strip()\n",
    "        elif '흡입력' in spec:\n",
    "            suction_value = spec.split(':')[1].strip()\n",
    "        \n",
    "    use_time_list.append(use_time_value)\n",
    "    suction_list.append(suction_value)        "
   ]
  },
  {
   "cell_type": "code",
   "execution_count": 45,
   "metadata": {},
   "outputs": [
    {
     "name": "stdout",
     "output_type": "stream",
     "text": [
      "카테고리 400 ['핸디/스틱청소기', '핸디/스틱청소기', '핸디/스틱청소기', '차량용청소기', '핸디/스틱청소기']\n",
      "사용시간 400 ['1시간', '2시간', '40분', '18분', '40분']\n",
      "흡입력 400 ['22000Pa', '200W', '155AW', '5,000Pa', '150W']\n"
     ]
    }
   ],
   "source": [
    "print('카테고리', len(category_list), category_list[:5])\n",
    "print('사용시간', len(use_time_list), use_time_list[:5])\n",
    "print('흡입력', len(suction_list), suction_list[:5])"
   ]
  },
  {
   "cell_type": "markdown",
   "metadata": {},
   "source": [
    "### 무선청소기 사용시간 단위 통일시키기"
   ]
  },
  {
   "cell_type": "code",
   "execution_count": 67,
   "metadata": {},
   "outputs": [
    {
     "data": {
      "text/plain": [
       "['1시간', '2시간', '40분', '18분', '40분', '2시간', '1시간', '45분', '25분', '40분']"
      ]
     },
     "execution_count": 67,
     "metadata": {},
     "output_type": "execute_result"
    }
   ],
   "source": [
    "use_time_list[:10]"
   ]
  },
  {
   "cell_type": "code",
   "execution_count": 51,
   "metadata": {},
   "outputs": [],
   "source": [
    "#사용시간을 분 단위로 조정하는 함수\n",
    "def convert_time_minute(time):\n",
    "    try:\n",
    "        if '시간' in time:\n",
    "            hour = time.split('시간')[0].strip()\n",
    "            if '분' in time:\n",
    "                minute = time.split('시간')[-1].split('분')[0].strip()\n",
    "            else:\n",
    "                minute = 0\n",
    "        else:\n",
    "            hour = 0\n",
    "            minute = time.split('분')[0].strip()\n",
    "        return int(hour)*60 + int(minute)\n",
    "    except:\n",
    "        return None"
   ]
  },
  {
   "cell_type": "code",
   "execution_count": 52,
   "metadata": {},
   "outputs": [
    {
     "name": "stdout",
     "output_type": "stream",
     "text": [
      "40분 = 40\n",
      "2시간 = 120\n",
      "20분 = 20\n",
      "1시간 = 60\n",
      "1시간30분 = 90\n"
     ]
    }
   ],
   "source": [
    "#사용시간을 분 단위로 조정하는 함수 테스트\n",
    "times = ['40분','2시간','20분','1시간','1시간30분']\n",
    "for time in times:\n",
    "    time_value = convert_time_minute(time)\n",
    "    print(time, '=', time_value)"
   ]
  },
  {
   "cell_type": "code",
   "execution_count": 57,
   "metadata": {},
   "outputs": [
    {
     "name": "stdout",
     "output_type": "stream",
     "text": [
      "400\n",
      "[60, 120, 40, 18, 40, 120, 60, 45, 25, 40]\n"
     ]
    }
   ],
   "source": [
    "#모델별 사용시간을 분 단위로 통일하기\n",
    "new_use_time_list = []\n",
    "\n",
    "for time in use_time_list:\n",
    "    time_value = convert_time_minute(time)\n",
    "    new_use_time_list.append(time_value)\n",
    "\n",
    "print(len(new_use_time_list))\n",
    "print(new_use_time_list[:10])"
   ]
  },
  {
   "cell_type": "markdown",
   "metadata": {},
   "source": [
    "### 무선청소기 흡입력 단위 통일시키기"
   ]
  },
  {
   "cell_type": "code",
   "execution_count": 58,
   "metadata": {},
   "outputs": [],
   "source": [
    "#흡입력의 단위로는 AW, W, PA 단위를 사용하였다\n",
    "#AW(AirWatt)는 진공청소기의 전력량을 의미하며, W(Watt)는 모터의 소비전력을 의미하고, Pa(Pascal)은 흡입력 단위를 의미한다\n",
    "#각 단위의 정확한 환산은 어렵지만, 대략 1W = 1AW = 100PA 이라고 볼 수 있다"
   ]
  },
  {
   "cell_type": "code",
   "execution_count": 60,
   "metadata": {},
   "outputs": [
    {
     "data": {
      "text/plain": [
       "['22000Pa',\n",
       " '200W',\n",
       " '155AW',\n",
       " '5,000Pa',\n",
       " '150W',\n",
       " '200W',\n",
       " '160AW',\n",
       " '160AW',\n",
       " '16,800Pa',\n",
       " '100AW',\n",
       " '100AW',\n",
       " '200W',\n",
       " '50AW',\n",
       " '200W',\n",
       " '25000Pa',\n",
       " '200W',\n",
       " '200W',\n",
       " '200W',\n",
       " '200W',\n",
       " '200W',\n",
       " '200W',\n",
       " '200W',\n",
       " '200W',\n",
       " '25000Pa',\n",
       " '185AW',\n",
       " '12,000Pa',\n",
       " '12,000Pa',\n",
       " '200W',\n",
       " '200W',\n",
       " '26000Pa',\n",
       " '26000Pa',\n",
       " '18000Pa',\n",
       " '18000Pa',\n",
       " '200W',\n",
       " '200W',\n",
       " '200W',\n",
       " '200W',\n",
       " '200W',\n",
       " '15000Pa',\n",
       " '20000Pa',\n",
       " '26000Pa',\n",
       " '26000Pa',\n",
       " '155W',\n",
       " '9000Pa',\n",
       " '13,000Pa',\n",
       " '200W',\n",
       " '10000Pa',\n",
       " '10000Pa',\n",
       " '200W',\n",
       " '200W',\n",
       " '7,000Pa',\n",
       " '13,000Pa',\n",
       " '13,000Pa',\n",
       " '200W',\n",
       " '22000Pa',\n",
       " '200W',\n",
       " '200W',\n",
       " '200W',\n",
       " '155AW',\n",
       " '150W',\n",
       " '150W',\n",
       " '27000Pa',\n",
       " '200W',\n",
       " '220AW',\n",
       " '220AW',\n",
       " '200W',\n",
       " '185AW',\n",
       " '185AW',\n",
       " '185AW',\n",
       " '185AW',\n",
       " '6000Pa',\n",
       " '4,800Pa',\n",
       " '60W',\n",
       " '220AW',\n",
       " '50AW',\n",
       " '35AW',\n",
       " '150W',\n",
       " '200W',\n",
       " '20000Pa',\n",
       " '20000Pa',\n",
       " '22000Pa',\n",
       " '22000Pa',\n",
       " '22000Pa',\n",
       " '22000Pa',\n",
       " '22000Pa',\n",
       " '20000Pa',\n",
       " '20000Pa',\n",
       " '20000Pa',\n",
       " '22000Pa',\n",
       " '140W',\n",
       " '19000Pa',\n",
       " '150W',\n",
       " '150W',\n",
       " '200W',\n",
       " '140W',\n",
       " '140W',\n",
       " '140W',\n",
       " '200W',\n",
       " '200W',\n",
       " '7000Pa',\n",
       " '7000Pa',\n",
       " '7000Pa',\n",
       " '18000Pa',\n",
       " '18000Pa',\n",
       " '18000Pa',\n",
       " '160W',\n",
       " '140W',\n",
       " '140W',\n",
       " '115AW',\n",
       " '115AW',\n",
       " '22000Pa',\n",
       " '22000Pa',\n",
       " '18500Pa',\n",
       " '140W',\n",
       " '150W',\n",
       " '155AW',\n",
       " '115AW',\n",
       " '100AW',\n",
       " '155AW',\n",
       " '6,000Pa',\n",
       " '6,000Pa',\n",
       " '6,000Pa',\n",
       " '200W',\n",
       " '7000Pa',\n",
       " '155AW',\n",
       " '155AW',\n",
       " '25W',\n",
       " '130W',\n",
       " '140W',\n",
       " '140W',\n",
       " '17000Pa',\n",
       " '17000Pa',\n",
       " '7000Pa',\n",
       " '150W',\n",
       " '100AW',\n",
       " '115AW',\n",
       " '150W',\n",
       " '140W',\n",
       " '140W',\n",
       " '140W',\n",
       " '140W',\n",
       " '140W',\n",
       " '140W',\n",
       " '22000Pa',\n",
       " '220AW',\n",
       " '220AW',\n",
       " '220AW',\n",
       " '3500Pa',\n",
       " '3500Pa',\n",
       " '22000Pa',\n",
       " '22000Pa',\n",
       " '200W',\n",
       " '6,200Pa',\n",
       " '6,200Pa',\n",
       " '140W',\n",
       " '140W',\n",
       " '50AW',\n",
       " '50AW',\n",
       " '50AW',\n",
       " '50AW',\n",
       " '15,000Pa',\n",
       " '25000Pa',\n",
       " '20000Pa',\n",
       " '100AW',\n",
       " '200W',\n",
       " '200W',\n",
       " '200W',\n",
       " '25000Pa',\n",
       " '25000Pa',\n",
       " '150W',\n",
       " '10000Pa',\n",
       " '10000Pa',\n",
       " '33000Pa',\n",
       " '33000Pa',\n",
       " '33000Pa',\n",
       " '33000Pa',\n",
       " '4500Pa',\n",
       " '35W',\n",
       " '6,000Pa',\n",
       " '6,000Pa',\n",
       " '6,000Pa',\n",
       " '6000Pa',\n",
       " '6000Pa',\n",
       " '200W',\n",
       " '200W',\n",
       " '200W',\n",
       " '29000Pa',\n",
       " '5,000Pa',\n",
       " '5,000Pa',\n",
       " '5,000Pa',\n",
       " '86W',\n",
       " '200W',\n",
       " '200W',\n",
       " '25000Pa',\n",
       " '25000Pa',\n",
       " '10400Pa',\n",
       " '18000Pa',\n",
       " '18000Pa',\n",
       " '26000Pa',\n",
       " '1500Pa',\n",
       " '22000Pa',\n",
       " '22000Pa',\n",
       " '10,000Pa',\n",
       " '10,000Pa',\n",
       " '10,000Pa',\n",
       " '10,000Pa',\n",
       " '10,000Pa',\n",
       " '20000Pa',\n",
       " '200W',\n",
       " '200W',\n",
       " '20AW',\n",
       " '20AW',\n",
       " '20AW',\n",
       " '200W',\n",
       " '200W',\n",
       " '25000Pa',\n",
       " '35AW',\n",
       " '150W',\n",
       " '35AW',\n",
       " '60W',\n",
       " '12000Pa',\n",
       " '8,000Pa',\n",
       " '22000Pa',\n",
       " '185AW',\n",
       " '185AW',\n",
       " '13000Pa',\n",
       " '13000Pa',\n",
       " '13000Pa',\n",
       " '13000Pa',\n",
       " '13000Pa',\n",
       " '13000Pa',\n",
       " '150W',\n",
       " '8000Pa',\n",
       " '20000Pa',\n",
       " '200W',\n",
       " '25000Pa',\n",
       " '25000Pa',\n",
       " '8,000Pa',\n",
       " '8,000Pa',\n",
       " '13000Pa',\n",
       " '150W',\n",
       " '150W',\n",
       " '150W',\n",
       " '150W',\n",
       " '12000Pa',\n",
       " '12000Pa',\n",
       " '12000Pa',\n",
       " '15000Pa',\n",
       " '23000Pa',\n",
       " '150W',\n",
       " '25000Pa',\n",
       " '17000Pa',\n",
       " '17000Pa',\n",
       " '17000Pa',\n",
       " '17000Pa',\n",
       " '17000Pa',\n",
       " '25000Pa',\n",
       " '150W',\n",
       " '150W',\n",
       " '150W',\n",
       " '200W',\n",
       " '12,000Pa',\n",
       " '15W',\n",
       " '15W',\n",
       " '15W',\n",
       " '15W',\n",
       " '15W',\n",
       " '15W',\n",
       " '15W',\n",
       " '15W',\n",
       " '15W',\n",
       " '15W',\n",
       " '15W',\n",
       " '150W',\n",
       " '21000Pa',\n",
       " '21000Pa',\n",
       " '21000Pa',\n",
       " '21000Pa',\n",
       " '21000Pa',\n",
       " '4,200Pa',\n",
       " '13000Pa',\n",
       " '220AW',\n",
       " '23000Pa',\n",
       " '23000Pa',\n",
       " '23000Pa',\n",
       " '23000Pa',\n",
       " '23000Pa',\n",
       " '29000Pa',\n",
       " '200W',\n",
       " '100AW',\n",
       " '15000Pa',\n",
       " '25000Pa',\n",
       " '25000Pa',\n",
       " '2,000Pa',\n",
       " '2,000Pa',\n",
       " '2,000Pa',\n",
       " '2,000Pa',\n",
       " '5900Pa',\n",
       " '5900Pa',\n",
       " '160AW',\n",
       " '6000Pa',\n",
       " '6000Pa',\n",
       " '6000Pa',\n",
       " '23000Pa',\n",
       " '200W',\n",
       " '20000Pa',\n",
       " '17000Pa',\n",
       " '17000Pa',\n",
       " '17000Pa',\n",
       " '20000Pa',\n",
       " '120W',\n",
       " '120W',\n",
       " '120W',\n",
       " '25000Pa',\n",
       " '25000Pa',\n",
       " '25000Pa',\n",
       " '25000Pa',\n",
       " '25000Pa',\n",
       " '6,000Pa',\n",
       " '6,000Pa',\n",
       " '6,000Pa',\n",
       " '6,000Pa',\n",
       " '6,000Pa',\n",
       " '100AW',\n",
       " '100AW',\n",
       " '4,800Pa',\n",
       " '4,800Pa',\n",
       " '4,800Pa',\n",
       " '140W',\n",
       " '140W',\n",
       " '22000Pa',\n",
       " '5300Pa',\n",
       " '5300Pa',\n",
       " '5300Pa',\n",
       " '5300Pa',\n",
       " '5300Pa',\n",
       " '160AW',\n",
       " '160AW',\n",
       " '25000Pa',\n",
       " '25000Pa',\n",
       " '150W',\n",
       " '200W',\n",
       " '200W',\n",
       " '200W',\n",
       " '8,000Pa',\n",
       " '8,000Pa',\n",
       " '19000Pa',\n",
       " '19000Pa',\n",
       " '19000Pa',\n",
       " '19000Pa',\n",
       " '19000Pa',\n",
       " '19000Pa',\n",
       " '200W',\n",
       " '200W',\n",
       " '200W',\n",
       " '17000Pa',\n",
       " '17000Pa',\n",
       " '220AW',\n",
       " '13000Pa',\n",
       " '6000Pa',\n",
       " '6000Pa',\n",
       " '160AW',\n",
       " '160AW',\n",
       " '180W',\n",
       " '180W',\n",
       " '11500Pa',\n",
       " '11500Pa',\n",
       " '20AW',\n",
       " '22000Pa',\n",
       " '17000Pa',\n",
       " '17000Pa',\n",
       " '17000Pa',\n",
       " '1500Pa',\n",
       " '25000Pa',\n",
       " '6500Pa',\n",
       " '6500Pa',\n",
       " '90W',\n",
       " '15000Pa',\n",
       " '15000Pa',\n",
       " '15000Pa',\n",
       " '15000Pa',\n",
       " '25000Pa',\n",
       " '25000Pa',\n",
       " '20000Pa',\n",
       " '12000Pa',\n",
       " '12000Pa',\n",
       " '6700Pa',\n",
       " '6700Pa',\n",
       " '150W',\n",
       " '150W',\n",
       " '150W',\n",
       " '150W',\n",
       " '12000Pa',\n",
       " '12000Pa',\n",
       " '22000Pa',\n",
       " '22000Pa',\n",
       " '22000Pa',\n",
       " '22000Pa',\n",
       " '22000Pa',\n",
       " '9000Pa']"
      ]
     },
     "execution_count": 60,
     "metadata": {},
     "output_type": "execute_result"
    }
   ],
   "source": [
    "suction_list"
   ]
  },
  {
   "cell_type": "code",
   "execution_count": 61,
   "metadata": {},
   "outputs": [],
   "source": [
    "#흡입력 단위를 통일시키는 함수\n",
    "def get_suction(value):\n",
    "    try:\n",
    "        value = value.upper()\n",
    "        if ('AW' in value) or ('W' in value):\n",
    "            result = value.replace('A','').replace('W','')\n",
    "            result = int(result.replace(',',''))\n",
    "        elif 'PA' in value:\n",
    "            result = value.replace('PA','')\n",
    "            result = int(result.replace(',',''))/100\n",
    "        else:\n",
    "            result = None\n",
    "        return result\n",
    "    except:\n",
    "        return None"
   ]
  },
  {
   "cell_type": "code",
   "execution_count": 62,
   "metadata": {},
   "outputs": [
    {
     "data": {
      "text/plain": [
       "['22000Pa', '200W', '155AW', '5,000Pa', '150W']"
      ]
     },
     "execution_count": 62,
     "metadata": {},
     "output_type": "execute_result"
    }
   ],
   "source": [
    "suction_list[:5]"
   ]
  },
  {
   "cell_type": "code",
   "execution_count": 65,
   "metadata": {},
   "outputs": [
    {
     "name": "stdout",
     "output_type": "stream",
     "text": [
      "22000Pa = 220.0\n",
      "200W = 200\n",
      "155AW = 155\n",
      "5,000Pa = 50.0\n",
      "150W = 150\n"
     ]
    }
   ],
   "source": [
    "for value in suction_list[:5]:\n",
    "    print(value, '=', get_suction(value))"
   ]
  },
  {
   "cell_type": "code",
   "execution_count": 66,
   "metadata": {},
   "outputs": [
    {
     "name": "stdout",
     "output_type": "stream",
     "text": [
      "400\n",
      "[220.0, 200, 155, 50.0, 150]\n"
     ]
    }
   ],
   "source": [
    "#흡입력 단위 통일시키기\n",
    "new_suction_list = []\n",
    "for power in suction_list:\n",
    "    value = get_suction(power)\n",
    "    new_suction_list.append(value)\n",
    "\n",
    "print(len(new_suction_list))\n",
    "print(new_suction_list[:5])"
   ]
  },
  {
   "cell_type": "markdown",
   "metadata": {},
   "source": [
    "### 다나와 전처리 결과를 엑셀로 저장"
   ]
  },
  {
   "cell_type": "code",
   "execution_count": 69,
   "metadata": {},
   "outputs": [
    {
     "data": {
      "text/html": [
       "<div>\n",
       "<style scoped>\n",
       "    .dataframe tbody tr th:only-of-type {\n",
       "        vertical-align: middle;\n",
       "    }\n",
       "\n",
       "    .dataframe tbody tr th {\n",
       "        vertical-align: top;\n",
       "    }\n",
       "\n",
       "    .dataframe thead th {\n",
       "        text-align: right;\n",
       "    }\n",
       "</style>\n",
       "<table border=\"1\" class=\"dataframe\">\n",
       "  <thead>\n",
       "    <tr style=\"text-align: right;\">\n",
       "      <th></th>\n",
       "      <th>카테고리</th>\n",
       "      <th>회사명</th>\n",
       "      <th>제품명</th>\n",
       "      <th>가격</th>\n",
       "      <th>사용시간</th>\n",
       "      <th>흡입력</th>\n",
       "    </tr>\n",
       "  </thead>\n",
       "  <tbody>\n",
       "    <tr>\n",
       "      <th>0</th>\n",
       "      <td>핸디/스틱청소기</td>\n",
       "      <td>샤오미</td>\n",
       "      <td>드리미 V10</td>\n",
       "      <td>146130</td>\n",
       "      <td>60.0</td>\n",
       "      <td>220.0</td>\n",
       "    </tr>\n",
       "    <tr>\n",
       "      <th>1</th>\n",
       "      <td>핸디/스틱청소기</td>\n",
       "      <td>LG전자</td>\n",
       "      <td>코드제로 A9S A9700</td>\n",
       "      <td>993520</td>\n",
       "      <td>120.0</td>\n",
       "      <td>200.0</td>\n",
       "    </tr>\n",
       "    <tr>\n",
       "      <th>2</th>\n",
       "      <td>핸디/스틱청소기</td>\n",
       "      <td>다이슨</td>\n",
       "      <td>V8 플러피</td>\n",
       "      <td>427650</td>\n",
       "      <td>40.0</td>\n",
       "      <td>155.0</td>\n",
       "    </tr>\n",
       "    <tr>\n",
       "      <th>3</th>\n",
       "      <td>차량용청소기</td>\n",
       "      <td>베이스어스</td>\n",
       "      <td>차량용 무선 진공 청소기 A2 (해외구매)</td>\n",
       "      <td>19800</td>\n",
       "      <td>18.0</td>\n",
       "      <td>50.0</td>\n",
       "    </tr>\n",
       "    <tr>\n",
       "      <th>4</th>\n",
       "      <td>핸디/스틱청소기</td>\n",
       "      <td>삼성전자</td>\n",
       "      <td>제트 VS15R8500BF</td>\n",
       "      <td>386140</td>\n",
       "      <td>40.0</td>\n",
       "      <td>150.0</td>\n",
       "    </tr>\n",
       "  </tbody>\n",
       "</table>\n",
       "</div>"
      ],
      "text/plain": [
       "       카테고리    회사명                      제품명      가격   사용시간    흡입력\n",
       "0  핸디/스틱청소기    샤오미                  드리미 V10  146130   60.0  220.0\n",
       "1  핸디/스틱청소기   LG전자           코드제로 A9S A9700  993520  120.0  200.0\n",
       "2  핸디/스틱청소기    다이슨                   V8 플러피  427650   40.0  155.0\n",
       "3    차량용청소기  베이스어스  차량용 무선 진공 청소기 A2 (해외구매)   19800   18.0   50.0\n",
       "4  핸디/스틱청소기   삼성전자           제트 VS15R8500BF  386140   40.0  150.0"
      ]
     },
     "execution_count": 69,
     "metadata": {},
     "output_type": "execute_result"
    }
   ],
   "source": [
    "#전처리 데이터 확인\n",
    "pd_data = pd.DataFrame()\n",
    "pd_data['카테고리'] = category_list\n",
    "pd_data['회사명'] = company_list\n",
    "pd_data['제품명'] = product_list\n",
    "pd_data['가격'] = data['가격']\n",
    "pd_data['사용시간'] = new_use_time_list\n",
    "pd_data['흡입력'] = new_suction_list\n",
    "pd_data.head()"
   ]
  },
  {
   "cell_type": "code",
   "execution_count": 70,
   "metadata": {},
   "outputs": [
    {
     "data": {
      "text/plain": [
       "핸디/스틱청소기          311\n",
       "물걸레청소기             42\n",
       "차량용청소기             24\n",
       "욕실청소기               9\n",
       "업소용청소기              7\n",
       "침구청소기               3\n",
       "로봇청소기               2\n",
       "진공청소기               1\n",
       "핸디/스틱청소기+로봇청소기      1\n",
       "Name: 카테고리, dtype: int64"
      ]
     },
     "execution_count": 70,
     "metadata": {},
     "output_type": "execute_result"
    }
   ],
   "source": [
    "pd_data['카테고리'].value_counts() #무선청소기는 핸디/스틱청소기 분류에 들어감"
   ]
  },
  {
   "cell_type": "code",
   "execution_count": 72,
   "metadata": {},
   "outputs": [
    {
     "data": {
      "text/plain": [
       "311"
      ]
     },
     "execution_count": 72,
     "metadata": {},
     "output_type": "execute_result"
    }
   ],
   "source": [
    "pd_data_final = pd_data[pd_data['카테고리'].isin(['핸디/스틱청소기'])]\n",
    "len(pd_data_final)"
   ]
  },
  {
   "cell_type": "code",
   "execution_count": 73,
   "metadata": {},
   "outputs": [],
   "source": [
    "#isin() 함수를 통해 '카테고리' 칼럼에서 '핸디/스틱청소기'인 제품을 추출해서 pd_data_final 변수에 저장"
   ]
  },
  {
   "cell_type": "code",
   "execution_count": 75,
   "metadata": {},
   "outputs": [],
   "source": [
    "#엑셀로 저장\n",
    "pd_data_final.to_excel('C:/Users/name_/Desktop/데이터분석/files/6장/danawa_data_final.xlsx', index = False)"
   ]
  }
 ],
 "metadata": {
  "kernelspec": {
   "display_name": "Python 3",
   "language": "python",
   "name": "python3"
  },
  "language_info": {
   "codemirror_mode": {
    "name": "ipython",
    "version": 3
   },
   "file_extension": ".py",
   "mimetype": "text/x-python",
   "name": "python",
   "nbconvert_exporter": "python",
   "pygments_lexer": "ipython3",
   "version": "3.8.5"
  }
 },
 "nbformat": 4,
 "nbformat_minor": 4
}
