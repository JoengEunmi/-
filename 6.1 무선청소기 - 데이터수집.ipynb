{
 "cells": [
  {
   "cell_type": "code",
   "execution_count": null,
   "metadata": {},
   "outputs": [],
   "source": [
    "#'다나와'라는 가격비교 사이트를 이용해 무선청소기 제품의 가격과 스펙 목록을 수집해 보자"
   ]
  },
  {
   "cell_type": "markdown",
   "metadata": {},
   "source": [
    "### 다나와 검색 페이지 접속"
   ]
  },
  {
   "cell_type": "code",
   "execution_count": 3,
   "metadata": {},
   "outputs": [],
   "source": [
    "#selenium 이용해 다나와 검색 결과 URL 접속\n",
    "from selenium import webdriver\n",
    "driver = webdriver.Chrome('C:/Users/name_/Desktop/데이터분석/datadown/chromedriver.exe')\n",
    "url = 'http://search.danawa.com/dsearch.php?k1=무선청소기&tab=main'\n",
    "driver.get(url)"
   ]
  },
  {
   "cell_type": "markdown",
   "metadata": {},
   "source": [
    "### 다나와 검색 웹 페이지에서 상품 정보 가져오기"
   ]
  },
  {
   "cell_type": "code",
   "execution_count": 4,
   "metadata": {},
   "outputs": [],
   "source": [
    "#웹페이지의 HTML 정보 가져오기\n",
    "from bs4 import BeautifulSoup\n",
    "html = driver.page_source\n",
    "soup = BeautifulSoup(html, 'html.parser')"
   ]
  },
  {
   "cell_type": "code",
   "execution_count": 5,
   "metadata": {},
   "outputs": [
    {
     "data": {
      "text/plain": [
       "41"
      ]
     },
     "execution_count": 5,
     "metadata": {},
     "output_type": "execute_result"
    }
   ],
   "source": [
    "#1페이지에 대한 무선청소기 정보 가져오기1\n",
    "prod_items = soup.select('li.prod_item')\n",
    "len(prod_items)"
   ]
  },
  {
   "cell_type": "code",
   "execution_count": 6,
   "metadata": {},
   "outputs": [
    {
     "data": {
      "text/plain": [
       "41"
      ]
     },
     "execution_count": 6,
     "metadata": {},
     "output_type": "execute_result"
    }
   ],
   "source": [
    "#1페이지에 대한 무선청소기 정보 가져오기2\n",
    "prod_items = soup.select('ul.product_list > li.prod_item')\n",
    "len(prod_items)"
   ]
  },
  {
   "cell_type": "code",
   "execution_count": 7,
   "metadata": {},
   "outputs": [
    {
     "data": {
      "text/plain": [
       "40"
      ]
     },
     "execution_count": 7,
     "metadata": {},
     "output_type": "execute_result"
    }
   ],
   "source": [
    "#1페이지에 대한 무선청소기 정보 가져오기2\n",
    "prod_items = soup.select('div.main_prodlist.main_prodlist_list > ul.product_list > li.prod_item')\n",
    "len(prod_items)"
   ]
  },
  {
   "cell_type": "code",
   "execution_count": 8,
   "metadata": {},
   "outputs": [
    {
     "name": "stdout",
     "output_type": "stream",
     "text": [
      "<li class=\"prod_item\" id=\"productItem10710423\">\n",
      "<input id=\"productItem_categoryInfo_10710423\" type=\"hidden\" value=\"생활가전_청소기\"/>\n",
      "<input id=\"min_price_10710423\" type=\"hidden\" value=\"970050\"/>\n",
      "<div class=\"prod_main_info\">\n",
      "<div class=\"thumb_image\">\n",
      "<a class=\"thumb_link\" href=\"http://prod.danawa.com/info/?pcode=10710423&amp;keyword=무선청소기&amp;cate=103740\" id=\"thumbLink_10710423\" onmousedown=\"_trkEventLog('통합검색_상품블로그_유입');\" target=\"_blank\">\n",
      "<img alt=\"A9S A9700\" class=\"click_log_product_standard_img_\" src=\"http://img.danawa.com/prod_img/500000/423/710/img/10710423_1.jpg?shrink=160:160&amp;_v=20210106175247\"/>\n",
      "</a>\n",
      "<a class=\"btn_view_zoom\" data-assemblygallerycategory=\"N\" href=\"#\" id=\"imageZoom_10710423\" onclick=\"return false;\">\n",
      "<span class=\"ico i_zoom_vw\"></span>이미지보기\n",
      "\t\t\t\t\t\t\t</a>\n",
      "<div class=\"img_selector\">\n",
      "<a class=\"sel_item\" href=\"#\" onclick=\"return false;\" title=\"상품 색상\"><span class=\"hide_indent sub_color_w100\" style=\"background-color:#CCCCCC;\">상품 색상</span></a><a class=\"sel_item\" href=\"#\" onclick=\"return false;\" title=\"상품 색상\"><span class=\"hide_indent sub_color_w100\" style=\"background-color:#434343;\">상품 색상</span></a><a class=\"sel_item\" href=\"#\" onclick=\"return false;\" title=\"상품 색상\"><span class=\"hide_indent sub_color_w100\" style=\"background-color:#674EA7;\">상품 색상</span></a> </div> </div>\n",
      "<div class=\"prod_info\">\n",
      "<p class=\"prod_name\">\n",
      "<a class=\"click_log_product_standard_title_\" href=\"http://prod.danawa.com/info/?pcode=10710423&amp;keyword=무선청소기&amp;cate=103740\" onmousedown=\"_trkEventLog('통합검색_상품블로그_유입'); doCTR('%EB%AC%B4%EC%84%A0%EC%B2%AD%EC%86%8C%EA%B8%B0','10710423',1);\" target=\"_blank\">LG전자 코드제로 A9S A9700</a>\n",
      "</p>\n",
      "<div class=\"prod_intro\">\n",
      "<p class=\"intro_text\">차원이 다른 40%이상 높아진 흡입력+강력한 회오리!</p>\n",
      "</div>\n",
      "<dl class=\"prod_spec_set\">\n",
      "<dt class=\"screen_out\">상세 스펙</dt>\n",
      "<dd>\n",
      "<div class=\"spec_list\"><a class=\"view_dic\" href=\"#\" onclick=\"$.termDicViewLink(8501,'view',this,0,72,80); return false;\">핸디/스틱<b>청소기</b></a> / <a class=\"view_dic\" href=\"#\" onclick=\"$.termDicViewLink(7445,'view',this,0,72,80); return false;\">핸디+스틱형</a> / <a class=\"view_dic\" href=\"#\" onclick=\"$.termDicViewLink(14900,'view',this,0,72,80); return false;\">무선형</a> / <a class=\"view_dic\" href=\"#\" onclick=\"$.termDicViewLink(14801,'view',this,0,72,80); return false;\">헤파필터</a> / <a class=\"view_dic\" href=\"#\" onclick=\"$.termDicViewLink(213820,'view',this,0,72,80); return false;\">2중터보싸이클론</a> / <a class=\"view_dic\" href=\"#\" onclick=\"$.termDicViewLink(30024,'view',this,0,72,80); return false;\">5단계여과</a> / <a class=\"view_dic\" href=\"#\" onclick=\"$.termDicViewLink(27442,'view',this,0,72,80); return false;\">인버터모터</a> / <a class=\"view_dic\" href=\"#\" onclick=\"$.termDicViewLink(3996,'view',this,0,72,80); return false;\">흡입력</a>: <a class=\"view_dic\" href=\"#\" onclick=\"$.termDicViewLink(3996,'view',this,0,72,80); return false;\">200W</a> / <a class=\"view_dic\" href=\"#\" onclick=\"$.termDicViewLink(14921,'view',this,0,72,80); return false;\">충전시간</a>: <a class=\"view_dic\" href=\"#\" onclick=\"$.termDicViewLink(14921,'view',this,0,72,80); return false;\">4시간</a> / <a class=\"view_dic\" href=\"#\" onclick=\"$.termDicViewLink(8515,'view',this,0,72,80); return false;\">사용시간</a>: <a class=\"view_dic\" href=\"#\" onclick=\"$.termDicViewLink(8515,'view',this,0,72,80); return false;\">2시간</a> / <a class=\"view_dic\" href=\"#\" onclick=\"$.termDicViewLink(21681,'view',this,0,72,80); return false;\">배터리</a>: <a class=\"view_dic\" href=\"#\" onclick=\"$.termDicViewLink(27314,'view',this,0,72,80); return false;\">리튬이온 (2개)</a> / 구성: <a class=\"view_dic\" href=\"#\" onclick=\"$.termDicViewLink(18333,'view',this,0,72,80); return false;\">바닥</a>, <a class=\"view_dic\" href=\"#\" onclick=\"$.termDicViewLink(9440,'view',this,0,72,80); return false;\">물걸레</a>, <a class=\"view_dic\" href=\"#\" onclick=\"$.termDicViewLink(18453,'view',this,0,72,80); return false;\">침구</a>, <a class=\"view_dic\" href=\"#\" onclick=\"$.termDicViewLink(18442,'view',this,0,72,80); return false;\">솔형</a>, <a class=\"view_dic\" href=\"#\" onclick=\"$.termDicViewLink(216345,'view',this,0,72,80); return false;\">굳은먼지</a>, <a class=\"view_dic\" href=\"#\" onclick=\"$.termDicViewLink(216351,'view',this,0,72,80); return false;\">상부청소</a>, <a class=\"view_dic\" href=\"#\" onclick=\"$.termDicViewLink(18436,'view',this,0,72,80); return false;\">틈새</a>, <a class=\"view_dic\" href=\"#\" onclick=\"$.termDicViewLink(216348,'view',this,0,72,80); return false;\">긴틈새</a>, <a class=\"view_dic\" href=\"#\" onclick=\"$.termDicViewLink(214665,'view',this,0,72,80); return false;\">매트리스</a>, <a class=\"view_dic\" href=\"#\" onclick=\"$.termDicViewLink(27313,'view',this,0,72,80); return false;\">연장툴</a>, <a class=\"view_dic\" href=\"#\" onclick=\"$.termDicViewLink(30019,'view',this,0,72,80); return false;\">거치대</a> / <a class=\"view_dic\" href=\"#\" onclick=\"$.termDicViewLink(216261,'view',this,0,72,80); return false;\">자동물공급</a> / <a class=\"view_dic\" href=\"#\" onclick=\"$.termDicViewLink(30484,'view',this,0,72,80); return false;\">디스플레이표시창</a> / <a class=\"view_dic\" href=\"#\" onclick=\"$.termDicViewLink(27321,'view',this,0,72,80); return false;\">배터리잔량표시</a> / <a class=\"view_dic\" href=\"#\" onclick=\"$.termDicViewLink(214680,'view',this,0,72,80); return false;\">WiFi</a> / <a class=\"view_dic\" href=\"#\" onclick=\"$.termDicViewLink(14771,'view',this,0,72,80); return false;\">색상:판타지실버</a> / <a class=\"view_dic\" href=\"#\" onclick=\"$.termDicViewLink(1743,'view',this,0,72,80); return false;\">소비전력</a>: <a class=\"view_dic\" href=\"#\" onclick=\"$.termDicViewLink(1743,'view',this,0,72,80); return false;\">590W</a> / <a class=\"view_dic\" href=\"#\" onclick=\"$.termDicViewLink(24060,'view',this,0,72,80); return false;\">미세먼지인증(SLG)</a> / 크기(가로x세로x깊이): 250x1120x260mm\t\t\t\t\t\t\t\t</div>\n",
      "</dd>\n",
      "</dl>\n",
      "<div class=\"relation_goods_unit\" id=\"relation_goods_unit_10710423\"></div>\n",
      "<div class=\"prod_sub_info\">\n",
      "<div class=\"prod_sub_meta\">\n",
      "<dl class=\"meta_item mt_date\">\n",
      "<dt>등록월</dt>\n",
      "<dd>2020.03</dd>\n",
      "</dl>\n",
      "<dl class=\"meta_item mt_comment\">\n",
      "<dt><span class=\"dt_behind\">상품의견</span></dt>\n",
      "<dd>\n",
      "<div class=\"cnt_star\">\n",
      "<div class=\"point_type_list\">\n",
      "<div class=\"mask\" style=\"width:95%\">\n",
      "</div>\n",
      "</div>\n",
      "<div class=\"point_num\">\n",
      "<strong>4.7</strong>점\n",
      "\t\t\t\t\t\t\t\t\t\t\t\t\t\t</div>\n",
      "</div>\n",
      "<div class=\"cnt_opinion\">\n",
      "\t\t\t\t\t\t\t\t\t\t\t\t\t\t(<a class=\"click_log_prod_content_count\" href=\"http://prod.danawa.com/info/?pcode=10710423&amp;keyword=무선청소기&amp;cate=103740#bookmark_cm_opinion\" onmousedown=\"_trkEventLog('통합검색_상품블로그_유입');\" target=\"_blank\"><strong>670</strong></a>건)\n",
      "\t\t\t\t\t\t\t\t\t\t\t\t\t</div>\n",
      "</dd>\n",
      "</dl>\n",
      "<dl class=\"meta_item\">\n",
      "<dt class=\"screen_out\">관심상품</dt>\n",
      "<dd>\n",
      "<a class=\"click_log_wishList\" href=\"#\" onclick=\"javascript:$.danawaAddProductToWishList(this, '10710423',' search_bundle', '', '', '970050');return false;\" onmousedown=\"doCTR('%EB%AC%B4%EC%84%A0%EC%B2%AD%EC%86%8C%EA%B8%B0','10710423',4);\" title=\"관심상품에 담기\">관심상품</a>\n",
      "</dd>\n",
      "<input id=\"wishListBundleVal_10710423\" type=\"hidden\" value=\"아이언그레이, A9700IK^10710450**판타지실버, A9700SK^10710423**빈티지와인, A9700VK^10765959//LG전자 코드제로 A9S A9700//10710423\"/>\n",
      "</dl>\n",
      "</div>\n",
      "<dl class=\"prod_category_location\">\n",
      "<dt class=\"screen_out\">상품분류</dt>\n",
      "<dd>\n",
      "<a href=\"http://prod.danawa.com/list/?cate=103740\" onmousedown=\"80\" target=\"doCTR('%EB%AC%B4%EC%84%A0%EC%B2%AD%EC%86%8C%EA%B8%B0',10710423,3);\"><span>생활가전</span> &gt; <span>청소기</span> &gt; <span>핸디/스틱</span></a> <div class=\"more_cate_layer\" style=\"display: none; z-index: 1;\">\n",
      "<ul class=\"list_category_location\">\n",
      "</ul>\n",
      "</div>\n",
      "</dd>\n",
      "</dl>\n",
      "</div>\n",
      "</div>\n",
      "<div class=\"prod_pricelist\" data-cate=\"72|80|81|0\">\n",
      "<ul>\n",
      "<li id=\"productInfoDetail_10710450\" style=\"\">\n",
      "<p class=\"chk_sect\">\n",
      "\t\t\t\t\t\t\t\t\t\t355몰\n",
      "\t\t\t\t\t\t\t\t\t\t<label for=\"prodCompareCheck_10710450\">\n",
      "<input id=\"prodCompareCheck_10710450\" type=\"checkbox\"/><strong>상품비교</strong>\n",
      "</label>\n",
      "<input name=\"compareValue\" type=\"hidden\" value=\"10710450\"/>\n",
      "<input name=\"compareRepValue\" type=\"hidden\" value=\"10710423\"/>\n",
      "</p>\n",
      "<p class=\"price_sect\">\n",
      "<a class=\"click_log_product_standard_price_\" href=\"http://prod.danawa.com/info/?pcode=10710450&amp;keyword=무선청소기&amp;cate=103740\" onmousedown=\"doCTR('%EB%AC%B4%EC%84%A0%EC%B2%AD%EC%86%8C%EA%B8%B0',10710450,1);\" target=\"_blank\"><strong>993,520</strong>원</a>\n",
      "<span class=\"more_btn_wrap\">\n",
      "<button class=\"ico i_more\">가격정보 더보기</button>\n",
      "<span class=\"layer_price_more\" id=\"layer_price_more_10710450\"></span>\n",
      "<span class=\"sep_line\"></span>\n",
      "</span>\n",
      "</p>\n",
      "<p class=\"memory_sect\"><span class=\"rank\">2위</span>\t\t\t\t\t\t\t\t\t\t\t\t\t\t\t\t\t\t\t\t아이언그레이, A9700IK\t\t\t\t\t\t\t\t\t\t\t\t\t\t\t\t\t\t\t\t<a href=\"http://prod.danawa.com/info/?pcode=10710450&amp;keyword=무선청소기&amp;cate=103740\" onmousedown=\"doCTR('%EB%AC%B4%EC%84%A0%EC%B2%AD%EC%86%8C%EA%B8%B0',10710450,1);\" target=\"_blank\">\n",
      "</a>\n",
      "</p>\n",
      "</li>\n",
      "<li class=\"rank_one\" id=\"productInfoDetail_10710423\" style=\"\">\n",
      "<p class=\"chk_sect\">\n",
      "\t\t\t\t\t\t\t\t\t\t521몰\n",
      "\t\t\t\t\t\t\t\t\t\t<label for=\"prodCompareCheck_10710423\">\n",
      "<input id=\"prodCompareCheck_10710423\" type=\"checkbox\"/><strong>상품비교</strong>\n",
      "</label>\n",
      "<input name=\"compareValue\" type=\"hidden\" value=\"10710423\"/>\n",
      "<input name=\"compareRepValue\" type=\"hidden\" value=\"10710423\"/>\n",
      "</p>\n",
      "<p class=\"price_sect\">\n",
      "<a class=\"click_log_product_standard_price_\" href=\"http://prod.danawa.com/info/?pcode=10710423&amp;keyword=무선청소기&amp;cate=103740\" onmousedown=\"doCTR('%EB%AC%B4%EC%84%A0%EC%B2%AD%EC%86%8C%EA%B8%B0',10710423,1);\" target=\"_blank\"><strong>970,050</strong>원</a>\n",
      "<span class=\"more_btn_wrap\">\n",
      "<button class=\"ico i_more\">가격정보 더보기</button>\n",
      "<span class=\"layer_price_more\" id=\"layer_price_more_10710423\"></span>\n",
      "<span class=\"sep_line\"></span>\n",
      "</span>\n",
      "</p>\n",
      "<p class=\"memory_sect\"><span class=\"rank\">1위</span>\t\t\t\t\t\t\t\t\t\t\t\t\t\t\t\t\t\t\t\t판타지실버, A9700SK\t\t\t\t\t\t\t\t\t\t\t\t\t\t\t\t\t\t\t\t<a href=\"http://prod.danawa.com/info/?pcode=10710423&amp;keyword=무선청소기&amp;cate=103740\" onmousedown=\"doCTR('%EB%AC%B4%EC%84%A0%EC%B2%AD%EC%86%8C%EA%B8%B0',10710423,1);\" target=\"_blank\">\n",
      "</a>\n",
      "</p>\n",
      "</li>\n",
      "<li id=\"productInfoDetail_10765959\" style=\"\">\n",
      "<p class=\"chk_sect\">\n",
      "\t\t\t\t\t\t\t\t\t\t343몰\n",
      "\t\t\t\t\t\t\t\t\t\t<label for=\"prodCompareCheck_10765959\">\n",
      "<input id=\"prodCompareCheck_10765959\" type=\"checkbox\"/><strong>상품비교</strong>\n",
      "</label>\n",
      "<input name=\"compareValue\" type=\"hidden\" value=\"10765959\"/>\n",
      "<input name=\"compareRepValue\" type=\"hidden\" value=\"10710423\"/>\n",
      "</p>\n",
      "<p class=\"price_sect\">\n",
      "<a class=\"click_log_product_standard_price_\" href=\"http://prod.danawa.com/info/?pcode=10765959&amp;keyword=무선청소기&amp;cate=103740\" onmousedown=\"doCTR('%EB%AC%B4%EC%84%A0%EC%B2%AD%EC%86%8C%EA%B8%B0',10765959,1);\" target=\"_blank\"><strong>970,050</strong>원</a>\n",
      "<span class=\"more_btn_wrap\">\n",
      "<button class=\"ico i_more\">가격정보 더보기</button>\n",
      "<span class=\"layer_price_more\" id=\"layer_price_more_10765959\"></span>\n",
      "<span class=\"sep_line\"></span>\n",
      "</span>\n",
      "</p>\n",
      "<p class=\"memory_sect\">\t\t\t\t\t\t\t\t\t\t\t\t\t\t\t\t\t\t\t\t빈티지와인, A9700VK\t\t\t\t\t\t\t\t\t\t\t\t\t\t\t\t\t\t\t\t<a href=\"http://prod.danawa.com/info/?pcode=10765959&amp;keyword=무선청소기&amp;cate=103740\" onmousedown=\"doCTR('%EB%AC%B4%EC%84%A0%EC%B2%AD%EC%86%8C%EA%B8%B0',10765959,1);\" target=\"_blank\">\n",
      "</a>\n",
      "</p>\n",
      "</li>\n",
      "</ul> </div>\n",
      "</div>\n",
      "</li>\n"
     ]
    }
   ],
   "source": [
    "print(prod_items[1])"
   ]
  },
  {
   "cell_type": "code",
   "execution_count": 9,
   "metadata": {},
   "outputs": [
    {
     "data": {
      "text/plain": [
       "'다이슨 V8 플러피'"
      ]
     },
     "execution_count": 9,
     "metadata": {},
     "output_type": "execute_result"
    }
   ],
   "source": [
    "#상품명 정보 가져오기\n",
    "title = prod_items[2].select('div.prod_info > p.prod_name > a')[0].text.strip()\n",
    "title"
   ]
  },
  {
   "cell_type": "code",
   "execution_count": 10,
   "metadata": {},
   "outputs": [
    {
     "data": {
      "text/plain": [
       "'핸디/스틱청소기 / 핸디+스틱형 / 무선형 / 전압: 21.6V / 싸이클론 / 흡입력: 155AW / 충전시간: 5시간 / 사용시간: 40분 / 배터리: 리튬이온 / 구성: 소프트롤러, 미니모터, 솔형, 더스팅, 틈새, 매트리스, 연장툴, 도킹스테이션 / 무게: 2.58kg / 소비전력: 485W / 크기(가로x세로x깊이): 250x1264x224mm'"
      ]
     },
     "execution_count": 10,
     "metadata": {},
     "output_type": "execute_result"
    }
   ],
   "source": [
    "#스펙정보 목록 가져오기\n",
    "spec_list = prod_items[2].select('div.spec_list')[0].text.strip()\n",
    "spec_list"
   ]
  },
  {
   "cell_type": "code",
   "execution_count": 11,
   "metadata": {},
   "outputs": [
    {
     "data": {
      "text/plain": [
       "'427650'"
      ]
     },
     "execution_count": 11,
     "metadata": {},
     "output_type": "execute_result"
    }
   ],
   "source": [
    "#가격정보 가져오기\n",
    "price = prod_items[2].select('li.rank_one > p.price_sect > a > strong')[0].text.strip().replace(',','')\n",
    "price"
   ]
  },
  {
   "cell_type": "code",
   "execution_count": 12,
   "metadata": {},
   "outputs": [
    {
     "name": "stdout",
     "output_type": "stream",
     "text": [
      "40\n",
      "[['샤오미 드리미 V10', '핸디/스틱청소기 / 핸디+스틱형 / 무선형 / 전압: 25.2V / 헤파필터 / H12급 / 5단계여과 / 흡입력: 140AW / 흡입력: 22000Pa / 먼지통용량: 0.5L / 충전시간: 3시간30분 / 사용시간: 1시간 / 용량: 2500mAh / 구성: 바닥, 침구, 솔형, 틈새, 연장툴, 거치대 / 무게: 1.5kg / 색상:화이트 / 소비전력: 450W', '146130'], ['LG전자 코드제로 A9S A9700', '핸디/스틱청소기 / 핸디+스틱형 / 무선형 / 헤파필터 / 2중터보싸이클론 / 5단계여과 / 인버터모터 / 흡입력: 200W / 충전시간: 4시간 / 사용시간: 2시간 / 배터리: 리튬이온 (2개) / 구성: 바닥, 물걸레, 침구, 솔형, 굳은먼지, 상부청소, 틈새, 긴틈새, 매트리스, 연장툴, 거치대 / 자동물공급 / 디스플레이표시창 / 배터리잔량표시 / WiFi / 색상:판타지실버 / 소비전력: 590W / 미세먼지인증(SLG) / 크기(가로x세로x깊이): 250x1120x260mm', '970050'], ['다이슨 V8 플러피', '핸디/스틱청소기 / 핸디+스틱형 / 무선형 / 전압: 21.6V / 싸이클론 / 흡입력: 155AW / 충전시간: 5시간 / 사용시간: 40분 / 배터리: 리튬이온 / 구성: 소프트롤러, 미니모터, 솔형, 더스팅, 틈새, 매트리스, 연장툴, 도킹스테이션 / 무게: 2.58kg / 소비전력: 485W / 크기(가로x세로x깊이): 250x1264x224mm', '427650'], ['베이스어스 차량용 무선 진공 청소기 A2 (해외구매)', '차량용청소기 / 무선 / 흡입력: 5,000Pa / 최대출력: 70W / 헤파필터 / 추가노즐: 솔브러쉬 / 사용시간: 18분 / 색상: 그린, 블랙, 화이트 / 60ml 먼지통 / 배터리 표시등', '19800'], ['삼성전자 제트 VS15R8500BF', '핸디/스틱청소기 / 핸디+스틱형 / 무선형 / 전압: 21.6V / 헤파필터 / 싸이클론 / 5단계여과 / 인버터모터 / 흡입력: 150W / 먼지통용량: 0.5L / 충전시간: 3시간30분 / 사용시간: 40분 / 배터리: 리튬이온 / 구성: 바닥, 솔형, 틈새, 거치대 / 디스플레이표시창 / 프리볼트 / 무게: 2.57kg / 색상:틸민트 / 소비전력: 410W / 알레르기인증(BAF) / 미세먼지인증(SLG) / 크기(가로x세로x깊이): 250x1123x215mm', '386140'], ['삼성전자 제트 VS20T9258SDCS', '핸디/스틱청소기 / 핸디+스틱형 / 무선형 / 전압: 21.6V / 헤파필터 / 싸이클론 / 5단계여과 / 인버터모터 / 흡입력: 200W / 먼지통용량: 0.5L / 충전시간: 3시간30분 / 사용시간: 2시간 / 배터리: 리튬이온 (2개) / 구성: 바닥, 물걸레, 침구, 솔형, 틈새, 연장툴, 거치대 / 디스플레이표시창 / 프리볼트 / 무게: 2.64kg / 색상:티탄+그레이 / 소비전력: 550W / 알레르기인증(BAF) / 미세먼지인증(SLG) / 크기(가로x세로x깊이): 250x1123x215mm / [VCA-SAE90A] 청정스테이션 / 색상: 블랙 / 크기(가로x세로x깊이): 185x600x180mm', '849000'], ['다이슨 V10 카본파이버', '핸디/스틱청소기 / 핸디+스틱형 / 무선형 / 전압: 25.2V / 싸이클론 / 흡입력: 160AW / 충전시간: 3시간30분 / 사용시간: 1시간 / 배터리: 리튬이온 / 구성: 소프트롤러, 토크드라이브, 미니모터, 솔형, 더스팅, 틈새, 긴틈새, 연장툴, 도킹스테이션 / 무게: 2.5kg / 소비전력: 525W / 크기(가로x세로x깊이): 250x1241x256mm', '617380'], ['일렉트로룩스 WELL Q6 WQ61-1OGG', '핸디/스틱청소기 / 핸디+스틱형 / 무선형 / 전압: 18V / 싸이클론 / 5단계여과 / 먼지통용량: 0.3L / 충전시간: 4시간30분 / 사용시간: 45분 / 배터리: 리튬이온 / 구성: 바닥, 솔형, 틈새, 거치대 / 브러쉬자동청소 / 셀프스탠딩 / LED라이트 / 배터리잔량표시 / 무게: 2.65kg / 색상:그라나이트그레이 / 크기(가로x세로x깊이): 386x692x146mm', '187060'], ['샤오미 CLEANFLY 차량용 무선 청소기 3세대 (해외구매)', '차량용청소기 / 무선 / 흡입력: 16,800Pa / 최대출력: 120W / 헤파필터 / 추가노즐: 틈새, 솔브러쉬, 연장호스 / 사용시간: 25분 / 크기 : 369x72mm / 무게 : 560g', '51510'], ['다이슨 디지털 슬림 플러피+', '핸디/스틱청소기 / 핸디+스틱형 / 무선형 / 싸이클론 / 5단계여과 / 흡입력: 100AW / 먼지통용량: 0.3L / 충전시간: 3시간30분 / 사용시간: 40분 / 구성: 슬림소프트롤러, 미니모터, 솔형, 스터번더트, 틈새, 매트리스, 연장툴, 거치대, 도킹스테이션 / 디스플레이표시창 / 무게: 1.9kg / 색상:오렌지 / 크기(가로x세로x깊이): 250x1100x250mm', '701960'], ['LG전자 코드제로 A9 A9100', '핸디/스틱청소기 / 핸디+스틱형 / 무선형 / 헤파필터 / 2중터보싸이클론 / 5단계여과 / 인버터모터 / 충전시간: 3시간30분 / 사용시간: 40분 / 배터리: 리튬이온 / 구성: 바닥, 솔형, 틈새, 거치대 / 배터리잔량표시 / 색상:판타지실버 / 소비전력: 450W / 알레르기인증(BAF) / 미세먼지인증(SLG) / 크기(가로x세로x깊이): 250x1120x260mm', '559400'], ['LG전자 코드제로 A9S A9570', '핸디/스틱청소기 / 핸디+스틱형 / 무선형 / 헤파필터 / 2중터보싸이클론 / 5단계여과 / 인버터모터 / 흡입력: 200W / 충전시간: 4시간 / 사용시간: 2시간 / 배터리: 리튬이온 (2개) / 구성: 바닥, 물걸레, 침구, 솔형, 굳은먼지, 틈새, 매트리스, 거치대 / 자동물공급 / 디스플레이표시창 / 배터리잔량표시 / WiFi / 색상:판타지실버 / 소비전력: 590W / 미세먼지인증(SLG) / 크기(가로x세로x깊이): 250x1120x260mm', '913390'], ['다이슨 옴니 글라이드 컴플리트+', '핸디/스틱청소기 / 핸디+스틱형 / 무선형 / 싸이클론 / 5단계여과 / 흡입력: 50AW / 먼지통용량: 0.2L / 충전시간: 3시간30분 / 사용시간: 20분 / 배터리: 리튬이온 / 구성: 전방향플러피, 미니모터, 솔형, 틈새, 서페이스, 연장툴, 거치대, 도킹스테이션 / 무게: 1.9kg / 색상:퍼플 / 크기(가로x세로x깊이): 208x1077x92mm', '582950'], ['삼성전자 제트 VS20T9213QDCSW', '핸디/스틱청소기 / 핸디+스틱형 / 무선형 / 전압: 21.6V / 헤파필터 / 싸이클론 / 5단계여과 / 인버터모터 / 흡입력: 200W / 먼지통용량: 0.5L / 충전시간: 3시간30분 / 사용시간: 1시간 / 배터리: 리튬이온 / 구성: 바닥, 물걸레, 솔형, 틈새, 거치대 / 디스플레이표시창 / 프리볼트 / 무게: 2.64kg / 색상:티탄+그레이 / 소비전력: 550W / 알레르기인증(BAF) / 미세먼지인증(SLG) / 크기(가로x세로x깊이): 250x1123x215mm / [VCA-SAE90A] 청정스테이션 / 색상: 블랙 / 크기(가로x세로x깊이): 185x600x180mm', '755240'], ['샤오미 드리미 V11', '핸디/스틱청소기 / 핸디+스틱형 / 무선형 / 전압: 25.2V / 멀티싸이클론 / 5단계여과 / BLDC모터 / 흡입력: 150AW / 흡입력: 25000Pa / 먼지통용량: 0.5L / 충전시간: 4시간 / 사용시간: 1시간30분 / 용량: 3000mAh / 구성: 바닥, 침구, 솔형, 틈새, 연장툴, 거치대 / 디스플레이표시창 / 무게: 1.6kg / 색상:레드 / 소비전력: 450W / 크기(가로x세로): 202x1221mm', '242750'], ['삼성전자 제트 VS20T9213QDCSP', '핸디/스틱청소기 / 핸디+스틱형 / 무선형 / 전압: 21.6V / 헤파필터 / 싸이클론 / 5단계여과 / 인버터모터 / 흡입력: 200W / 먼지통용량: 0.5L / 충전시간: 3시간30분 / 사용시간: 1시간 / 배터리: 리튬이온 (2개) / 구성: 바닥, 솔형, 틈새, 거치대 / 디스플레이표시창 / 프리볼트 / 무게: 2.64kg / 색상:티탄+그레이 / 소비전력: 550W / 알레르기인증(BAF) / 미세먼지인증(SLG) / 크기(가로x세로x깊이): 250x1123x215mm / [VCA-SAE90A] 청정스테이션 / 색상: 블랙 / 크기(가로x세로x깊이): 185x600x180mm', '716090'], ['휴스톰 HS-10000', '물걸레청소기 / 스틱형 / 회전식 / 무선형 / 전압: 14.6V / 충전시간: 2시간30분 / 사용시간: 30분 / 배터리: 리튬이온 / 용량: 2750mAh / LED라이트 / 가구손상방지 / 각도조절 / 셀프스탠딩 / 배터리잔량표시 / 프리볼트 / 무게: 3.7kg / 색상:블랙 / 모터과열방지 / 과충전방지 / 오토스토핑 / 패드: 극세사(벨크로형) / 크기(가로x세로x깊이): 410x1180x205mm', '139210'], ['삼성전자 제트 VS20T9257SECS', '핸디/스틱청소기 / 핸디+스틱형 / 무선형 / 전압: 21.6V / 헤파필터 / 싸이클론 / 5단계여과 / 인버터모터 / 흡입력: 200W / 먼지통용량: 0.5L / 충전시간: 3시간30분 / 사용시간: 2시간 / 배터리: 리튬이온 (2개) / 구성: 바닥, 물걸레, 솔형, 틈새, 연장툴, 거치대 / 디스플레이표시창 / 프리볼트 / 무게: 2.64kg / 색상:티탄+민트 / 소비전력: 550W / 알레르기인증(BAF) / 미세먼지인증(SLG) / 크기(가로x세로x깊이): 250x1123x215mm / [VCA-SAE90A] 청정스테이션 / 색상: 블랙 / 크기(가로x세로x깊이): 185x600x180mm', '729710'], ['삼성전자 제트 VS20T9213QDCS', '핸디/스틱청소기 / 핸디+스틱형 / 무선형 / 전압: 21.6V / 헤파필터 / 싸이클론 / 5단계여과 / 인버터모터 / 흡입력: 200W / 먼지통용량: 0.5L / 충전시간: 3시간30분 / 사용시간: 1시간 / 배터리: 리튬이온 / 구성: 바닥, 솔형, 틈새, 거치대 / 디스플레이표시창 / 프리볼트 / 무게: 2.64kg / 색상:티탄+그레이 / 소비전력: 550W / 알레르기인증(BAF) / 미세먼지인증(SLG) / 크기(가로x세로x깊이): 250x1123x215mm / [VCA-SAE90A] 청정스테이션 / 색상: 블랙 / 크기(가로x세로x깊이): 185x600x180mm', '677720'], ['일렉트로룩스 에르고라피도 파워프로 ZB3411', '핸디/스틱청소기 / 핸디+스틱형 / 무선형 / 전압: 18V / 헤파필터 / 싸이클론 / 4단계여과 / 먼지통용량: 0.42L / 충전시간: 4시간 / 사용시간: 48분 / 배터리: 리튬이온 / 구성: 바닥, 틈새, 거치대 / 셀프스탠딩 / 배터리잔량표시 / 무게: 3kg / 색상:타이탄블루 / 크기(가로x세로x깊이): 303x690x162mm', '191620'], ['LG전자 코드제로 A9S A9300', '핸디/스틱청소기 / 핸디+스틱형 / 무선형 / 헤파필터 / 2중터보싸이클론 / 5단계여과 / 인버터모터 / 흡입력: 200W / 충전시간: 4시간 / 사용시간: 1시간 / 배터리: 리튬이온 / 구성: 바닥, 솔형, 굳은먼지, 틈새, 매트리스, 거치대 / 디스플레이표시창 / 배터리잔량표시 / WiFi / 색상:아이언그레이 / 소비전력: 590W / 미세먼지인증(SLG) / 크기(가로x세로x깊이): 250x1120x260mm', '715490'], ['LG전자 코드제로 A9S A9470', '핸디/스틱청소기 / 핸디+스틱형 / 무선형 / 헤파필터 / 2중터보싸이클론 / 5단계여과 / 인버터모터 / 충전시간: 4시간 / 사용시간: 2시간 / 배터리: 리튬이온 (2개) / 구성: 바닥, 물걸레, 솔형, 틈새, 거치대 / 자동물공급 / 디스플레이표시창 / 배터리잔량표시 / WiFi / 색상:아이언그레이 / 소비전력: 590W / 미세먼지인증(SLG) / 크기(가로x세로x깊이): 250x1120x260mm', '864840'], ['LG전자 코드제로 A9S A9500', '핸디/스틱청소기 / 핸디+스틱형 / 무선형 / 헤파필터 / 2중터보싸이클론 / 5단계여과 / 인버터모터 / 흡입력: 200W / 충전시간: 4시간 / 사용시간: 2시간 / 배터리: 리튬이온 (2개) / 구성: 바닥, 침구, 솔형, 굳은먼지, 틈새, 매트리스, 거치대 / 디스플레이표시창 / 배터리잔량표시 / WiFi / 색상:아이언그레이 / 소비전력: 590W / 미세먼지인증(SLG) / 크기(가로x세로x깊이): 250x1120x260mm', '825600'], ['DIBEA TSX-25000A', '핸디/스틱청소기 / 핸디+스틱형 / 무선형 / 전압: 29.6V / 헤파필터 / H13급 / 싸이클론 / BLDC모터 / 흡입력: 25000Pa / 먼지통용량: 0.5L / 충전시간: 2시간 / 사용시간: 45분 / 배터리: 리튬이온 / 용량: 2000mAh / 구성: 바닥, 침구, 솔형, 틈새, 연장툴, 거치대 / LED라이트 / 무게: 1.35kg / 색상:블랙 / 소비전력: 400W / 크기(가로x세로x깊이): 256x1172x217xmm', '193310'], ['다이슨 V11 컴플리트', '핸디/스틱청소기 / 핸디+스틱형 / 무선형 / 싸이클론 / 흡입력: 185AW / 먼지통용량: 0.54L / 충전시간: 4시간30분 / 사용시간: 1시간 / 구성: 하이토크, 소프트롤러, 미니모터, 솔형, 더스팅, 스터번더트, 틈새, 매트리스, 거치대, 도킹스테이션 / 디스플레이표시창 / 무게: 2.95kg / 색상:니켈블루 / 크기(가로x세로x깊이): 250x1280x261mm', '841980'], ['샤오미 SHUNZAO 차량용 무선청소기 2세대 Z1 PRO (해외구매)', '차량용청소기 / 무선 / 흡입력: 12,000Pa / 최대출력: 120W / 2중필터 / 추가노즐: 틈새, 솔브러쉬 / LED라이트 / 사용시간: 30분 / 충전시간: 2시간30분 / 충전방식: USB C타입 / 크기: 73x76x336mm / 무게: 610g', '44660'], ['일렉트로룩스 PURE Q9 PQ92-3OBF', '핸디/스틱청소기 / 핸디+스틱형 / 무선형 / 전압: 25.2V / 싸이클론 / 5단계여과 / 먼지통용량: 0.3L / 충전시간: 4시간 / 사용시간: 53분 / 배터리: 리튬이온 / 구성: 바닥, 솔형, 더스팅, 틈새, 거치대 / 셀프스탠딩 / LED라이트 / 배터리잔량표시 / 무게: 2.89kg / 색상:인디고블루 / 크기(가로x세로x깊이): 256x1097x155mm', '342200'], ['삼성전자 제트 VS20R9078S2', '핸디/스틱청소기 / 핸디+스틱형 / 무선형 / 전압: 21.9V / 헤파필터 / 싸이클론 / 5단계여과 / 인버터모터 / 흡입력: 200W / 먼지통용량: 0.5L / 충전시간: 3시간30분 / 사용시간: 2시간 / 배터리: 리튬이온 (2개) / 구성: 바닥, 물걸레, 침구, 솔형, 틈새, 연장툴, 거치대 / 물걸레 / 디스플레이표시창 / 프리볼트 / 무게: 2.7kg / 색상:티탄+블루 / 소비전력: 550W / 알레르기인증(BAF) / 미세먼지인증(SLG) / 크기(가로x세로x깊이): 250x1136x215mm', '658940'], ['삼성전자 제트 VS20T9278S3CS', '핸디/스틱청소기 / 핸디+스틱형 / 무선형 / 전압: 21.9V / 헤파필터 / 싸이클론 / 5단계여과 / 인버터모터 / 흡입력: 200W / 먼지통용량: 0.5L / 충전시간: 3시간30분 / 사용시간: 2시간 / 배터리: 리튬이온 (2개) / 구성: 바닥, 물걸레, 침구, 솔형, 틈새, 연장툴, 거치대 / 디스플레이표시창 / 프리볼트 / 색상:티탄+실버 / 소비전력: 550W / 미세먼지인증(SLG) / 크기(가로x세로x깊이): 250x1136x215mm / [VCA-SAE90A] 청정스테이션 / 색상: 블랙 / 크기(가로x세로x깊이): 185x600x180mm', '888800'], ['샤오미 SHUNZAO Z11', '핸디/스틱청소기 / 핸디+스틱형 / 무선형 / 전압: 25.2V / 헤파필터 / 싸이클론 / 5단계여과 / 흡입력: 150AW / 흡입력: 26000Pa / 먼지통용량: 0.5L / 충전시간: 3시간 / 사용시간: 1시간 / 배터리: 리튬이온 / 용량: 2500mAh / 구성: 바닥, 침구, 솔형, 틈새, 연장툴, 거치대 / 디스플레이표시창 / 배터리잔량표시 / 색상:화이트', '159000'], ['LG전자 코드제로 A9S A9370', '핸디/스틱청소기 / 핸디+스틱형 / 무선형 / 헤파필터 / 2중터보싸이클론 / 5단계여과 / 인버터모터 / 충전시간: 4시간 / 사용시간: 1시간 / 배터리: 리튬이온 / 구성: 바닥, 물걸레, 솔형, 틈새, 거치대 / 자동물공급 / 디스플레이표시창 / 배터리잔량표시 / WiFi / 색상:아이언그레이 / 소비전력: 590W / 미세먼지인증(SLG) / 크기(가로x세로x깊이): 250x1120x260mm', '787550'], ['샤오미 TROUVER TECH SOLO10', '핸디/스틱청소기 / 핸디+스틱형 / 무선형 / 전압: 21.6V / 5단계여과 / BLDC모터 / 흡입력: 85AW / 흡입력: 18000Pa / 먼지통용량: 0.4L / 충전시간: 3시간30분 / 사용시간: 48분 / 용량: 2000mAh / 구성: 바닥, 솔형, 틈새 / 디스플레이표시창 / 배터리잔량표시 / 무게: 1.4kg / 색상:화이트+레드 / 소비전력: 300W', '89500'], ['샤오미 SWDK-D260', '물걸레청소기 / 스틱형 / 왕복식 / 무선형 / 전압: 12.6V / 충전시간: 3시간 / 사용시간: 50분 / 배터리: 리튬이온 / 용량: 2000mAh / 물분사 / LED라이트 / 프리볼트 / 무게: 2.4kg / 색상:화이트 / 110V / 변환어댑터: 필요', '63080'], ['삼성전자 제트 VS20T9259SECS', '핸디/스틱청소기 / 핸디+스틱형 / 무선형 / 전압: 21.6V / 헤파필터 / 싸이클론 / 5단계여과 / 인버터모터 / 흡입력: 200W / 먼지통용량: 0.5L / 충전시간: 3시간30분 / 사용시간: 2시간 / 배터리: 리튬이온 (2개) / 구성: 바닥, 물걸레, 펫, 솔형, 틈새, 연장툴, 거치대 / 디스플레이표시창 / 프리볼트 / 무게: 2.64kg / 색상:티탄+민트 / 소비전력: 550W / 알레르기인증(BAF) / 미세먼지인증(SLG) / 크기(가로x세로x깊이): 250x1123x215mm / [VCA-SAE90A] 청정스테이션 / 색상: 블랙 / 크기(가로x세로x깊이): 185x600x180mm', '907730'], ['삼성전자 제트 VS20T9213QDCSB', '핸디/스틱청소기 / 핸디+스틱형 / 무선형 / 전압: 21.6V / 헤파필터 / 싸이클론 / 5단계여과 / 인버터모터 / 흡입력: 200W / 먼지통용량: 0.5L / 충전시간: 3시간30분 / 사용시간: 1시간 / 배터리: 리튬이온 (2개) / 구성: 바닥, 물걸레, 솔형, 틈새, 거치대 / 디스플레이표시창 / 프리볼트 / 무게: 2.64kg / 색상:티탄+그레이 / 소비전력: 550W / 알레르기인증(BAF) / 미세먼지인증(SLG) / 크기(가로x세로x깊이): 250x1123x215mm / [VCA-SAE90A] 청정스테이션 / 색상: 블랙 / 크기(가로x세로x깊이): 185x600x180mm', '779050'], ['일렉트로룩스 ZB3302AK', '핸디/스틱청소기 / 핸디+스틱형 / 무선형 / 전압: 14.4V / 4단계여과 / 먼지통용량: 0.42L / 충전시간: 4시간 / 사용시간: 42분 / 배터리: 리튬이온 / 구성: 바닥, 침구, 틈새, 긴틈새, 패브릭, 연장툴, 거치대 / 브러쉬자동청소 / 셀프스탠딩 / LED라이트 / 배터리잔량표시 / 무게: 3.22kg / 색상:스페이스틸 / 알레르기인증(BAF) / 크기(가로x세로x깊이): 303x690x162mm', '165810'], ['일렉트로룩스 라피도 ZB6114', '핸디/스틱청소기 / 핸디형 / 무선형 / 전압: 14.4V / 싸이클론 / 3단계여과 / 충전시간: 4시간 / 사용시간: 24분 / 배터리: 리튬이온 / 구성: 거치대 / 무게: 1.13kg / 색상:텅스텐메탈릭 / 5단계각도조절 / 바퀴 / 크기(가로x세로x깊이): 124x410x137mm', '79190'], ['일렉트로룩스 WELL Q7 WQ71-2OIB', '핸디/스틱청소기 / 핸디+스틱형 / 무선형 / 전압: 21.6V / 싸이클론 / 5단계여과 / 먼지통용량: 0.3L / 충전시간: 4시간30분 / 사용시간: 50분 / 배터리: 리튬이온 / 구성: 바닥, 솔형, 더스팅, 틈새, 거치대 / 브러쉬자동청소 / 셀프스탠딩 / LED라이트 / 배터리잔량표시 / 무게: 2.8kg / 색상:인디고블루 / 크기(가로x세로x깊이): 386x692x140mm', '252170'], ['시원코퍼레이션 SRV-2010C', '핸디/스틱청소기 / 핸디형 / 무선형 / 헤파필터 / H13급 / BLDC모터 / 흡입력: 15000Pa / 먼지통용량: 0.09L / 충전시간: 5시간 / 사용시간: 28분 / 용량: 2500mAh / 구성: 솔형, 틈새, 거치대 / 무게: 0.52kg / 색상:화이트 / 소비전력: 120W / 크기(가로x세로x깊이): 75x415x70mm', '75460'], ['샤오미 드리미 V9', '핸디/스틱청소기 / 핸디+스틱형 / 무선형 / 전압: 25.2V / 헤파필터 / 싸이클론 / 5단계여과 / 흡입력: 120AW / 흡입력: 20000Pa / 먼지통용량: 0.5L / 충전시간: 3시간30분 / 사용시간: 60분 / 용량: 2500mAh / 구성: 바닥, 침구, 솔형, 틈새, 연장툴, 거치대 / 무게: 1.5kg / 색상:화이트 / 소비전력: 400W', '122760']]\n"
     ]
    }
   ],
   "source": [
    "#반복문으로 검색 결과의 1페이지에 대한 상품정보 추출\n",
    "prod_data = []\n",
    "\n",
    "for prod_item in prod_items:\n",
    "    #1.상품명 가져오기\n",
    "    try:\n",
    "        title = prod_item.select('p.prod_name > a')[0].text.strip()\n",
    "    except:\n",
    "        title = ''\n",
    "    #2.상품 스펙정보 가져오기\n",
    "    try:\n",
    "        spec_list = prod_item.select('div.spec_list')[0].text.strip()\n",
    "    except:\n",
    "        spect_list = ''\n",
    "    #3.가격정보 가져오기\n",
    "    try:\n",
    "        price = prod_item.select('li.rank_one > p.price_sect > a > strong')[0].text.strip().replace(',','')\n",
    "    except:\n",
    "        price = ''\n",
    "    \n",
    "    prod_data.append([title, spec_list, price])\n",
    "    \n",
    "print(len(prod_data))\n",
    "print(prod_data)"
   ]
  },
  {
   "cell_type": "code",
   "execution_count": 13,
   "metadata": {},
   "outputs": [],
   "source": [
    "#상품 정보 태그에서 원하는 정보 추출하는 함수\n",
    "def get_prod_items(prod_items):\n",
    "    prod_data = []\n",
    "    \n",
    "    for prod_item in prod_items:\n",
    "        #1.상품명 가져오기\n",
    "        try:\n",
    "            title = prod_item.select('div.prod_info > p.prod_name > a')[0].text.strip()\n",
    "        except:\n",
    "            title = ''\n",
    "        #2.상품 스펙정보 가져오기\n",
    "        try:\n",
    "            spec_list = prod_item.select('div.spec_list')[0].text.strip()\n",
    "        except:\n",
    "            spect_list = ''\n",
    "        #3.가격정보 가져오기\n",
    "        try:\n",
    "            price = int(prod_item.select(' p.price_sect > a > strong')[0].text.strip().replace(',',''))\n",
    "        except:\n",
    "            price = 0\n",
    "    \n",
    "        prod_data.append([title, spec_list, price])\n",
    "    \n",
    "    return prod_data"
   ]
  },
  {
   "cell_type": "code",
   "execution_count": 14,
   "metadata": {},
   "outputs": [
    {
     "name": "stdout",
     "output_type": "stream",
     "text": [
      "40\n"
     ]
    }
   ],
   "source": [
    "#상품 정보를 가져오는 함수 테스트\n",
    "prod_items = soup.select('div.main_prodlist > ul.product_list > li.prod_item')\n",
    "prod_data = get_prod_items(prod_items)\n",
    "print(len(prod_data))"
   ]
  },
  {
   "cell_type": "code",
   "execution_count": 15,
   "metadata": {},
   "outputs": [],
   "source": [
    "#다나와 검색 URL을 만들어주는 함수\n",
    "def get_search_page_url(keyword, page):\n",
    "    return 'http://search.danawa.com/dsearch.php?query={0}&volumeType=allvs&page={1}&limit=40&sort=saveDESC&list=list&boost=true&addDelivery=N&recommendedSort=Y&defaultUICategoryCode=103740&defaultPhysicsCategoryCode=72%7C80%7C81%7C0&defaultVmTab=2371&defaultVaTab=119246&tab=goods'\\\n",
    "    .format(keyword, page)"
   ]
  },
  {
   "cell_type": "code",
   "execution_count": 16,
   "metadata": {},
   "outputs": [
    {
     "name": "stdout",
     "output_type": "stream",
     "text": [
      "http://search.danawa.com/dsearch.php?query=무선청소기&volumeType=allvs&page=2&limit=40&sort=saveDESC&list=list&boost=true&addDelivery=N&recommendedSort=Y&defaultUICategoryCode=103740&defaultPhysicsCategoryCode=72%7C80%7C81%7C0&defaultVmTab=2371&defaultVaTab=119246&tab=goods\n"
     ]
    }
   ],
   "source": [
    "keyword = '무선청소기'\n",
    "page = 2\n",
    "url = get_search_page_url(keyword, page)\n",
    "print(url)"
   ]
  },
  {
   "cell_type": "markdown",
   "metadata": {},
   "source": [
    "### 주피터 노트북의 진행표시줄 처리"
   ]
  },
  {
   "cell_type": "code",
   "execution_count": 17,
   "metadata": {},
   "outputs": [
    {
     "name": "stderr",
     "output_type": "stream",
     "text": [
      "<ipython-input-17-b5d3de882b5a>:5: TqdmDeprecationWarning: This function will be removed in tqdm==5.0.0\n",
      "Please use `tqdm.notebook.tqdm` instead of `tqdm.tqdm_notebook`\n",
      "  for page in tqdm_notebook(range(1, total_page+1)):\n"
     ]
    },
    {
     "data": {
      "application/vnd.jupyter.widget-view+json": {
       "model_id": "c2538deae1964757a7b2041e343ffda2",
       "version_major": 2,
       "version_minor": 0
      },
      "text/plain": [
       "HBox(children=(HTML(value=''), FloatProgress(value=0.0, max=10.0), HTML(value='')))"
      ]
     },
     "metadata": {},
     "output_type": "display_data"
    },
    {
     "name": "stdout",
     "output_type": "stream",
     "text": [
      "\n"
     ]
    }
   ],
   "source": [
    "import time\n",
    "from tqdm import tqdm_notebook\n",
    "\n",
    "total_page = 10\n",
    "for page in tqdm_notebook(range(1, total_page+1)):\n",
    "    #페이지가 로딩 완료되기 위한 시간을 5초로 준다\n",
    "    time.sleep(5)"
   ]
  },
  {
   "cell_type": "markdown",
   "metadata": {},
   "source": [
    "### 여러페이지에 걸친 상품 정보 수집"
   ]
  },
  {
   "cell_type": "code",
   "execution_count": 21,
   "metadata": {},
   "outputs": [
    {
     "name": "stderr",
     "output_type": "stream",
     "text": [
      "<ipython-input-21-894d5281f81f>:16: TqdmDeprecationWarning: This function will be removed in tqdm==5.0.0\n",
      "Please use `tqdm.notebook.tqdm` instead of `tqdm.tqdm_notebook`\n",
      "  for page in tqdm_notebook(range(1, total_page +1)):\n"
     ]
    },
    {
     "data": {
      "application/vnd.jupyter.widget-view+json": {
       "model_id": "71e3896ce69048c9a80bbd0a22dc0ff1",
       "version_major": 2,
       "version_minor": 0
      },
      "text/plain": [
       "HBox(children=(HTML(value=''), FloatProgress(value=0.0, max=10.0), HTML(value='')))"
      ]
     },
     "metadata": {},
     "output_type": "display_data"
    },
    {
     "name": "stdout",
     "output_type": "stream",
     "text": [
      "\n"
     ]
    }
   ],
   "source": [
    "#다나와 크롤링\n",
    "from selenium import webdriver\n",
    "from bs4 import BeautifulSoup\n",
    "import time\n",
    "from tqdm import tqdm_notebook\n",
    "\n",
    "driver = webdriver.Chrome('C:/Users/name_/Desktop/데이터분석/datadown/chromedriver.exe')\n",
    "#암묵적으로 웹 자원 로드를 위해 3초까지 기다림\n",
    "driver.implicitly_wait(3)\n",
    "\n",
    "keyword = '무선청소기'\n",
    "total_page = 10\n",
    "prod_data_total = []\n",
    "\n",
    "#진행 정도를 표현하는 tqdm적용\n",
    "for page in tqdm_notebook(range(1, total_page +1)):\n",
    "    #1.검색페이지로 이동\n",
    "    url = get_search_page_url(keyword, page)\n",
    "    driver.get(url)\n",
    "    #페이지 로딩 완료되기 위한 시간으로 5초를 할당\n",
    "    time.sleep(5)\n",
    "    \n",
    "    #2.현재 페이지의 HTML 정보 가져오기\n",
    "    html = driver.page_source\n",
    "    soup = BeautifulSoup(html, 'html.parser')\n",
    "    \n",
    "    #3.상품정보 추출\n",
    "    prod_items = soup.select('div.main_prodlist.main_prodlist_list > ul.product_list > li.prod_item')\n",
    "    prod_item_list = get_prod_items(prod_items)\n",
    "    \n",
    "    #4.추출데이터 저장\n",
    "    prod_data_total = prod_data_total + prod_item_list"
   ]
  },
  {
   "cell_type": "code",
   "execution_count": 24,
   "metadata": {},
   "outputs": [
    {
     "name": "stdout",
     "output_type": "stream",
     "text": [
      "[['샤오미 드리미 V10', '핸디/스틱청소기 / 핸디+스틱형 / 무선형 / 전압: 25.2V / 헤파필터 / H12급 / 5단계여과 / 흡입력: 140AW / 흡입력: 22000Pa / 먼지통용량: 0.5L / 충전시간: 3시간30분 / 사용시간: 1시간 / 용량: 2500mAh / 구성: 바닥, 침구, 솔형, 틈새, 연장툴, 거치대 / 무게: 1.5kg / 색상:화이트 / 소비전력: 450W', 146130], ['zezYUTN8ZW', 'zezYUTN8ZW164236', 164236], ['LG전자 코드제로 A9S A9700', '핸디/스틱청소기 / 핸디+스틱형 / 무선형 / 헤파필터 / 2중터보싸이클론 / 5단계여과 / 인버터모터 / 흡입력: 200W / 충전시간: 4시간 / 사용시간: 2시간 / 배터리: 리튬이온 (2개) / 구성: 바닥, 물걸레, 침구, 솔형, 굳은먼지, 상부청소, 틈새, 긴틈새, 매트리스, 연장툴, 거치대 / 자동물공급 / 디스플레이표시창 / 배터리잔량표시 / WiFi / 색상:판타지실버 / 소비전력: 590W / 미세먼지인증(SLG) / 크기(가로x세로x깊이): 250x1120x260mm', 993520], ['다이슨 V8 플러피', '핸디/스틱청소기 / 핸디+스틱형 / 무선형 / 전압: 21.6V / 싸이클론 / 흡입력: 155AW / 충전시간: 5시간 / 사용시간: 40분 / 배터리: 리튬이온 / 구성: 소프트롤러, 미니모터, 솔형, 더스팅, 틈새, 매트리스, 연장툴, 도킹스테이션 / 무게: 2.58kg / 소비전력: 485W / 크기(가로x세로x깊이): 250x1264x224mm', 427650], ['베이스어스 차량용 무선 진공 청소기 A2 (해외구매)', '차량용청소기 / 무선 / 흡입력: 5,000Pa / 최대출력: 70W / 헤파필터 / 추가노즐: 솔브러쉬 / 사용시간: 18분 / 색상: 그린, 블랙, 화이트 / 60ml 먼지통 / 배터리 표시등', 19800]]\n",
      "410\n"
     ]
    }
   ],
   "source": [
    "print(prod_data_total[:5])\n",
    "print(len(prod_data_total))"
   ]
  },
  {
   "cell_type": "markdown",
   "metadata": {},
   "source": [
    "### 수집 데이터 저장"
   ]
  },
  {
   "cell_type": "code",
   "execution_count": 23,
   "metadata": {},
   "outputs": [],
   "source": [
    "import pandas as pd\n",
    "data = pd.DataFrame(prod_data_total)\n",
    "data.columns = ['상품명', '스펙 목록', '가격']\n",
    "data.to_excel('C:/Users/name_/Desktop/데이터분석/files/6장/danawa_crawling_result.xlsx', index = False)"
   ]
  }
 ],
 "metadata": {
  "kernelspec": {
   "display_name": "Python 3",
   "language": "python",
   "name": "python3"
  },
  "language_info": {
   "codemirror_mode": {
    "name": "ipython",
    "version": 3
   },
   "file_extension": ".py",
   "mimetype": "text/x-python",
   "name": "python",
   "nbconvert_exporter": "python",
   "pygments_lexer": "ipython3",
   "version": "3.8.5"
  }
 },
 "nbformat": 4,
 "nbformat_minor": 4
}
