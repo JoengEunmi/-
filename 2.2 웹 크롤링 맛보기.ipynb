{
 "cells": [
  {
   "cell_type": "code",
   "execution_count": 1,
   "metadata": {},
   "outputs": [],
   "source": [
    "# 웹 크롤링이란 웹 페이지에 있는 정보를 가지고 오는것을 의미한다"
   ]
  },
  {
   "cell_type": "markdown",
   "metadata": {},
   "source": [
    "### selenium과 크롬드라이버 설치"
   ]
  },
  {
   "cell_type": "code",
   "execution_count": 6,
   "metadata": {},
   "outputs": [
    {
     "name": "stdout",
     "output_type": "stream",
     "text": [
      "Requirement already satisfied: selenium in c:\\programdata\\anaconda3\\lib\\site-packages (3.141.0)\n",
      "Requirement already satisfied: urllib3 in c:\\programdata\\anaconda3\\lib\\site-packages (from selenium) (1.25.11)\n"
     ]
    }
   ],
   "source": [
    "! pip install selenium "
   ]
  },
  {
   "cell_type": "code",
   "execution_count": 7,
   "metadata": {},
   "outputs": [],
   "source": [
    "# !는 해당 명령어를 콘솔창에서 실행하라는 의미"
   ]
  },
  {
   "cell_type": "code",
   "execution_count": 9,
   "metadata": {},
   "outputs": [],
   "source": [
    "from selenium import webdriver"
   ]
  },
  {
   "cell_type": "code",
   "execution_count": 10,
   "metadata": {},
   "outputs": [],
   "source": [
    "# webdriver를 활용하기 위해서는 사용중인 웹 브라우저의 종류에 따라 제어하는 드라이버가 필요\n",
    "# 크롬 드라이버를 이용하여 크롤링 진행"
   ]
  },
  {
   "cell_type": "code",
   "execution_count": 11,
   "metadata": {},
   "outputs": [],
   "source": [
    "# 크롬 드라이버 설치 : https://sites.google.com/a/chromium.org/chromedriver/downloads"
   ]
  },
  {
   "cell_type": "code",
   "execution_count": 12,
   "metadata": {},
   "outputs": [],
   "source": [
    "# 해당하는 운영체제 다운받아서 원하는 파일에 압축풀기"
   ]
  },
  {
   "cell_type": "markdown",
   "metadata": {},
   "source": [
    "### 크롬드라이버 활용하기"
   ]
  },
  {
   "cell_type": "code",
   "execution_count": 17,
   "metadata": {},
   "outputs": [],
   "source": [
    "from selenium import webdriver\n",
    "driver = webdriver.Chrome('C:/Users/name_/Desktop/데이터분석/datadown/chromedriver.exe')"
   ]
  },
  {
   "cell_type": "code",
   "execution_count": 14,
   "metadata": {},
   "outputs": [],
   "source": [
    "# 크롬브라우저를 driver라는 이름으로 저장했고, 이 driver에 명령을 내려서 크롬브라우저를 조작할 수 있다"
   ]
  },
  {
   "cell_type": "markdown",
   "metadata": {},
   "source": [
    "### 웹페이지(HTML) 다운로드"
   ]
  },
  {
   "cell_type": "code",
   "execution_count": 15,
   "metadata": {},
   "outputs": [],
   "source": [
    "# selenium을 이용하면 웹 브라우저에 표시되는 웹페이지의 정보를 다운로드 할 수 있다\n",
    "# 정보들은 HTML 문법에 맞게 작성돼 있으며, 브라우저 화면에 나타난 정보 외에도 다양한 정보를 가지고 있다"
   ]
  },
  {
   "cell_type": "code",
   "execution_count": 19,
   "metadata": {},
   "outputs": [],
   "source": [
    "html = driver.page_source # 현재 크롬 브라우저가 접속한 웹 페이지의 HTML을 다운로드 "
   ]
  },
  {
   "cell_type": "markdown",
   "metadata": {},
   "source": [
    " ### 크롬 브라우저에서 웹 페이지의 HTML 살펴보기"
   ]
  },
  {
   "cell_type": "code",
   "execution_count": 20,
   "metadata": {},
   "outputs": [],
   "source": [
    "# 크롬 우측 상단에 메뉴 버튼을 클릭한 후 [도구더보기] -> [개발자도구]로 이동\n",
    "# [Element] 탭을 클릭해 현재 열려있는 웹 페이지의 HTML 내용을 확인"
   ]
  },
  {
   "cell_type": "markdown",
   "metadata": {},
   "source": [
    "### BeautifulSoup을 이용한 정보 찾기"
   ]
  },
  {
   "cell_type": "code",
   "execution_count": 22,
   "metadata": {},
   "outputs": [],
   "source": [
    "# 예제 2-40 실습용 HTML\n",
    "html = '''\n",
    "<html>\n",
    "    <head>\n",
    "    </head>\n",
    "    <body>\n",
    "        <h1> 우리동네시장</h1>\n",
    "            <div class = 'sale'>\n",
    "                <p id='fruits1' class='fruits'>\n",
    "                    <span class = 'name'> 바나나 </span>\n",
    "                    <span class = 'price'> 3000원 </span>\n",
    "                    <span class = 'inventory'> 500개 </span>\n",
    "                    <span class = 'store'> 가나다상회 </span>\n",
    "                    <a href = 'http://bit.ly/forPlaywithData' > 홈페이지 </a>\n",
    "                </p>\n",
    "            </div>\n",
    "            <div class = 'prepare'>\n",
    "                <p id='fruits2' class='fruits'>\n",
    "                    <span class ='name'> 파인애플 </span>\n",
    "                </p>\n",
    "            </div>\n",
    "    </body>\n",
    "</html>\n",
    "'''\n"
   ]
  },
  {
   "cell_type": "code",
   "execution_count": 23,
   "metadata": {},
   "outputs": [],
   "source": [
    "from bs4 import BeautifulSoup"
   ]
  },
  {
   "cell_type": "code",
   "execution_count": 25,
   "metadata": {},
   "outputs": [],
   "source": [
    "soup = BeautifulSoup(html, 'html.parser') # html변수에 들어있는 문자열 정보를 HTML 형식에 맞게 해석해서 원하는 정보를 찾을수 있도록 준비"
   ]
  },
  {
   "cell_type": "markdown",
   "metadata": {},
   "source": [
    "### HTML 정보 찾기 - 태그 속성 활용"
   ]
  },
  {
   "cell_type": "code",
   "execution_count": 27,
   "metadata": {},
   "outputs": [],
   "source": [
    "tags_span = soup.select('span') # select('조건')을 활용하여 HTML 내에서 입력한 조건을 만족하는 태그를 모두 선택할 수 있다\n",
    "tags_p = soup.select('p')"
   ]
  },
  {
   "cell_type": "code",
   "execution_count": 29,
   "metadata": {},
   "outputs": [],
   "source": [
    "ids_fruits1 = soup.select('#fruits1') # id가 fruits1인 태그\n",
    "class_price = soup.select('.price') # class가 price인 태그\n",
    "tags_span_class_price = soup.select('span.price') # span 태그중에서 class가 price인 태그"
   ]
  },
  {
   "cell_type": "markdown",
   "metadata": {},
   "source": [
    "### HTML 정보 찾기 - 상위 구조 활용"
   ]
  },
  {
   "cell_type": "code",
   "execution_count": 30,
   "metadata": {},
   "outputs": [
    {
     "name": "stdout",
     "output_type": "stream",
     "text": [
      "[<span class=\"name\"> 바나나 </span>, <span class=\"name\"> 파인애플 </span>]\n"
     ]
    }
   ],
   "source": [
    "tags_name = soup.select('span.name')\n",
    "print(tags_name)"
   ]
  },
  {
   "cell_type": "code",
   "execution_count": 31,
   "metadata": {},
   "outputs": [],
   "source": [
    "# 파인애플은 제외하고 바나나만 찾기위해 바나나가 속한 부모태그정보를 추가"
   ]
  },
  {
   "cell_type": "code",
   "execution_count": 33,
   "metadata": {},
   "outputs": [
    {
     "name": "stdout",
     "output_type": "stream",
     "text": [
      "[<span class=\"name\"> 바나나 </span>]\n"
     ]
    }
   ],
   "source": [
    "tags_banana1 = soup.select('#fruits1 > span.name')\n",
    "print(tags_banana1)"
   ]
  },
  {
   "cell_type": "code",
   "execution_count": 36,
   "metadata": {},
   "outputs": [
    {
     "name": "stdout",
     "output_type": "stream",
     "text": [
      "[<span class=\"name\"> 바나나 </span>]\n",
      "[<span class=\"name\"> 바나나 </span>]\n"
     ]
    }
   ],
   "source": [
    "tags_banana2 = soup.select('div.sale > #fruits1 > span.name') # > 활용하기\n",
    "tags_banana3 = soup.select('div.sale span.name') # 띄어쓰기 활용하기\n",
    "print(tags_banana2)\n",
    "print(tags_banana3)"
   ]
  },
  {
   "cell_type": "markdown",
   "metadata": {},
   "source": [
    "### 정보가져오기 - 태그 그룹에서 하나의 태그 선택하기"
   ]
  },
  {
   "cell_type": "code",
   "execution_count": 37,
   "metadata": {},
   "outputs": [
    {
     "name": "stdout",
     "output_type": "stream",
     "text": [
      "<span class=\"name\"> 바나나 </span>\n"
     ]
    }
   ],
   "source": [
    "# 태그그룹에서 하나의 태그만 선택\n",
    "tags = soup.select('span.name')\n",
    "tag_1 = tags[0] # 인텍스 번호로 하나의 태그 지정\n",
    "print(tag_1)"
   ]
  },
  {
   "cell_type": "code",
   "execution_count": 40,
   "metadata": {},
   "outputs": [
    {
     "name": "stdout",
     "output_type": "stream",
     "text": [
      "<span class=\"name\"> 바나나 </span>\n",
      "<span class=\"name\"> 파인애플 </span>\n"
     ]
    }
   ],
   "source": [
    "# 태그그룹에서 반복문으로 태그 하나씩 선택하기\n",
    "tags = soup.select('span.name') \n",
    "for tag in tags: # 반복문으로 태그 그룹에서 각 태그를 선택해 활용\n",
    "    print(tag)"
   ]
  },
  {
   "cell_type": "markdown",
   "metadata": {},
   "source": [
    "### 정보가져오기 - 선택한 태그에서 정보 가져오기"
   ]
  },
  {
   "cell_type": "code",
   "execution_count": 42,
   "metadata": {},
   "outputs": [
    {
     "name": "stdout",
     "output_type": "stream",
     "text": [
      " 홈페이지 \n",
      "http://bit.ly/forPlaywithData\n"
     ]
    }
   ],
   "source": [
    "tags = soup.select('a') # 태그명이 a 인 태그 모두 선택\n",
    "tag = tags[0] # 그 중 첫번째 원소를 선택해서 변수에 저장\n",
    "content = tag.text # 태그에서 화면에 보이는 텍스트 부분만 가져오기\n",
    "print(content)\n",
    "link = tag['href'] # 태그에서 href 속성에 저장된 값을 변수에 저장\n",
    "print(link)"
   ]
  },
  {
   "cell_type": "markdown",
   "metadata": {},
   "source": [
    "### 멜론 노래 순위 정보 크롤링(1)"
   ]
  },
  {
   "cell_type": "code",
   "execution_count": 51,
   "metadata": {},
   "outputs": [],
   "source": [
    "from selenium import webdriver"
   ]
  },
  {
   "cell_type": "code",
   "execution_count": 52,
   "metadata": {},
   "outputs": [],
   "source": [
    "driver = webdriver.Chrome('C:/Users/name_/Desktop/데이터분석/datadown/chromedriver.exe')"
   ]
  },
  {
   "cell_type": "code",
   "execution_count": 53,
   "metadata": {},
   "outputs": [],
   "source": [
    "url = 'https://www.melon.com/chart/day/index.htm'\n",
    "driver.get(url)"
   ]
  },
  {
   "cell_type": "code",
   "execution_count": 54,
   "metadata": {},
   "outputs": [],
   "source": [
    "from bs4 import BeautifulSoup\n",
    "html = driver.page_source\n",
    "soup = BeautifulSoup(html, 'html.parser')"
   ]
  },
  {
   "cell_type": "code",
   "execution_count": 76,
   "metadata": {},
   "outputs": [
    {
     "name": "stdout",
     "output_type": "stream",
     "text": [
      "50\n",
      "<tr class=\"lst50\" data-song-no=\"33077590\" id=\"lst50\">\n",
      "<td><div class=\"wrap t_right\"><input class=\"input_check\" name=\"input_check\" title=\"VVS (Feat. JUSTHIS) (Prod. GroovyRoom) 곡 선택\" type=\"checkbox\" value=\"33077590\"/></div></td>\n",
      "<td><div class=\"wrap t_center\"><span class=\"rank\">1</span><span class=\"none\">위</span></div></td>\n",
      "<!-- 차트순위 추가 -->\n",
      "<td><div class=\"wrap\">\n",
      "<span class=\"rank_wrap\" title=\"순위 동일\">\n",
      "<span class=\"bullet_icons rank_static\"><span class=\"none\">순위 동일</span></span>\n",
      "<span class=\"none\">0</span>\n",
      "</span>\n",
      "</div></td>\n",
      "<td><div class=\"wrap\">\n",
      "<a class=\"image_typeAll\" href=\"javascript:melon.link.goAlbumDetail('10521601');\" title=\"쇼미더머니 9 Episode 1\">\n",
      "<img alt=\"쇼미더머니 9 Episode 1 - 페이지 이동\" height=\"60\" onerror=\"WEBPOCIMG.defaultAlbumImg(this);\" src=\"https://cdnimg.melon.co.kr/cm2/album/images/105/21/601/10521601_20201120125511_500.jpg/melon/resize/120/quality/80/optimize\" width=\"60\"/>\n",
      "<span class=\"bg_album_frame\"></span>\n",
      "</a>\n",
      "</div></td>\n",
      "<td><div class=\"wrap\">\n",
      "<a class=\"btn button_icons type03 song_info\" href=\"javascript:melon.link.goSongDetail('33077590');\" title=\"VVS (Feat. JUSTHIS) (Prod. GroovyRoom) 곡정보\"><span class=\"none\">곡정보</span></a>\n",
      "</div></td>\n",
      "<td><div class=\"wrap\">\n",
      "<div class=\"wrap_song_info\">\n",
      "<div class=\"ellipsis rank01\"><span>\n",
      "<a href=\"javascript:melon.play.playSong('19041201',33077590);\" title=\"VVS (Feat. JUSTHIS) (Prod. GroovyRoom) 재생\">VVS (Feat. JUSTHIS) (Prod. GroovyRoom)</a>\n",
      "</span></div><br/>\n",
      "<div class=\"ellipsis rank02\">\n",
      "<a href=\"javascript:melon.link.goArtistDetail('2866523');\" title=\"미란이 (Mirani) - 페이지 이동\">미란이 (Mirani)</a>, <a href=\"javascript:melon.link.goArtistDetail('2747971');\" title=\"먼치맨 - 페이지 이동\">먼치맨</a>, <a href=\"javascript:melon.link.goArtistDetail('1703507');\" title=\"Khundi Panda - 페이지 이동\">Khundi Panda</a>, <a href=\"javascript:melon.link.goArtistDetail('2745413');\" title=\"머쉬베놈 (MUSHVENOM) - 페이지 이동\">머쉬베놈 (MUSHVENOM)</a><span class=\"checkEllipsis\" style=\"display: none;\"><a href=\"javascript:melon.link.goArtistDetail('2866523');\" title=\"미란이 (Mirani) - 페이지 이동\">미란이 (Mirani)</a>, <a href=\"javascript:melon.link.goArtistDetail('2747971');\" title=\"먼치맨 - 페이지 이동\">먼치맨</a>, <a href=\"javascript:melon.link.goArtistDetail('1703507');\" title=\"Khundi Panda - 페이지 이동\">Khundi Panda</a>, <a href=\"javascript:melon.link.goArtistDetail('2745413');\" title=\"머쉬베놈 (MUSHVENOM) - 페이지 이동\">머쉬베놈 (MUSHVENOM)</a></span>\n",
      "</div>\n",
      "<div class=\"wrap_atist\" style=\"\">\n",
      "<button class=\"button_icons etc more_down\" data-control=\"dropdown\" title=\"아티스트 더보기\" type=\"button\"><span class=\"none\">아티스트명 더보기</span></button>\n",
      "<div class=\"atist_view\" style=\"display:none;\">\n",
      "<ul>\n",
      "<li><a class=\"ellipsis\" href=\"javascript:melon.link.goArtistDetail('2866523');\" title=\"미란이 (Mirani) 페이지 이동\">미란이 (Mirani)</a></li>\n",
      "<li><a class=\"ellipsis\" href=\"javascript:melon.link.goArtistDetail('2747971');\" title=\"먼치맨 페이지 이동\">먼치맨</a></li>\n",
      "<li><a class=\"ellipsis\" href=\"javascript:melon.link.goArtistDetail('1703507');\" title=\"Khundi Panda 페이지 이동\">Khundi Panda</a></li>\n",
      "<li><a class=\"ellipsis\" href=\"javascript:melon.link.goArtistDetail('2745413');\" title=\"머쉬베놈 (MUSHVENOM) 페이지 이동\">머쉬베놈 (MUSHVENOM)</a></li>\n",
      "</ul>\n",
      "</div>\n",
      "</div>\n",
      "</div>\n",
      "</div></td>\n",
      "<td><div class=\"wrap\">\n",
      "<div class=\"wrap_song_info\">\n",
      "<div class=\"ellipsis rank03\">\n",
      "<a href=\"javascript:melon.link.goAlbumDetail('10521601');\" title=\"쇼미더머니 9 Episode 1 - 페이지 이동\">쇼미더머니 9 Episode 1</a>\n",
      "</div>\n",
      "</div>\n",
      "</div></td>\n",
      "<td><div class=\"wrap\">\n",
      "<button class=\"button_etc like\" data-song-menuid=\"19041201\" data-song-no=\"33077590\" title=\"VVS (Feat. JUSTHIS) (Prod. GroovyRoom) 좋아요\" type=\"button\"><span class=\"odd_span\">좋아요</span>\n",
      "<span class=\"cnt\">\n",
      "<span class=\"none\">총건수</span>\n",
      "144,856</span></button>\n",
      "</div></td>\n",
      "<td><div class=\"wrap t_center\">\n",
      "<button class=\"button_icons play\" onclick=\"melon.play.playSong('19041201',33077590);\" title=\"듣기\" type=\"button\"><span class=\"none\">듣기</span></button>\n",
      "</div></td>\n",
      "<td><div class=\"wrap t_center\">\n",
      "<button class=\"button_icons scrap\" onclick=\"melon.play.addPlayList('33077590');\" title=\"담기\" type=\"button\"><span class=\"none\">담기</span></button>\n",
      "</div></td>\n",
      "<td><div class=\"wrap t_center\">\n",
      "<button class=\"button_icons download\" onclick=\"melon.buy.goBuyProduct('frm', '33077590', '3C0001', '','0', '19041201');\" title=\"다운로드\" type=\"button\"><span class=\"none\">다운로드</span></button>\n",
      "</div></td>\n",
      "<td><div class=\"wrap t_center\">\n",
      "<button class=\"button_icons video disabled\" disabled=\"disabled\" onclick=\"melon.link.goMvDetail('19041201', '33077590','song');\" title=\"뮤직비디오\" type=\"button\"><span class=\"none\">뮤직비디오</span></button>\n",
      "</div></td>\n",
      "</tr>\n"
     ]
    }
   ],
   "source": [
    "songs = soup.select('#lst50')\n",
    "print(len(songs))\n",
    "print(songs[0])"
   ]
  },
  {
   "cell_type": "code",
   "execution_count": 57,
   "metadata": {},
   "outputs": [],
   "source": [
    "song = songs[0]"
   ]
  },
  {
   "cell_type": "code",
   "execution_count": 65,
   "metadata": {},
   "outputs": [],
   "source": [
    "# 노래 제목 찾기"
   ]
  },
  {
   "cell_type": "code",
   "execution_count": 59,
   "metadata": {},
   "outputs": [
    {
     "data": {
      "text/plain": [
       "16"
      ]
     },
     "execution_count": 59,
     "metadata": {},
     "output_type": "execute_result"
    }
   ],
   "source": [
    "title = song.select('a')\n",
    "len(title)"
   ]
  },
  {
   "cell_type": "code",
   "execution_count": 61,
   "metadata": {},
   "outputs": [
    {
     "data": {
      "text/plain": [
       "5"
      ]
     },
     "execution_count": 61,
     "metadata": {},
     "output_type": "execute_result"
    }
   ],
   "source": [
    "title = song.select('span > a')\n",
    "len(title)"
   ]
  },
  {
   "cell_type": "code",
   "execution_count": 63,
   "metadata": {},
   "outputs": [
    {
     "data": {
      "text/plain": [
       "1"
      ]
     },
     "execution_count": 63,
     "metadata": {},
     "output_type": "execute_result"
    }
   ],
   "source": [
    "title = song.select('div.ellipsis.rank01 > span > a')\n",
    "len(title)"
   ]
  },
  {
   "cell_type": "code",
   "execution_count": 64,
   "metadata": {},
   "outputs": [
    {
     "data": {
      "text/plain": [
       "'VVS (Feat. JUSTHIS) (Prod. GroovyRoom)'"
      ]
     },
     "execution_count": 64,
     "metadata": {},
     "output_type": "execute_result"
    }
   ],
   "source": [
    "title = song.select('div.ellipsis.rank01 > span > a')[0].text\n",
    "title"
   ]
  },
  {
   "cell_type": "code",
   "execution_count": 66,
   "metadata": {},
   "outputs": [],
   "source": [
    "# 노래 가수 찾기"
   ]
  },
  {
   "cell_type": "code",
   "execution_count": 67,
   "metadata": {},
   "outputs": [
    {
     "data": {
      "text/plain": [
       "[<a href=\"javascript:melon.link.goArtistDetail('2866523');\" title=\"미란이 (Mirani) - 페이지 이동\">미란이 (Mirani)</a>,\n",
       " <a href=\"javascript:melon.link.goArtistDetail('2747971');\" title=\"먼치맨 - 페이지 이동\">먼치맨</a>,\n",
       " <a href=\"javascript:melon.link.goArtistDetail('1703507');\" title=\"Khundi Panda - 페이지 이동\">Khundi Panda</a>,\n",
       " <a href=\"javascript:melon.link.goArtistDetail('2745413');\" title=\"머쉬베놈 (MUSHVENOM) - 페이지 이동\">머쉬베놈 (MUSHVENOM)</a>]"
      ]
     },
     "execution_count": 67,
     "metadata": {},
     "output_type": "execute_result"
    }
   ],
   "source": [
    "singer = song.select('div.ellipsis.rank02 > a')\n",
    "singer"
   ]
  },
  {
   "cell_type": "code",
   "execution_count": 69,
   "metadata": {},
   "outputs": [
    {
     "name": "stdout",
     "output_type": "stream",
     "text": [
      "미란이 (Mirani)\n",
      "먼치맨\n",
      "Khundi Panda\n",
      "머쉬베놈 (MUSHVENOM)\n"
     ]
    }
   ],
   "source": [
    "for singers in singer:\n",
    "    print(singers.text)"
   ]
  },
  {
   "cell_type": "code",
   "execution_count": 71,
   "metadata": {},
   "outputs": [],
   "source": [
    "# 멜론 50위 노래순위 정보 가져오기"
   ]
  },
  {
   "cell_type": "code",
   "execution_count": 80,
   "metadata": {},
   "outputs": [
    {
     "name": "stdout",
     "output_type": "stream",
     "text": [
      "VVS (Feat. JUSTHIS) (Prod. GroovyRoom)|미란이 (Mirani)\n",
      "밤하늘의 별을(2020)|경서\n",
      "Dynamite|방탄소년단\n",
      "잠이 오질 않네요|장범준\n",
      "내일이 오면 (Feat. 기리보이, BIG Naughty (서동현))|릴보이 (lIlBOI)\n",
      "힘든 건 사랑이 아니다|임창정\n",
      "취기를 빌려 (취향저격 그녀 X 산들)|산들\n",
      "Lovesick Girls|BLACKPINK\n",
      "Life Goes On|방탄소년단\n",
      "CREDIT (Feat. 염따, 기리보이, Zion.T)|릴보이 (lIlBOI)\n",
      "오래된 노래|스탠딩 에그\n",
      "ON AIR (Feat. 로꼬, 박재범 & GRAY)|릴보이 (lIlBOI)\n",
      "Savage Love (Laxed - Siren Beat) (BTS Remix)|Jawsh 685\n",
      "Achoo (Feat. pH-1, HAON) (Prod. GroovyRoom)|미란이 (Mirani)\n",
      "All I Want For Christmas Is You|Mariah Carey\n",
      "내 마음이 움찔했던 순간 (취향저격 그녀 X 규현)|규현 (KYUHYUN)\n",
      "Freak (Prod. Slom)|릴보이 (lIlBOI)\n",
      "Santa Tell Me|Ariana Grande\n",
      "어떻게 이별까지 사랑하겠어, 널 사랑하는 거지|AKMU (악동뮤지션)\n",
      "나랑 같이 걸을래 (바른연애 길잡이 X 적재)|적재\n",
      "When We Disco (Duet with 선미)|박진영\n",
      "악역 (Feat. 이하이 & 사이먼 도미닉) (Prod. 코드 쿤스트)|스윙스\n",
      "뿌리 (Feat. JUSTHIS) (Prod. GroovyRoom)|Khundi Panda\n",
      "에잇(Prod.&Feat. SUGA of BTS)|아이유\n",
      "혼술하고 싶은 밤|벤\n",
      "흔들리는 꽃들 속에서 네 샴푸향이 느껴진거야|장범준\n",
      "딩가딩가 (Dingga)|마마무 (Mamamoo)\n",
      "Snowman|Sia\n",
      "DON'T TOUCH ME|환불원정대\n",
      "미리 메리 크리스마스 (Feat. 천둥 Of MBLAQ)|아이유\n",
      "늦은 밤 너의 집 앞 골목길에서|노을\n",
      "어떻게 지내 (Prod. By VAN.C)|오반 (OVAN)\n",
      "How You Like That|BLACKPINK\n",
      "아로하|조정석\n",
      "Dolphin|오마이걸 (OH MY GIRL)\n",
      "모든 날, 모든 순간 (Every day, Every Moment)|폴킴\n",
      "METEOR|창모 (CHANGMO)\n",
      "Blueming|아이유\n",
      "고독하구만 (Feat. 수퍼비) (Prod. GroovyRoom)|머쉬베놈 (MUSHVENOM)\n",
      "서면역에서|순순희\n",
      "I CAN’T STOP ME|TWICE (트와이스)\n",
      "뻔한남자|이승기\n",
      "사실 나는 (Feat.전건호)|경서예지\n",
      "작은 것들을 위한 시 (Boy With Luv) (Feat. Halsey)|방탄소년단\n",
      "마리아 (Maria)|화사 (Hwa Sa)\n",
      "거짓말이라도 해서 널 보고싶어|백지영\n",
      "What Do I Call You|태연 (TAEYEON)\n",
      "Memories|Maroon 5\n",
      "마음을 드려요|아이유\n",
      "오늘도 빛나는 너에게 (To You My Light) (Feat.이라온)|마크툽 (MAKTUB)\n"
     ]
    }
   ],
   "source": [
    "for song in songs:\n",
    "    title = song.select('div.ellipsis.rank01 > span > a')[0].text\n",
    "    singer = song.select('div.ellipsis.rank02 > a')[0].text\n",
    "    print(title, singer, sep='|')\n",
    "    "
   ]
  },
  {
   "cell_type": "code",
   "execution_count": 83,
   "metadata": {},
   "outputs": [
    {
     "name": "stdout",
     "output_type": "stream",
     "text": [
      "VVS (Feat. JUSTHIS) (Prod. GroovyRoom)-미란이 (Mirani)\n",
      "밤하늘의 별을(2020)-경서\n",
      "Dynamite-방탄소년단\n",
      "잠이 오질 않네요-장범준\n",
      "내일이 오면 (Feat. 기리보이, BIG Naughty (서동현))-릴보이 (lIlBOI)\n",
      "힘든 건 사랑이 아니다-임창정\n",
      "취기를 빌려 (취향저격 그녀 X 산들)-산들\n",
      "Lovesick Girls-BLACKPINK\n",
      "Life Goes On-방탄소년단\n",
      "CREDIT (Feat. 염따, 기리보이, Zion.T)-릴보이 (lIlBOI)\n",
      "오래된 노래-스탠딩 에그\n",
      "ON AIR (Feat. 로꼬, 박재범 & GRAY)-릴보이 (lIlBOI)\n",
      "Savage Love (Laxed - Siren Beat) (BTS Remix)-Jawsh 685\n",
      "Achoo (Feat. pH-1, HAON) (Prod. GroovyRoom)-미란이 (Mirani)\n",
      "All I Want For Christmas Is You-Mariah Carey\n",
      "내 마음이 움찔했던 순간 (취향저격 그녀 X 규현)-규현 (KYUHYUN)\n",
      "Freak (Prod. Slom)-릴보이 (lIlBOI)\n",
      "Santa Tell Me-Ariana Grande\n",
      "어떻게 이별까지 사랑하겠어, 널 사랑하는 거지-AKMU (악동뮤지션)\n",
      "나랑 같이 걸을래 (바른연애 길잡이 X 적재)-적재\n",
      "When We Disco (Duet with 선미)-박진영\n",
      "악역 (Feat. 이하이 & 사이먼 도미닉) (Prod. 코드 쿤스트)-스윙스\n",
      "뿌리 (Feat. JUSTHIS) (Prod. GroovyRoom)-Khundi Panda\n",
      "에잇(Prod.&Feat. SUGA of BTS)-아이유\n",
      "혼술하고 싶은 밤-벤\n",
      "흔들리는 꽃들 속에서 네 샴푸향이 느껴진거야-장범준\n",
      "딩가딩가 (Dingga)-마마무 (Mamamoo)\n",
      "Snowman-Sia\n",
      "DON'T TOUCH ME-환불원정대\n",
      "미리 메리 크리스마스 (Feat. 천둥 Of MBLAQ)-아이유\n",
      "늦은 밤 너의 집 앞 골목길에서-노을\n",
      "어떻게 지내 (Prod. By VAN.C)-오반 (OVAN)\n",
      "How You Like That-BLACKPINK\n",
      "아로하-조정석\n",
      "Dolphin-오마이걸 (OH MY GIRL)\n",
      "모든 날, 모든 순간 (Every day, Every Moment)-폴킴\n",
      "METEOR-창모 (CHANGMO)\n",
      "Blueming-아이유\n",
      "고독하구만 (Feat. 수퍼비) (Prod. GroovyRoom)-머쉬베놈 (MUSHVENOM)\n",
      "서면역에서-순순희\n",
      "I CAN’T STOP ME-TWICE (트와이스)\n",
      "뻔한남자-이승기\n",
      "사실 나는 (Feat.전건호)-경서예지\n",
      "작은 것들을 위한 시 (Boy With Luv) (Feat. Halsey)-방탄소년단\n",
      "마리아 (Maria)-화사 (Hwa Sa)\n",
      "거짓말이라도 해서 널 보고싶어-백지영\n",
      "What Do I Call You-태연 (TAEYEON)\n",
      "Memories-Maroon 5\n",
      "마음을 드려요-아이유\n",
      "오늘도 빛나는 너에게 (To You My Light) (Feat.이라온)-마크툽 (MAKTUB)\n"
     ]
    }
   ],
   "source": [
    "# 멜론 인기차트 중 상위 50곡 크롤링 (정리)\n",
    "driver = webdriver.Chrome('C:/Users/name_/Desktop/데이터분석/datadown/chromedriver.exe')\n",
    "url = 'https://www.melon.com/chart/day/index.htm'\n",
    "driver.get(url)\n",
    "\n",
    "html = driver.page_source\n",
    "soup = BeautifulSoup(html, 'html.parser')\n",
    "\n",
    "songs = soup.select('#lst50')\n",
    "for song in songs:\n",
    "    title = song.select('div.ellipsis.rank01 > span > a')[0].text\n",
    "    singer = song.select('div.ellipsis.rank02 > a')[0].text\n",
    "    print(title, singer, sep='-')"
   ]
  },
  {
   "cell_type": "markdown",
   "metadata": {},
   "source": [
    "### selenium을 활용한 크롤링"
   ]
  },
  {
   "cell_type": "code",
   "execution_count": 84,
   "metadata": {},
   "outputs": [
    {
     "name": "stdout",
     "output_type": "stream",
     "text": [
      "VVS (Feat. JUSTHIS) (Prod. GroovyRoom)-미란이 (Mirani), 먼치맨, Khundi Panda, 머쉬베놈 (MUSHVENOM)\n",
      "밤하늘의 별을(2020)-경서\n",
      "Dynamite-방탄소년단\n",
      "잠이 오질 않네요-장범준\n",
      "내일이 오면 (Feat. 기리보이, BIG Naughty (서동현))-릴보이 (lIlBOI)\n",
      "힘든 건 사랑이 아니다-임창정\n",
      "취기를 빌려 (취향저격 그녀 X 산들)-산들\n",
      "Lovesick Girls-BLACKPINK\n",
      "Life Goes On-방탄소년단\n",
      "CREDIT (Feat. 염따, 기리보이, Zion.T)-릴보이 (lIlBOI)\n",
      "오래된 노래-스탠딩 에그\n",
      "ON AIR (Feat. 로꼬, 박재범 & GRAY)-릴보이 (lIlBOI)\n",
      "Savage Love (Laxed - Siren Beat) (BTS Remix)-Jawsh 685, Jason Derulo, 방탄소년단\n",
      "Achoo (Feat. pH-1, HAON) (Prod. GroovyRoom)-미란이 (Mirani)\n",
      "All I Want For Christmas Is You-Mariah Carey\n",
      "내 마음이 움찔했던 순간 (취향저격 그녀 X 규현)-규현 (KYUHYUN)\n",
      "Freak (Prod. Slom)-릴보이 (lIlBOI), 원슈타인, Chillin Homie, 스카이민혁 (Skyminhyuk)\n",
      "Santa Tell Me-Ariana Grande\n",
      "어떻게 이별까지 사랑하겠어, 널 사랑하는 거지-AKMU (악동뮤지션)\n",
      "나랑 같이 걸을래 (바른연애 길잡이 X 적재)-적재\n",
      "When We Disco (Duet with 선미)-박진영\n",
      "악역 (Feat. 이하이 & 사이먼 도미닉) (Prod. 코드 쿤스트)-스윙스\n",
      "뿌리 (Feat. JUSTHIS) (Prod. GroovyRoom)-Khundi Panda\n",
      "에잇(Prod.&Feat. SUGA of BTS)-아이유\n",
      "혼술하고 싶은 밤-벤\n",
      "흔들리는 꽃들 속에서 네 샴푸향이 느껴진거야-장범준\n",
      "딩가딩가 (Dingga)-마마무 (Mamamoo)\n",
      "Snowman-Sia\n",
      "DON'T TOUCH ME-환불원정대\n",
      "미리 메리 크리스마스 (Feat. 천둥 Of MBLAQ)-아이유\n",
      "늦은 밤 너의 집 앞 골목길에서-노을\n",
      "어떻게 지내 (Prod. By VAN.C)-오반 (OVAN)\n",
      "How You Like That-BLACKPINK\n",
      "아로하-조정석\n",
      "Dolphin-오마이걸 (OH MY GIRL)\n",
      "모든 날, 모든 순간 (Every day, Every Moment)-폴킴\n",
      "METEOR-창모 (CHANGMO)\n",
      "Blueming-아이유\n",
      "고독하구만 (Feat. 수퍼비) (Prod. GroovyRoom)-머쉬베놈 (MUSHVENOM)\n",
      "서면역에서-순순희\n",
      "I CAN’T STOP ME-TWICE (트와이스)\n",
      "뻔한남자-이승기\n",
      "사실 나는 (Feat.전건호)-경서예지\n",
      "작은 것들을 위한 시 (Boy With Luv) (Feat. Halsey)-방탄소년단\n",
      "마리아 (Maria)-화사 (Hwa Sa)\n",
      "거짓말이라도 해서 널 보고싶어-백지영\n",
      "What Do I Call You-태연 (TAEYEON)\n",
      "Memories-Maroon 5\n",
      "마음을 드려요-아이유\n",
      "오늘도 빛나는 너에게 (To You My Light) (Feat.이라온)-마크툽 (MAKTUB)\n"
     ]
    }
   ],
   "source": [
    "# 멜론 인기차트 중 상위 50곡 크롤링(selenium만 활용)\n",
    "driver = webdriver.Chrome('C:/Users/name_/Desktop/데이터분석/datadown/chromedriver')\n",
    "url = 'https://www.melon.com/chart/day/index.htm'\n",
    "driver.get(url)\n",
    "\n",
    "songs = driver.find_elements_by_css_selector('#lst50')\n",
    "for song in songs:\n",
    "    title = song.find_elements_by_css_selector('#lst50 > td:nth-child(6) > div > div > div.ellipsis.rank01 > span > a')[0].text\n",
    "    singer = song.find_elements_by_css_selector('#lst50 > td:nth-child(6) > div > div > div.ellipsis.rank02')[0].text\n",
    "    print(title, singer, sep='-')"
   ]
  },
  {
   "cell_type": "code",
   "execution_count": null,
   "metadata": {},
   "outputs": [],
   "source": [
    "# .select부분을 모두 .find_elements_by_css_selector()로 변경\n",
    "# 이처럼 selenium만 활용하여 크롤링 할 경우 웹 페이지에 계속 접속한 상태로 정보를 가져온다는 특성을 가짐\n",
    "# 또한 속도도 느려진다"
   ]
  }
 ],
 "metadata": {
  "kernelspec": {
   "display_name": "Python 3",
   "language": "python",
   "name": "python3"
  },
  "language_info": {
   "codemirror_mode": {
    "name": "ipython",
    "version": 3
   },
   "file_extension": ".py",
   "mimetype": "text/x-python",
   "name": "python",
   "nbconvert_exporter": "python",
   "pygments_lexer": "ipython3",
   "version": "3.8.5"
  }
 },
 "nbformat": 4,
 "nbformat_minor": 4
}
